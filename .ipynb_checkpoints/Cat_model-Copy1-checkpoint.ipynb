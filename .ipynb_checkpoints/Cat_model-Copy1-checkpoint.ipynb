{
 "cells": [
  {
   "cell_type": "code",
   "execution_count": 1,
   "metadata": {
    "collapsed": true
   },
   "outputs": [],
   "source": [
    "import numpy as np\n",
    "import matplotlib.pyplot as plt\n",
    "#%matplotlib inline\n",
    "#%matplotlib notebook\n",
    "import time"
   ]
  },
  {
   "cell_type": "code",
   "execution_count": 2,
   "metadata": {
    "collapsed": true
   },
   "outputs": [],
   "source": [
    "# initial vales\n",
    "L = 0.1 # wall thickness\n",
    "n = 10\n",
    "T0 = 0\n",
    "T1s = 40\n",
    "T2s = 20\n",
    "dx = L/n\n",
    "alpha = 0.0001\n",
    "t_final = 60\n",
    "dt = 0.1 # time step"
   ]
  },
  {
   "cell_type": "code",
   "execution_count": 3,
   "metadata": {
    "collapsed": true
   },
   "outputs": [],
   "source": [
    "# parameters to define\n",
    "# s , catalyst relative activity\n",
    "# Tw , avarege wall temperature\n",
    "# M_T, adsorption capacity of catalyst for thiophene, kmol(thiophene)/kg(catalyst)\n",
    "# P, pressure, Pa\n",
    "# u, superficial gas velocity, m/s\n",
    "# W, reaction zone velocity, m/s\n",
    "# W_T, weight fraction catalyst in catalyst-diluent mixture\n",
    "# xB,xT,xH, mole fraction of benzene, thiophene and hydrogen, respectively\n",
    "# a, constant\n",
    "# cB,cT, concentration of benzene and thiophene, respectively, kmol/m3\n",
    "# C_pc, C_pd, C_pd, heat capacity of catalyst, diluent and gaseous mixture, respectively, J/g/K\n",
    "# <rho,C_p> , average volumetric het cpacity, J/m3/K\n",
    "# dp, catalyst pellet diameter, m\n",
    "# D_B, D_T, axial dispersion coefficient of benzene and thiophene, respectively, m2/s\n",
    "# D_m, molecular diffusivity of benzene or thiophene in hydrogen, m2/s\n",
    "# e, constant\n",
    "# E,Ed, activation energy for hydrogenation of benzene and poisoning of Ni by thiophene\n",
    "# -rB, rate of benzene hydrogenation, kmol/kg(catalyst)s\n",
    "# -rD, rate of deactivation, 1/s\n",
    "# -rT, rate of thiophene chemisorption, kmol(thiophene)/kg(catalyst)s\n",
    "# R, universal gas constant, J/kmol K\n",
    "# z, length variable, m\n",
    "# z1, distance from entrance of the reactor to end of entry diluent zone, m\n",
    "# z2, distance from the reactor entrance to end of catalyst zone, m\n",
    "# alpha, thermal diffusivity or wall heat transfer coefficient, J/m2 K\n",
    "# e (epsilon), bed voidage\n",
    "# lambd_e, effective thermal conductivity\n",
    "# (lambd_e)_cat,(lambd_e)_dil, effective thermal conductivity of catalyst zone, respectively, W/m K\n",
    "# rho_B,rho_g, catalyst bulk density and gaseous mixture density, kg/m3\n"
   ]
  },
  {
   "cell_type": "code",
   "execution_count": 4,
   "metadata": {
    "collapsed": true
   },
   "outputs": [],
   "source": [
    "# Correlations and equations used to computed respective physical properties\n",
    "\n",
    "# Cp,Benzene (J/kmol K), 1.1196*10^5+2.7528*10^2(T-400)-2.1562*10^-1(T-400)^2\n",
    "# Cp,H2 (J/kmol K), 2.9199*10^4+2.0515(T-400)-1.256*10^-2(T-400)^-2(T-400)^2\n",
    "# Cp,mixture (J/kmol K), Cp,benzene*xB+Cp,H2*xH2\n",
    "# MW_g, molecular weight of gaseous mixture, kg/mol, 2.016xH2 + 78.114xB\n",
    "# rho_g(kg/m3), MW_g*273.16P/(22.161 + 1.0132*10^5T0)\n",
    "# D_B,T(m2/s), \n",
    "# <rho*Cp>, (rho*Cp)(catalyst+diluent)+(rho*Cp)(reactor wall +thermo-well)+rho_g*epsilon*Cp_g\n",
    "# (rho*Cp)(catalyst+diluent) = [W_T*Cp_c+(1-W_T)*Cp_d]*rho_B\n",
    "# "
   ]
  },
  {
   "cell_type": "code",
   "execution_count": 5,
   "metadata": {
    "collapsed": true
   },
   "outputs": [],
   "source": [
    "# boundary conditions\n",
    "# xi = xi0, z = z1\n",
    "# dx/dz = 0, z = z2\n",
    "# T = T0, Z = 0\n",
    "# dT/dz=0, Z = RL\n"
   ]
  },
  {
   "cell_type": "code",
   "execution_count": 6,
   "metadata": {},
   "outputs": [
    {
     "ename": "ZeroDivisionError",
     "evalue": "division by zero",
     "output_type": "error",
     "traceback": [
      "\u001b[1;31m---------------------------------------------------------------------------\u001b[0m",
      "\u001b[1;31mZeroDivisionError\u001b[0m                         Traceback (most recent call last)",
      "\u001b[1;32m<ipython-input-6-d3703e9018e6>\u001b[0m in \u001b[0;36m<module>\u001b[1;34m()\u001b[0m\n\u001b[0;32m     17\u001b[0m \u001b[0mDeltaH\u001b[0m \u001b[1;33m=\u001b[0m \u001b[1;36m2.062e8\u001b[0m\u001b[1;33m\u001b[0m\u001b[0m\n\u001b[0;32m     18\u001b[0m \u001b[1;33m\u001b[0m\u001b[0m\n\u001b[1;32m---> 19\u001b[1;33m \u001b[0malph\u001b[0m \u001b[1;33m=\u001b[0m \u001b[0mlamda\u001b[0m\u001b[1;33m/\u001b[0m\u001b[1;33m(\u001b[0m\u001b[0mrho_f\u001b[0m\u001b[1;33m*\u001b[0m\u001b[0mCp\u001b[0m\u001b[1;33m)\u001b[0m \u001b[1;31m# this is likely to change with time as the conc. changes\u001b[0m\u001b[1;33m\u001b[0m\u001b[0m\n\u001b[0m\u001b[0;32m     20\u001b[0m \u001b[0mbet\u001b[0m \u001b[1;33m=\u001b[0m \u001b[1;33m(\u001b[0m\u001b[0mu\u001b[0m\u001b[1;33m*\u001b[0m\u001b[0mrho_g\u001b[0m\u001b[1;33m*\u001b[0m\u001b[0mCp_g\u001b[0m\u001b[1;33m)\u001b[0m\u001b[1;33m/\u001b[0m\u001b[1;33m(\u001b[0m\u001b[0mrho_f\u001b[0m\u001b[1;33m*\u001b[0m\u001b[0mCp\u001b[0m\u001b[1;33m)\u001b[0m\u001b[1;33m\u001b[0m\u001b[0m\n",
      "\u001b[1;31mZeroDivisionError\u001b[0m: division by zero"
     ]
    }
   ],
   "source": [
    "rho_B = 0\n",
    "rho_g = 0\n",
    "u = 0\n",
    "e = 0\n",
    "lamda = 0\n",
    "rho_f = 0\n",
    "Cp_g = 0\n",
    "Cp = 0\n",
    "Q = 6.89e7 # benzene adsorption energy, J/kmol\n",
    "E = 5.76e7\n",
    "R = 8.314\n",
    "k0 = 3.17e-2 # pre-exponential factor of benzene hydrogenation rate constant,kmol/kg(catalyst)/s/Pa\n",
    "K0 = 3.17e-3 # pre-exponential factor of adsorption rate constant for benzene, Pa-1\n",
    "kd0 = 1.80e-4 # pre-exponential factor of poisoning rate constant, 1/(Pa s)\n",
    "RR = 0        # total reactor length (RL) or (RR) reactor radius respectively\n",
    "Ed = 4.53e6\n",
    "DeltaH = 2.062e8\n",
    "\n",
    "alph = lamda/(rho_f*Cp) # this is likely to change with time as the conc. changes\n",
    "bet = (u*rho_g*Cp_g)/(rho_f*Cp)\n"
   ]
  },
  {
   "cell_type": "code",
   "execution_count": null,
   "metadata": {
    "collapsed": true
   },
   "outputs": [],
   "source": [
    "x = np.linspace(dx/2,L-dx/2, n)\n",
    "T = np.ones(n)*T0\n",
    "dTdt = np.empty(n)\n",
    "t = np.arange(0,t_final, dt)"
   ]
  },
  {
   "cell_type": "code",
   "execution_count": null,
   "metadata": {},
   "outputs": [],
   "source": [
    "fig = plt.figure()\n",
    "ax = fig.add_subplot(111)\n",
    "\n",
    "for j in range(1,len(t)):\n",
    "    for i in range(1,n-1):\n",
    "           \n",
    "    dAdt[i] = (cA[i+1]-2*cA[i]+cA[i-1])/dz**2 - u*(cA[i+1]-cA[i])/dz**2 + Mw*rho_A*rB*s\n",
    "    dHdt[i] = (cH[i+1]-2*cH[i]+cH[i-1])/dz**2 - u*(cH[i+1]-cH[i])/dz**2 + Mw*rho_A*rB*s\n",
    "    dSdt[i] = (cS[i+1]-2*cS[i]+cS[i-1])/dz**2 - u*(cS[i+1]-cS[i])/dz**2 + Mw*rho_S*rS*s\n",
    "    dTdt[i] = alph*(T[i+1]-2*T[i]+cS[i-1])/dz**2 - bet*(T[i+1]-T[i])/dz**2 - delta_H/(rho_f*Cp)*rho_g*e/Mw*rB*s+(2*alpha*Tw-T[i])/(RR*rho_f*Cp)\n",
    "    dS/dt[i] = -kd0*exp(-Ed/R*T[i])*pS*s\n",
    "    \n",
    "    -rA = k0*K0*exp((Q-E)/(R*T[i]))*pA*pH/(1+k0*(Q/R*T[i]))\n",
    "    -rS = kd0*exp((Q-E)/(R*T[i]))*pS*s\n",
    "    \n",
    "#     dTdt[0] = alpha*(-(T[0]-T1s)/dx**2 + (T[1]-T[0])/dx**2)\n",
    "#     dTdt[n-1] = alpha*(-(T[n-1]-T[n-2])/dx**2 + (T2s-T[n-1])/dx**2)\n",
    "    T = T + dTdt*dt\n",
    "    \n",
    "    \n",
    "    \n",
    "    \n",
    "    \n",
    "#     ax.plot(x,T)\n",
    "#     ax.set(xlim=(0, L), ylim=(0, 50))\n",
    "#     ax.set_xlabel('Distance (m)')\n",
    "#     ax.set_ylabel('Temp.(C)')\n",
    "#     fig.canvas.draw()\n",
    "#     plt.pause(0.05)\n",
    "   \n",
    "    \n",
    "    \n",
    "    \n",
    "    \n",
    "\n",
    "\n",
    "        \n",
    "        "
   ]
  },
  {
   "cell_type": "code",
   "execution_count": null,
   "metadata": {
    "collapsed": true
   },
   "outputs": [],
   "source": []
  },
  {
   "cell_type": "code",
   "execution_count": null,
   "metadata": {
    "collapsed": true
   },
   "outputs": [],
   "source": []
  }
 ],
 "metadata": {
  "kernelspec": {
   "display_name": "Python 3",
   "language": "python",
   "name": "python3"
  },
  "language_info": {
   "codemirror_mode": {
    "name": "ipython",
    "version": 3
   },
   "file_extension": ".py",
   "mimetype": "text/x-python",
   "name": "python",
   "nbconvert_exporter": "python",
   "pygments_lexer": "ipython3",
   "version": "3.6.3"
  }
 },
 "nbformat": 4,
 "nbformat_minor": 2
}
