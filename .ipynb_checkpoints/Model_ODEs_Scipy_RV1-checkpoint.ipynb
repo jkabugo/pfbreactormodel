{
 "cells": [
  {
   "cell_type": "code",
   "execution_count": 1,
   "metadata": {
    "collapsed": true
   },
   "outputs": [],
   "source": [
    "import numpy as np\n",
    "#import scipy\n",
    "from scipy import integrate, LowLevelCallable\n",
    "from scipy.integrate import odeint,solve_ivp\n",
    "import matplotlib.pyplot as plt\n",
    "import os, ctypes\n"
   ]
  },
  {
   "cell_type": "code",
   "execution_count": null,
   "metadata": {
    "collapsed": true
   },
   "outputs": [],
   "source": []
  },
  {
   "cell_type": "code",
   "execution_count": 2,
   "metadata": {},
   "outputs": [],
   "source": [
    "# Kinetic correlations and parameters\n",
    "# Billimoria 1981, Weng 1975 and Price 1977, the hydrogenation of Benzene example!!\n",
    "prams = {'k0':3.17e-2,              # kmol/kgsPa\n",
    "        'K0':3.17e13,                  # 1/Pa\n",
    "        'E' :5.76e7,                    # J/kmol\n",
    "        'Q':6.89e7,                    # J/kmol\n",
    "        'kd0':1.80e-4,                 # 1/Pa/s\n",
    "        'Ed':4.53e6,                   # J/kmol\n",
    "        'R':8.3145,                    # J/mol/K\n",
    "        'MT':4.05e-4,                  # kg/kmol (from Weng, 1.03e-3, mol/kg_catalyst)\n",
    "        'DeB':4.5e-5,                  # m2/s\n",
    "        'rho_Cp':1.46e-6,              # J/m3/oC\n",
    "        'e':0.58\n",
    "        }                  \n"
   ]
  },
  {
   "cell_type": "code",
   "execution_count": 3,
   "metadata": {
    "collapsed": true
   },
   "outputs": [],
   "source": [
    "def lambda_e(LeH,rho_g,Cp_g,U,dp):\n",
    "    return 5.1*LeH+0.8*rho_g*Cp_g*U*dp"
   ]
  },
  {
   "cell_type": "code",
   "execution_count": 4,
   "metadata": {
    "collapsed": true
   },
   "outputs": [],
   "source": [
    "def cp_g(xH,xB):\n",
    "    return (2.902*xH + 96.86*xB)*10^4"
   ]
  },
  {
   "cell_type": "code",
   "execution_count": 5,
   "metadata": {
    "collapsed": true
   },
   "outputs": [],
   "source": [
    "def MW_g(xH,xB):\n",
    "    return 2.106*xH + 78.12*xB"
   ]
  },
  {
   "cell_type": "code",
   "execution_count": 6,
   "metadata": {
    "collapsed": true
   },
   "outputs": [],
   "source": [
    "def rho_g(cB,xB,xH):\n",
    "    return cB*MW_g(xB,xH)/xB"
   ]
  },
  {
   "cell_type": "code",
   "execution_count": 7,
   "metadata": {
    "collapsed": true
   },
   "outputs": [],
   "source": [
    "def r_B(P,xB,xH,T,prams):\n",
    "    k0 = prams['k0']                 \n",
    "    K0 = prams['K0']                 \n",
    "    E =  prams['E']                 \n",
    "    Q =  prams['Q']\n",
    "    R =  prams['R']\n",
    "    r = (k0*K0*np.exp((Q-E)/(R*T))*P**2*xB*xH)/(1 + K0*np.exp(Q/(R*T))*P*xB)\n",
    "    return r\n",
    "\n",
    "def r_D(P,xT,T,s,prams):\n",
    "    kd0 = prams['k0']   \n",
    "    Ed =  prams['Ed']                 \n",
    "    R =  prams['R']   \n",
    "    r = (kd0*np.exp((-Ed)/(R*T))*P**xT*s)\n",
    "    return r"
   ]
  },
  {
   "cell_type": "code",
   "execution_count": null,
   "metadata": {
    "collapsed": true
   },
   "outputs": [],
   "source": []
  },
  {
   "cell_type": "code",
   "execution_count": 8,
   "metadata": {
    "collapsed": true
   },
   "outputs": [],
   "source": [
    "params = {'D':0.01,'U':0.005,'k':0.055,'Le':0.0024,'DeltaH':2.062e10}"
   ]
  },
  {
   "cell_type": "code",
   "execution_count": 9,
   "metadata": {
    "collapsed": true
   },
   "outputs": [],
   "source": [
    "def R(c,k):\n",
    "    r = k*c\n",
    "    return r"
   ]
  },
  {
   "cell_type": "code",
   "execution_count": 10,
   "metadata": {
    "collapsed": true
   },
   "outputs": [],
   "source": [
    "def H(DeltaH,r):\n",
    "    Q = DeltaH*r\n",
    "    return Q"
   ]
  },
  {
   "cell_type": "code",
   "execution_count": null,
   "metadata": {
    "collapsed": true
   },
   "outputs": [],
   "source": []
  },
  {
   "cell_type": "code",
   "execution_count": 11,
   "metadata": {
    "collapsed": true
   },
   "outputs": [],
   "source": [
    "def mass_energy_bal(y, t,D,U,k,Le,DeltaH):\n",
    "    # Define concentrations and Temps according to the output y\n",
    "    c = y[::2]\n",
    "    T = y[1::2]\n",
    "    dx = c[1]-c[0]\n",
    "\n",
    "    # initialize the output derivatives\n",
    "    dydt = np.empty_like(y)\n",
    "\n",
    "    # from the interleaved output derivatives slice out dcdt and dTdt\n",
    "    # vectors in dydt.\n",
    "    dcdt = dydt[::2]\n",
    "    dTdt = dydt[1::2]\n",
    "\n",
    "    # Compute dc/dt and dT/dt considering the boundaries (end points) and the interior points\n",
    "    dcdt[0]    = D * (-2.0*c[0] + 2.0*c[1]) / dx**2 + R(c[0], k) + U*0\n",
    "    dcdt[1:-1] = D * np.diff(c,2) / dx**2 + R(c[1:-1], k) + U\n",
    "    dcdt[-1]   = D * (- 2.0*c[-1] + 2.0*c[-2]) / dx**2 + U*0 + R(c[-1],k)\n",
    "    \n",
    "    dTdt[0]    = Le * (-2.0*T[0] + 2.0*T[1]) / dx**2 + H(DeltaH,R(c[0], k)) + U*0 \n",
    "    dTdt[1:-1] = Le * np.diff(T,2) / dx**2 + U + H(DeltaH,R(c[1:-1], k))\n",
    "    dTdt[-1]   = Le * (-2.0*T[-1] + 2.0*T[-2]) / dx**2 + U*0 + H(DeltaH,R(c[-1],k))\n",
    "    return dydt"
   ]
  },
  {
   "cell_type": "code",
   "execution_count": 12,
   "metadata": {
    "collapsed": true
   },
   "outputs": [],
   "source": [
    "# dcdt[0]    = D * (-2.0*c[0] + 2.0*c[1]) / dx**2 + R(c[0], k) + U*(c[0]-c[0])/(dx) \n",
    "# dcdt[1:-1] = D * np.diff(c,2) / dx**2 + R(c[1:-1], k) + U*np.diff(c,1)/(dx) \n",
    "# dcdt[-1]   = D * (- 2.0*c[-1] + 2.0*c[-2]) / dx**2 + U*(c[-2]-c[-2])/(dx) + R(c[-1],k)\n",
    "    \n",
    "# dTdt[0]    = Le * (-2.0*T[0] + 2.0*T[1]) / dx**2 + U*(T[0]-T[0])/(dx)+ H(DeltaH,R(c[0], k)) \n",
    "# dTdt[1:-1] = Le * np.diff(T,2) / dx**2 + U*np.diff(T)/(dx) + H(DeltaH,R(c[1:-1], k))\n",
    "# dTdt[-1]   = Le * (-2.0*T[-1] + 2.0*T[-2]) / dx**2 + U*(T[-2]-T[-2])/(dx)+ H(DeltaH,R(c[-1],k))\n"
   ]
  },
  {
   "cell_type": "code",
   "execution_count": 13,
   "metadata": {
    "collapsed": true
   },
   "outputs": [],
   "source": [
    "y0 = np.array([0.5,1,170,180,0.2,160])\n",
    "t = np.linspace(0, 50, 101)\n",
    "D = params['D']\n",
    "U = params['U']\n",
    "k = params['k']\n",
    "Le = params['Le']\n",
    "DeltaH = params['DeltaH']"
   ]
  },
  {
   "cell_type": "code",
   "execution_count": 14,
   "metadata": {
    "collapsed": true
   },
   "outputs": [],
   "source": [
    "solb = odeint(mass_energy_bal, y0, t, args= (D, U, k, Le, DeltaH), ml=2, mu=2)"
   ]
  },
  {
   "cell_type": "code",
   "execution_count": 15,
   "metadata": {},
   "outputs": [
    {
     "data": {
      "image/png": "[encoded data removed]",
      "text/plain": [
       "<Figure size 432x288 with 1 Axes>"
      ]
     },
     "metadata": {
      "needs_background": "light"
     },
     "output_type": "display_data"
    }
   ],
   "source": [
    "plt.figure()\n",
    "plt.plot(solb)\n",
    "plt.show()"
   ]
  },
  {
   "cell_type": "code",
   "execution_count": null,
   "metadata": {
    "collapsed": true
   },
   "outputs": [],
   "source": []
  },
  {
   "cell_type": "code",
   "execution_count": 16,
   "metadata": {
    "collapsed": true
   },
   "outputs": [],
   "source": [
    "def mass_energy_bal2(t,y):\n",
    "    \n",
    "    Params = {'D':0.4e-4,'U':0.01,'k':0.055,\n",
    "              'Le':1.58,'DeltaH':2.062e8}\n",
    "    \n",
    "    D = params['D']\n",
    "    U = params['U']\n",
    "    k = params['k']\n",
    "    Le = params['Le']\n",
    "    DeltaH = params['DeltaH']\n",
    "       \n",
    "    c = y[::2]\n",
    "    T = y[1::2]\n",
    "    dx = c[1]-c[0]\n",
    "\n",
    "    # initialize the output derivatives\n",
    "    dydt = np.empty_like(y)\n",
    "\n",
    "    # slice out concentrations and Temps derivatives.\n",
    "    dcdt = dydt[::2]\n",
    "    dTdt = dydt[1::2]\n",
    "\n",
    "    # Compute dc/dt and dT/dt considering the boundaries (end points) and the interior points\n",
    "    \n",
    "    dcdt[0]    = D * (-2.0*c[0] + 2.0*c[1]) / dx**2 + R(c[0], k) + U\n",
    "    dcdt[1:-1] = D * np.diff(c,2) / dx**2 + R(c[1:-1], k) + U\n",
    "    dcdt[-1]   = D * (- 2.0*c[-1] + 2.0*c[-2]) / dx**2 + U + R(c[-1],k)\n",
    "    \n",
    "    dTdt[0]    = Le * (-2.0*T[0] + 2.0*T[1]) / dx**2 + H(DeltaH,R(c[0], k)) + U \n",
    "    dTdt[1:-1] = Le * np.diff(T,2) / dx**2 + U + H(DeltaH,R(c[1:-1], k))\n",
    "    dTdt[-1]   = Le * (-2.0*T[-1] + 2.0*T[-2]) / dx**2 + U + H(DeltaH,R(c[-1],k))\n",
    "\n",
    "    return dydt"
   ]
  },
  {
   "cell_type": "code",
   "execution_count": 17,
   "metadata": {
    "collapsed": true
   },
   "outputs": [],
   "source": [
    "solc = solve_ivp(mass_energy_bal2,t,y0, method='RK45',dense_output=True)\n"
   ]
  },
  {
   "cell_type": "code",
   "execution_count": 18,
   "metadata": {},
   "outputs": [
    {
     "data": {
      "text/plain": [
       "  message: 'The solver successfully reached the end of the integration interval.'\n",
       "     nfev: 62\n",
       "     njev: 0\n",
       "      nlu: 0\n",
       "      sol: <scipy.integrate._ivp.common.OdeSolution object at 0x000001E65AD3BD68>\n",
       "   status: 0\n",
       "  success: True\n",
       "        t: array([0.00000000e+00, 2.01889898e-09, 2.22078888e-08, 2.24097787e-07,\n",
       "       2.24299677e-06, 2.24319866e-05, 2.24321885e-04, 2.24322087e-03,\n",
       "       2.24322107e-02, 2.24322109e-01, 5.00000000e-01])\n",
       " t_events: None\n",
       "        y: array([[5.00000000e-01, 5.00000000e-01, 5.00000001e-01, 5.00000007e-01,\n",
       "        5.00000073e-01, 5.00000732e-01, 5.00007317e-01, 5.00073174e-01,\n",
       "        5.00732144e-01, 5.07362097e-01, 5.16534504e-01],\n",
       "       [1.00000000e+00, 2.14481667e+00, 1.35929834e+01, 1.28074651e+02,\n",
       "        1.27289141e+03, 1.27210673e+04, 1.27203656e+05, 1.27211255e+06,\n",
       "        1.27295053e+07, 1.28137205e+08, 2.88195442e+08],\n",
       "       [1.70000000e+02, 1.70000000e+02, 1.70000000e+02, 1.70000002e+02,\n",
       "        1.70000021e+02, 1.70000210e+02, 1.70002099e+02, 1.70020986e+02,\n",
       "        1.70209980e+02, 1.72111506e+02, 1.74742350e+02],\n",
       "       [1.80000000e+02, 5.69237668e+02, 4.46161435e+03, 4.33853814e+04,\n",
       "        4.32623075e+05, 4.32500239e+06, 4.32490334e+07, 4.32513128e+08,\n",
       "        4.32753354e+09, 4.35166642e+10, 9.77369085e+10],\n",
       "       [2.00000000e-01, 2.00000000e-01, 2.00000000e-01, 2.00000004e-01,\n",
       "        2.00000036e-01, 2.00000362e-01, 2.00003616e-01, 2.00036159e-01,\n",
       "        2.00361788e-01, 2.03637902e-01, 2.08170124e-01],\n",
       "       [1.60000000e+02, 1.60457927e+02, 1.65037193e+02, 2.10829861e+02,\n",
       "        6.68756574e+02, 5.24802781e+03, 5.10411507e+04, 5.09013433e+05,\n",
       "        5.09284320e+06, 5.13435036e+07, 1.15719966e+08]])\n",
       " y_events: None"
      ]
     },
     "execution_count": 18,
     "metadata": {},
     "output_type": "execute_result"
    }
   ],
   "source": [
    "solc"
   ]
  },
  {
   "cell_type": "code",
   "execution_count": 19,
   "metadata": {},
   "outputs": [
    {
     "data": {
      "text/plain": [
       "(11,)"
      ]
     },
     "execution_count": 19,
     "metadata": {},
     "output_type": "execute_result"
    }
   ],
   "source": [
    "solc.y[0].shape"
   ]
  },
  {
   "cell_type": "code",
   "execution_count": 20,
   "metadata": {},
   "outputs": [],
   "source": [
    "x_solc1 = solc.sol(t).T"
   ]
  },
  {
   "cell_type": "code",
   "execution_count": null,
   "metadata": {},
   "outputs": [],
   "source": []
  },
  {
   "cell_type": "code",
   "execution_count": 21,
   "metadata": {},
   "outputs": [
    {
     "data": {
      "image/png": "[encoded data removed]",
      "text/plain": [
       "<Figure size 432x288 with 1 Axes>"
      ]
     },
     "metadata": {
      "needs_background": "light"
     },
     "output_type": "display_data"
    }
   ],
   "source": [
    "plt.figure()\n",
    "plt.plot(t, x_solc1, linewidth=1)\n",
    "plt.xlabel('t')\n",
    "plt.ylabel('x')\n",
    "plt.show()"
   ]
  },
  {
   "cell_type": "code",
   "execution_count": null,
   "metadata": {
    "collapsed": true
   },
   "outputs": [],
   "source": []
  },
  {
   "cell_type": "code",
   "execution_count": null,
   "metadata": {
    "collapsed": true
   },
   "outputs": [],
   "source": []
  },
  {
   "cell_type": "code",
   "execution_count": null,
   "metadata": {
    "collapsed": true
   },
   "outputs": [],
   "source": []
  }
 ],
 "metadata": {
  "kernelspec": {
   "display_name": "Python 3",
   "language": "python",
   "name": "python3"
  },
  "language_info": {
   "codemirror_mode": {
    "name": "ipython",
    "version": 3
   },
   "file_extension": ".py",
   "mimetype": "text/x-python",
   "name": "python",
   "nbconvert_exporter": "python",
   "pygments_lexer": "ipython3",
   "version": "3.6.3"
  }
 },
 "nbformat": 4,
 "nbformat_minor": 2
}
