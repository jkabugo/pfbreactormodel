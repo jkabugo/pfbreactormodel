{
 "cells": [
  {
   "cell_type": "code",
   "execution_count": null,
   "metadata": {},
   "outputs": [],
   "source": [
    "import numpy as np\n",
    "from scipy.integrate import odeint\n",
    "import matplotlib.pyplot as plt\n"
   ]
  },
  {
   "cell_type": "code",
   "execution_count": null,
   "metadata": {},
   "outputs": [],
   "source": [
    "def f(y,t):\n",
    "    dydt = y*np.exp(-t)\n",
    "    return dydt\n",
    "t = np.linspace(0,10) # linspace(start,stop,num =?)\n",
    "y0 = 0.2\n",
    "y = odeint(f,y0,t)\n",
    "\n",
    "plt.figure(figsize = (6,4))\n",
    "plt.plot(t,y)\n",
    "plt.xlabel('Time (sec)')\n",
    "plt.ylabel('y(t)')\n",
    "plt.show()\n"
   ]
  },
  {
   "cell_type": "code",
   "execution_count": null,
   "metadata": {},
   "outputs": [],
   "source": [
    "# given a reaction of A to B, solve conc. of A, A_0 = 1.0\n",
    "\n",
    "def rxn(c,t):\n",
    "    cA = c[0]\n",
    "    cB = c[1]\n",
    "    k = 2.0\n",
    "    r = -k*cA\n",
    "    dAdt = r\n",
    "    dBdt = -r\n",
    "    return [dAdt,dBdt]\n",
    "\n",
    "#initial conditions\n",
    "c0 = [1,0]\n",
    "t = np.linspace(0,6) # tspan\n",
    "\n",
    "c = odeint(rxn,c0,t)\n",
    "plt.figure(figsize = (6,4))\n",
    "plt.plot(t,c[:,0],label = 'cA')\n",
    "plt.plot(t,c[:,1],label ='cB')\n",
    "plt.xlabel('Time (sec)')\n",
    "plt.ylabel('concentration')\n",
    "plt.legend()\n",
    "plt.show()\n"
   ]
  },
  {
   "cell_type": "code",
   "execution_count": null,
   "metadata": {},
   "outputs": [],
   "source": [
    "# Reaction  A+B = C and B+C = D\n",
    "\n",
    "def mult_rxn(c,t):\n",
    "    cA = c[0]\n",
    "    cB = c[1]\n",
    "    cC = c[2]\n",
    "    cD = c[3]\n",
    "    k1 = 1.0\n",
    "    k2 = 1.5\n",
    "    r1 = k1*cA*cB\n",
    "    r2 = k2*cB*cC\n",
    "    dAdt = -r1\n",
    "    dBdt = -r1-r2\n",
    "    dCdt = r1-r2\n",
    "    dDdt = r2\n",
    "    return [dAdt,dBdt,dCdt,dDdt]\n",
    "\n",
    "# for the solver\n",
    "c0 = [1,1,0,0] # initial A and B = 1; C and D = 0\n",
    "t = np.arange(0,3.01,0.2)\n",
    "c = odeint(mult_rxn,c0,t)\n",
    "\n",
    "cA = c[:,0]\n",
    "cB = c[:,1]\n",
    "cC = c[:,2]\n",
    "cD = c[:,3]\n",
    "\n",
    "# selectivity\n",
    "S = np.empty(len(cC))\n",
    "for i in range(len(cC)):\n",
    "    if abs(cC[i]+cD[i] > 1e-10):\n",
    "        S[i] = cC[i]/(cC[i]+cD[i])\n",
    "    else:\n",
    "        S[i] = 1.0\n",
    "        \n",
    "plt.figure(figsize = (6,4))\n",
    "plt.plot(t,cA,label = 'cA')\n",
    "plt.plot(t,cB,label ='cB')\n",
    "plt.plot(t,cC,label = 'cC')\n",
    "plt.plot(t,cD,label ='cD')\n",
    "plt.plot(t,S,label ='Sel')\n",
    "plt.xlabel('Time (sec)')\n",
    "plt.ylabel('concentration')\n",
    "plt.legend()\n",
    "plt.savefig('mult_rxns.png')\n",
    "plt.show()"
   ]
  },
  {
   "cell_type": "code",
   "execution_count": null,
   "metadata": {},
   "outputs": [],
   "source": []
  },
  {
   "cell_type": "code",
   "execution_count": null,
   "metadata": {
    "collapsed": true
   },
   "outputs": [],
   "source": [
    "# solving the Heat Equation\n",
    "# given details"
   ]
  },
  {
   "cell_type": "code",
   "execution_count": null,
   "metadata": {},
   "outputs": [],
   "source": [
    "l = 0.1 # wall thickness\n",
    "n = 10 # num of slices\n",
    "T0 = 0 # initial wall temps\n",
    "T1s = 40 # wall surface temp. at the beginning\n",
    "T2s = 20 # wall surface temp. at the end\n",
    "dx = l/n\n",
    "alpha = 0.0001 # thermal diffisivity\n",
    "t_final = 60\n",
    "dt = 0.1\n",
    "\n",
    "# points to plot or visualize\n",
    "x = np.linspace(dx/2,l-dx/2,n)\n",
    "# Temp. measurements along x of the wall \n",
    "T = np.ones(n)*T0 # \n",
    "# derivative vector, to be over written\n",
    "dTdt = np.empty(n)\n",
    "# time vector\n",
    "t = np.arange(0,t_final,dt)\n",
    "\n",
    "#through time, t and space, x\n",
    "#plt.clf() didn't work\n",
    "for j in range(1,len(t)):    \n",
    "    for i in range(1,n-1):\n",
    "        dTdt[i] = alpha*(-(T[i]-T[i-1])/dx**2+(T[i+1]-T[i])/dx**2)\n",
    "    dTdt[0] = alpha*(-(T[0]-T1s)/dx**2+(T[1]-T[0])/dx**2)\n",
    "    dTdt[n-1] = alpha*(-(T[n-1]-T[n-2])/dx**2+(T2s-T[n-1])/dx**2)\n",
    "    T = T + dTdt*dt\n",
    "plt.figure()\n",
    "plt.plot(x,T)\n",
    "plt.axis([0, l,0, 50])\n",
    "plt.xlabel('Distance x, (m)')\n",
    "plt.ylabel('Temp., (C)')\n",
    "plt.show()\n",
    "    #plt.pause(0.01)"
   ]
  },
  {
   "cell_type": "code",
   "execution_count": null,
   "metadata": {
    "collapsed": true
   },
   "outputs": [],
   "source": [
    "# Solve the heat equation using the odeint solver"
   ]
  },
  {
   "cell_type": "code",
   "execution_count": null,
   "metadata": {},
   "outputs": [],
   "source": [
    "def heat_eqn(T,t):\n",
    "    l = 0.1\n",
    "    n = 10\n",
    "    T0 = 0\n",
    "    T1s = 40\n",
    "    T2s = 20\n",
    "    dx = l/n\n",
    "    dt = 0.1\n",
    "    alpha = 0.0001\n",
    "    t_final = 60\n",
    "    t = np.arange(0,t_final,dt)\n",
    "    T = np.ones(n)*T0\n",
    "    dTdt = np.empty(n)\n",
    "    \n",
    "    for j in range(1,len(t)):\n",
    "        for i in range(1,n-1):\n",
    "            dTdt[i] = alpha*(-(T[i]-T[i-1])/dx**2+(T[i+1]-T[i])/dx**2)\n",
    "    dTdt[0] = alpha*(-(T[0]-T1s)/dx**2+(T[1]-T[0])/dx**2)\n",
    "    dTdt[n-1] = alpha*(-(T[n-1]-T[n-2])/dx**2+(T2s-T[n-1])/dx**2)\n",
    "    return dTdt\n",
    "\n",
    "# # solve for temp. using the solver, odeint\n",
    "# l = 0.1\n",
    "# n = 10\n",
    "# T0 = 0\n",
    "# dx = l/n\n",
    "# # T_0 = np.ones(n)*T0 # \n",
    "# # t_final = 60\n",
    "# x = np.linspace(dx/2,l-dx/2,n)\n",
    "\n",
    "# dt = 0.1\n",
    "# # x = np.linspace(dx/2,l-dx/2,n)\n",
    "# # t = np.arange(0,t_final,dt)\n",
    "# T = np.ones(n)*T0\n",
    "# T = T + heat_eqn*dt\n",
    "# #T = odeint(heat_eqn,T_0,t) # did not work?!\n",
    "\n",
    "# plt.figure(figsize = (6,4))\n",
    "# plt.plot(x,T)\n",
    "# plt.axis([0, l,0, 50])\n",
    "# plt.xlabel('Distance (m)')\n",
    "# plt.ylabel('Temp.(C)')\n",
    "# plt.show()"
   ]
  },
  {
   "cell_type": "code",
   "execution_count": null,
   "metadata": {
    "collapsed": true
   },
   "outputs": [],
   "source": []
  }
 ],
 "metadata": {
  "kernelspec": {
   "display_name": "Python 3",
   "language": "python",
   "name": "python3"
  },
  "language_info": {
   "codemirror_mode": {
    "name": "ipython",
    "version": 3
   },
   "file_extension": ".py",
   "mimetype": "text/x-python",
   "name": "python",
   "nbconvert_exporter": "python",
   "pygments_lexer": "ipython3",
   "version": "3.6.3"
  }
 },
 "nbformat": 4,
 "nbformat_minor": 2
}
