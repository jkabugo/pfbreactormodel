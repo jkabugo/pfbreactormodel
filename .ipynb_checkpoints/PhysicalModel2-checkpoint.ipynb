{
 "cells": [
  {
   "cell_type": "code",
   "execution_count": 1,
   "metadata": {
    "collapsed": true
   },
   "outputs": [],
   "source": [
    "import numpy as np\n",
    "import matplotlib.pyplot as plt\n",
    "import time"
   ]
  },
  {
   "cell_type": "code",
   "execution_count": null,
   "metadata": {
    "collapsed": true
   },
   "outputs": [],
   "source": []
  },
  {
   "cell_type": "markdown",
   "metadata": {
    "collapsed": true
   },
   "source": [
    "#### The one-dimensional diffusion equation model\n",
    "$$ \n",
    "\\begin{align}\n",
    "\\frac{\\partial{C}}{\\partial {t}} &= D \\frac{\\partial^2{C}}{\\partial {z^2}} - u \\frac{\\partial{C}}{\\partial {z}} + r \\\\ \\\\\n",
    "\\frac{c_{i}^{(n+1)}-c_{i}^{(n)}}{\\Delta t} & = D \\frac{c_{i+1}^{(n)} - 2c_{i}^{(n)} + c_{i-1}^{(n)}} {(\\Delta z)^2} + u \\frac{c_{i+1,j}^{(n)}- c_{i-1,j}^{(n)}}{2\\Delta z} + r\\\\ \\\\\n",
    "c_{i}^{(n+1)} & = c_{i}^{(n)} + \\Delta t \\left[ D \\frac{c_{i+1}^{(n)} - 2c_{i}^{(n)} + c_{i-1}^{(n)}} {(\\Delta z)^2} + u \\frac{c_{i+1,j}^{(n)}- u_{i-1,j}^{(n)}}{2\\Delta z} + r \\right] \\\\ \\\\\n",
    "%\\Delta t & = \\frac{1}{2D}\\frac{(\\Delta x \\Delta y)^2}{(\\Delta x)^2 + (\\Delta y)^2}\n",
    "\\end{align}\n",
    "$$\n",
    "\n"
   ]
  },
  {
   "cell_type": "code",
   "execution_count": null,
   "metadata": {
    "collapsed": true
   },
   "outputs": [],
   "source": []
  },
  {
   "cell_type": "markdown",
   "metadata": {},
   "source": [
    "#### Energy balance equation\n",
    "\n",
    "$$ \n",
    "\\begin{align}\n",
    "\\frac{\\partial{T}}{\\partial {t}} &= \\frac{\\lambda_{e}}{\\rho C_p} \\frac{\\partial^2{T}}{\\partial {z^2}} - u\\frac{\\rho_g C_{pg}}{\\rho C_p} \\frac{\\partial{C}}{\\partial {z}} + \\frac{(-\\Delta H)}{\\rho C_p} \\frac{\\rho_g \\varepsilon}{MW_g}r + \\frac{2\\alpha}{L_R}\\frac{T_w - T}{\\rho C_p} \\\\ \\\\\n",
    "\\frac{T_{i}^{(n+1)}-T_{i}^{(n)}}{\\Delta t} & = \\frac{\\lambda_{e}}{\\rho C_p} \\frac{T_{i+1}^{(n)} - 2T_{i}^{(n)} + T_{i-1}^{(n)}} {(\\Delta z)^2} + u\\frac{\\rho_g C_{pg}}{\\rho C_p} \\frac{T_{i+1,j}^{(n)}- T_{i-1,j}^{(n)}}{2\\Delta z} +  \\frac{(-\\Delta H)}{\\rho C_p} \\frac{\\rho_g \\varepsilon}{MW_g}r + \\frac{2\\alpha}{L_R}\\frac{T_w - T}{\\rho C_p}\\\\ \\\\\n",
    "T_{i}^{(n+1)} & = T_{i}^{(n)} + \\Delta t \\left[ \\frac{\\lambda_{e}}{\\rho C_p} \\frac{T_{i+1}^{(n)} - 2T_{i}^{(n)} + T_{i-1}^{(n)}} {(\\Delta z)^2} + u\\frac{\\rho_g C_{pg}}{\\rho C_p} \\frac{T_{i+1,j}^{(n)}- u_{i-1,j}^{(n)}}{2\\Delta z} + \\frac{(-\\Delta H)}{\\rho C_p} \\frac{\\rho_g \\varepsilon}{MW_g}r + \\frac{2\\alpha}{L_R}\\frac{T_w - T}{\\rho C_p} \\right]\n",
    "\\end{align}\n",
    "$$\n",
    "\n"
   ]
  },
  {
   "cell_type": "code",
   "execution_count": null,
   "metadata": {
    "collapsed": true
   },
   "outputs": [],
   "source": [
    " "
   ]
  },
  {
   "cell_type": "markdown",
   "metadata": {},
   "source": [
    "#### Boundary conditions \n",
    "The most detailed boundary conditions found are those by Wehner and Wilhelm [ll] ; however, for the pseudohomogeneous dispersion model the smallest characteristic length of significance is the particle diameter [12]  The depth of longitudinal back dispersion is at most only a fraction of this dimension, even at the low Reynolds.(from Billimoria and Butt 1979).\n",
    "\n",
    "$$\n",
    "\\begin{align}\n",
    "z_i & = z_{i0} \\qquad  z = z_1 \\\\\n",
    "\\frac{\\partial {c_i}}{\\partial{z}} & = 0 \\qquad z = z_2 \\\\\n",
    "T &= T_0    \\qquad z  = 0\\\\\n",
    "\\frac{\\partial{T}}{\\partial{z}} & = 0 \\qquad z = L_R\n",
    "\\end{align}\n",
    "$$\n"
   ]
  },
  {
   "cell_type": "code",
   "execution_count": 2,
   "metadata": {
    "collapsed": true
   },
   "outputs": [],
   "source": [
    "#Implemetantion "
   ]
  },
  {
   "cell_type": "code",
   "execution_count": 3,
   "metadata": {
    "collapsed": true
   },
   "outputs": [],
   "source": [
    "# some parameters\n",
    "# initial vales\n",
    "L = 1\n",
    "Nz = 10\n",
    "T0 = 150\n",
    "#dz = L/n\n",
    "D = 0.0001\n",
    "t_final = 60\n",
    "dt = 0.1 # time step, find a better way to accomplish this!\n",
    "T = 20\n",
    "Nt = 10"
   ]
  },
  {
   "cell_type": "code",
   "execution_count": 4,
   "metadata": {
    "collapsed": true
   },
   "outputs": [],
   "source": [
    "z = np.linspace(0, L, Nz+1)    \n",
    "dz = z[1] - z[0]\n",
    "t = np.linspace(0, T, Nt+1)    \n",
    "dt = t[1] - t[0]\n",
    "#F = a*dt/dz**2\n",
    "c   = np.zeros(Nz+1)         \n",
    "c_n = np.zeros(Nz+1)     \n"
   ]
  },
  {
   "cell_type": "code",
   "execution_count": null,
   "metadata": {
    "collapsed": true
   },
   "outputs": [],
   "source": []
  },
  {
   "cell_type": "code",
   "execution_count": 5,
   "metadata": {
    "collapsed": true
   },
   "outputs": [],
   "source": [
    "# lets solve d2y/dy2 = -g = -9.8\n",
    "#boundary conditions\n",
    "y0 = 0\n",
    "y5 = 50\n",
    "n = 20\n",
    "#h = 0.5\n",
    "h = (5-0)/n # interval is (0 5])\n"
   ]
  },
  {
   "cell_type": "code",
   "execution_count": 6,
   "metadata": {
    "collapsed": true
   },
   "outputs": [],
   "source": [
    "# create the A matrix\n",
    "A = np.zeros((n+1,n+1))"
   ]
  },
  {
   "cell_type": "code",
   "execution_count": 7,
   "metadata": {
    "collapsed": true
   },
   "outputs": [],
   "source": [
    "# for the boundary conditions\n",
    "A[0,0] = 1\n",
    "A[n,n] = 1"
   ]
  },
  {
   "cell_type": "code",
   "execution_count": 8,
   "metadata": {},
   "outputs": [
    {
     "name": "stdout",
     "output_type": "stream",
     "text": [
      "[[1. 0. 0. 0. 0. 0. 0. 0. 0. 0. 0. 0. 0. 0. 0. 0. 0. 0. 0. 0. 0.]\n",
      " [0. 0. 0. 0. 0. 0. 0. 0. 0. 0. 0. 0. 0. 0. 0. 0. 0. 0. 0. 0. 0.]\n",
      " [0. 0. 0. 0. 0. 0. 0. 0. 0. 0. 0. 0. 0. 0. 0. 0. 0. 0. 0. 0. 0.]\n",
      " [0. 0. 0. 0. 0. 0. 0. 0. 0. 0. 0. 0. 0. 0. 0. 0. 0. 0. 0. 0. 0.]\n",
      " [0. 0. 0. 0. 0. 0. 0. 0. 0. 0. 0. 0. 0. 0. 0. 0. 0. 0. 0. 0. 0.]\n",
      " [0. 0. 0. 0. 0. 0. 0. 0. 0. 0. 0. 0. 0. 0. 0. 0. 0. 0. 0. 0. 0.]\n",
      " [0. 0. 0. 0. 0. 0. 0. 0. 0. 0. 0. 0. 0. 0. 0. 0. 0. 0. 0. 0. 0.]\n",
      " [0. 0. 0. 0. 0. 0. 0. 0. 0. 0. 0. 0. 0. 0. 0. 0. 0. 0. 0. 0. 0.]\n",
      " [0. 0. 0. 0. 0. 0. 0. 0. 0. 0. 0. 0. 0. 0. 0. 0. 0. 0. 0. 0. 0.]\n",
      " [0. 0. 0. 0. 0. 0. 0. 0. 0. 0. 0. 0. 0. 0. 0. 0. 0. 0. 0. 0. 0.]\n",
      " [0. 0. 0. 0. 0. 0. 0. 0. 0. 0. 0. 0. 0. 0. 0. 0. 0. 0. 0. 0. 0.]\n",
      " [0. 0. 0. 0. 0. 0. 0. 0. 0. 0. 0. 0. 0. 0. 0. 0. 0. 0. 0. 0. 0.]\n",
      " [0. 0. 0. 0. 0. 0. 0. 0. 0. 0. 0. 0. 0. 0. 0. 0. 0. 0. 0. 0. 0.]\n",
      " [0. 0. 0. 0. 0. 0. 0. 0. 0. 0. 0. 0. 0. 0. 0. 0. 0. 0. 0. 0. 0.]\n",
      " [0. 0. 0. 0. 0. 0. 0. 0. 0. 0. 0. 0. 0. 0. 0. 0. 0. 0. 0. 0. 0.]\n",
      " [0. 0. 0. 0. 0. 0. 0. 0. 0. 0. 0. 0. 0. 0. 0. 0. 0. 0. 0. 0. 0.]\n",
      " [0. 0. 0. 0. 0. 0. 0. 0. 0. 0. 0. 0. 0. 0. 0. 0. 0. 0. 0. 0. 0.]\n",
      " [0. 0. 0. 0. 0. 0. 0. 0. 0. 0. 0. 0. 0. 0. 0. 0. 0. 0. 0. 0. 0.]\n",
      " [0. 0. 0. 0. 0. 0. 0. 0. 0. 0. 0. 0. 0. 0. 0. 0. 0. 0. 0. 0. 0.]\n",
      " [0. 0. 0. 0. 0. 0. 0. 0. 0. 0. 0. 0. 0. 0. 0. 0. 0. 0. 0. 0. 0.]\n",
      " [0. 0. 0. 0. 0. 0. 0. 0. 0. 0. 0. 0. 0. 0. 0. 0. 0. 0. 0. 0. 1.]]\n"
     ]
    }
   ],
   "source": [
    "print(A)"
   ]
  },
  {
   "cell_type": "code",
   "execution_count": 9,
   "metadata": {
    "collapsed": true
   },
   "outputs": [],
   "source": [
    "# for the internal slices\n",
    "for i in range(1,n):\n",
    "    A[i,i-1] = 1\n",
    "    A[i,i] = -2\n",
    "    A[i,i+1] = 1\n",
    "    "
   ]
  },
  {
   "cell_type": "code",
   "execution_count": 10,
   "metadata": {},
   "outputs": [
    {
     "name": "stdout",
     "output_type": "stream",
     "text": [
      "[[ 1.  0.  0.  0.  0.  0.  0.  0.  0.  0.  0.  0.  0.  0.  0.  0.  0.  0.\n",
      "   0.  0.  0.]\n",
      " [ 1. -2.  1.  0.  0.  0.  0.  0.  0.  0.  0.  0.  0.  0.  0.  0.  0.  0.\n",
      "   0.  0.  0.]\n",
      " [ 0.  1. -2.  1.  0.  0.  0.  0.  0.  0.  0.  0.  0.  0.  0.  0.  0.  0.\n",
      "   0.  0.  0.]\n",
      " [ 0.  0.  1. -2.  1.  0.  0.  0.  0.  0.  0.  0.  0.  0.  0.  0.  0.  0.\n",
      "   0.  0.  0.]\n",
      " [ 0.  0.  0.  1. -2.  1.  0.  0.  0.  0.  0.  0.  0.  0.  0.  0.  0.  0.\n",
      "   0.  0.  0.]\n",
      " [ 0.  0.  0.  0.  1. -2.  1.  0.  0.  0.  0.  0.  0.  0.  0.  0.  0.  0.\n",
      "   0.  0.  0.]\n",
      " [ 0.  0.  0.  0.  0.  1. -2.  1.  0.  0.  0.  0.  0.  0.  0.  0.  0.  0.\n",
      "   0.  0.  0.]\n",
      " [ 0.  0.  0.  0.  0.  0.  1. -2.  1.  0.  0.  0.  0.  0.  0.  0.  0.  0.\n",
      "   0.  0.  0.]\n",
      " [ 0.  0.  0.  0.  0.  0.  0.  1. -2.  1.  0.  0.  0.  0.  0.  0.  0.  0.\n",
      "   0.  0.  0.]\n",
      " [ 0.  0.  0.  0.  0.  0.  0.  0.  1. -2.  1.  0.  0.  0.  0.  0.  0.  0.\n",
      "   0.  0.  0.]\n",
      " [ 0.  0.  0.  0.  0.  0.  0.  0.  0.  1. -2.  1.  0.  0.  0.  0.  0.  0.\n",
      "   0.  0.  0.]\n",
      " [ 0.  0.  0.  0.  0.  0.  0.  0.  0.  0.  1. -2.  1.  0.  0.  0.  0.  0.\n",
      "   0.  0.  0.]\n",
      " [ 0.  0.  0.  0.  0.  0.  0.  0.  0.  0.  0.  1. -2.  1.  0.  0.  0.  0.\n",
      "   0.  0.  0.]\n",
      " [ 0.  0.  0.  0.  0.  0.  0.  0.  0.  0.  0.  0.  1. -2.  1.  0.  0.  0.\n",
      "   0.  0.  0.]\n",
      " [ 0.  0.  0.  0.  0.  0.  0.  0.  0.  0.  0.  0.  0.  1. -2.  1.  0.  0.\n",
      "   0.  0.  0.]\n",
      " [ 0.  0.  0.  0.  0.  0.  0.  0.  0.  0.  0.  0.  0.  0.  1. -2.  1.  0.\n",
      "   0.  0.  0.]\n",
      " [ 0.  0.  0.  0.  0.  0.  0.  0.  0.  0.  0.  0.  0.  0.  0.  1. -2.  1.\n",
      "   0.  0.  0.]\n",
      " [ 0.  0.  0.  0.  0.  0.  0.  0.  0.  0.  0.  0.  0.  0.  0.  0.  1. -2.\n",
      "   1.  0.  0.]\n",
      " [ 0.  0.  0.  0.  0.  0.  0.  0.  0.  0.  0.  0.  0.  0.  0.  0.  0.  1.\n",
      "  -2.  1.  0.]\n",
      " [ 0.  0.  0.  0.  0.  0.  0.  0.  0.  0.  0.  0.  0.  0.  0.  0.  0.  0.\n",
      "   1. -2.  1.]\n",
      " [ 0.  0.  0.  0.  0.  0.  0.  0.  0.  0.  0.  0.  0.  0.  0.  0.  0.  0.\n",
      "   0.  0.  1.]]\n"
     ]
    }
   ],
   "source": [
    "print(A)"
   ]
  },
  {
   "cell_type": "code",
   "execution_count": 11,
   "metadata": {},
   "outputs": [
    {
     "name": "stdout",
     "output_type": "stream",
     "text": [
      "1.0\n",
      "-2.0\n",
      "1.0\n"
     ]
    }
   ],
   "source": [
    "print(A[3,2])\n",
    "print(A[3,3])\n",
    "print(A[3,4])"
   ]
  },
  {
   "cell_type": "code",
   "execution_count": 12,
   "metadata": {},
   "outputs": [
    {
     "name": "stdout",
     "output_type": "stream",
     "text": [
      "[ 0.     -0.6125 -0.6125 -0.6125 -0.6125 -0.6125 -0.6125 -0.6125 -0.6125\n",
      " -0.6125 -0.6125 -0.6125 -0.6125 -0.6125 -0.6125 -0.6125 -0.6125 -0.6125\n",
      " -0.6125 -0.6125 50.    ]\n"
     ]
    }
   ],
   "source": [
    "# define  vector b\n",
    "b = np.zeros(n+1)\n",
    "b[1:-1] = -9.8*h**2\n",
    "b[-1]= 50\n",
    "print(b)"
   ]
  },
  {
   "cell_type": "code",
   "execution_count": 13,
   "metadata": {},
   "outputs": [
    {
     "data": {
      "image/png": "[encoded data removed]",
      "text/plain": [
       "<Figure size 576x432 with 1 Axes>"
      ]
     },
     "metadata": {
      "needs_background": "light"
     },
     "output_type": "display_data"
    }
   ],
   "source": [
    "# solve the linear equations\n",
    "ntimesteps = (5/h)+1\n",
    "y = np.linalg.solve(A, b) # solving a system of algebreic equations\n",
    "t = np.linspace(0, 5, ntimesteps) # delta t = 0.5\n",
    "\n",
    "plt.figure(figsize=(8,6))\n",
    "plt.plot(t, y)\n",
    "plt.plot(5, 50, 'ro')\n",
    "plt.xlabel('time (s)')\n",
    "plt.ylabel('altitude (m)')\n",
    "plt.show()"
   ]
  },
  {
   "cell_type": "code",
   "execution_count": 14,
   "metadata": {},
   "outputs": [
    {
     "data": {
      "text/plain": [
       "array([0.  , 0.25, 0.5 , 0.75, 1.  , 1.25, 1.5 , 1.75, 2.  , 2.25, 2.5 ,\n",
       "       2.75, 3.  , 3.25, 3.5 , 3.75, 4.  , 4.25, 4.5 , 4.75, 5.  ])"
      ]
     },
     "execution_count": 14,
     "metadata": {},
     "output_type": "execute_result"
    }
   ],
   "source": [
    "t"
   ]
  },
  {
   "cell_type": "code",
   "execution_count": 15,
   "metadata": {},
   "outputs": [
    {
     "data": {
      "text/plain": [
       "(8.318750000000003, 0.0)"
      ]
     },
     "execution_count": 15,
     "metadata": {},
     "output_type": "execute_result"
    }
   ],
   "source": [
    "y[1],y[0]"
   ]
  },
  {
   "cell_type": "code",
   "execution_count": 16,
   "metadata": {
    "collapsed": true
   },
   "outputs": [],
   "source": [
    "# Try solve y′(0), which can be written as dydx = y(i+1)−y(i)/2dx"
   ]
  },
  {
   "cell_type": "code",
   "execution_count": 17,
   "metadata": {},
   "outputs": [
    {
     "data": {
      "text/plain": [
       "34.500000000000014"
      ]
     },
     "execution_count": 17,
     "metadata": {},
     "output_type": "execute_result"
    }
   ],
   "source": [
    "y_n1 = -9.8*h**2 + 2*y[0] - y[1]\n",
    "(y[1] - y_n1) / (2*h)"
   ]
  },
  {
   "cell_type": "code",
   "execution_count": 18,
   "metadata": {
    "collapsed": true
   },
   "outputs": [],
   "source": [
    "# Example two, solving using boundary conditions "
   ]
  },
  {
   "cell_type": "code",
   "execution_count": 19,
   "metadata": {
    "collapsed": true
   },
   "outputs": [],
   "source": [
    "# create the matrix A and vector b\n",
    "def get_A_b(n):\n",
    "    h = (np.pi/2-0)/n # generate step size\n",
    "    x = np.linspace(0,np.pi/2, n+1) # where n+1 is the number of time steps\n",
    "    # create matrix A\n",
    "    A = np.zeros((n+1,n+1))\n",
    "    A[0,0] = 1 # boundary conditions\n",
    "    A[n,n-1] = 2\n",
    "    A[n,n] = -2+4*h**2\n",
    "    \n",
    "    for i in range(1,n): # for the part inside the boundary conditions\n",
    "        A[i,i-1] = 1\n",
    "        A[i,i] = -2+4*h**2\n",
    "        A[i,i+1] = 1\n",
    "        \n",
    "    # Create vector b\n",
    "    b = np.zeros(n+1)\n",
    "    for i in range(1,n+1):\n",
    "        b[i] = 4*h**2*x[i]\n",
    "        \n",
    "    return x,A,b "
   ]
  },
  {
   "cell_type": "code",
   "execution_count": 20,
   "metadata": {},
   "outputs": [
    {
     "data": {
      "image/png": "[encoded data removed]",
      "text/plain": [
       "<Figure size 576x432 with 1 Axes>"
      ]
     },
     "metadata": {
      "needs_background": "light"
     },
     "output_type": "display_data"
    }
   ],
   "source": [
    "# for the exact solution\n",
    "x = np.pi/2\n",
    "v = x - np.sin(2*x)\n",
    "\n",
    "# initialize and chech for errors for different values of nsteps\n",
    "n_s = []\n",
    "errors = []\n",
    "\n",
    "\n",
    "for n in range(3, 100, 5):\n",
    "    #print(n)\n",
    "    x, A, b = get_A_b(n)\n",
    "    y1 = np.linalg.solve(A, b) # solving the system of linear equations\n",
    "    n_s.append(n)\n",
    "    e = v - y1[-1]\n",
    "    errors.append(e)\n",
    "\n",
    "plt.figure(figsize = (8,6))\n",
    "plt.plot(n_s, errors)\n",
    "plt.yscale('log')\n",
    "plt.xlabel('n gird points')\n",
    "plt.ylabel('errors at x = $\\pi/2$')\n",
    "plt.show()"
   ]
  },
  {
   "cell_type": "code",
   "execution_count": 21,
   "metadata": {
    "collapsed": true
   },
   "outputs": [],
   "source": [
    "y2 = x - np.sin(2*x) # Not very understandable"
   ]
  },
  {
   "cell_type": "code",
   "execution_count": 22,
   "metadata": {},
   "outputs": [
    {
     "data": {
      "image/png": "[encoded data removed]",
      "text/plain": [
       "<Figure size 576x432 with 1 Axes>"
      ]
     },
     "metadata": {
      "needs_background": "light"
     },
     "output_type": "display_data"
    }
   ],
   "source": [
    "plt.figure(figsize=(8,6))\n",
    "plt.plot(x,y1)\n",
    "plt.plot(x,y2)\n",
    "plt.xlabel('x (s)')\n",
    "plt.ylabel('y (m)')\n",
    "plt.show()"
   ]
  },
  {
   "cell_type": "code",
   "execution_count": null,
   "metadata": {
    "collapsed": true
   },
   "outputs": [],
   "source": []
  },
  {
   "cell_type": "code",
   "execution_count": null,
   "metadata": {
    "collapsed": true
   },
   "outputs": [],
   "source": [
    "# Example three from Youtube, heat equation"
   ]
  },
  {
   "cell_type": "code",
   "execution_count": null,
   "metadata": {
    "collapsed": true
   },
   "outputs": [],
   "source": [
    "L = 0.1 # length of the plate or wall\n",
    "n = 10 # nodes of discrete \n",
    "T0 = 0\n",
    "T1s = 40 # surface temperatures\n",
    "T2s = 20 # surface temperature on the second side\n",
    "dx = L/n\n",
    "alpha = 0.0001\n",
    "t_final = 60\n",
    "dt = 0.1\n",
    "x = np.linspace(dx/2,L-dx/2,n) # points which should be plotted or explored on the grid (linspace arguments are \n",
    "                               #(starting point, endpoint, total number of points)\n",
    "\n",
    "\n"
   ]
  },
  {
   "cell_type": "code",
   "execution_count": null,
   "metadata": {
    "collapsed": true
   },
   "outputs": [],
   "source": []
  },
  {
   "cell_type": "code",
   "execution_count": null,
   "metadata": {
    "collapsed": true
   },
   "outputs": [],
   "source": []
  },
  {
   "cell_type": "code",
   "execution_count": null,
   "metadata": {
    "collapsed": true
   },
   "outputs": [],
   "source": []
  },
  {
   "cell_type": "code",
   "execution_count": null,
   "metadata": {
    "collapsed": true
   },
   "outputs": [],
   "source": []
  },
  {
   "cell_type": "code",
   "execution_count": null,
   "metadata": {
    "collapsed": true
   },
   "outputs": [],
   "source": []
  },
  {
   "cell_type": "code",
   "execution_count": null,
   "metadata": {
    "collapsed": true
   },
   "outputs": [],
   "source": []
  },
  {
   "cell_type": "code",
   "execution_count": null,
   "metadata": {
    "collapsed": true
   },
   "outputs": [],
   "source": []
  },
  {
   "cell_type": "code",
   "execution_count": null,
   "metadata": {
    "collapsed": true
   },
   "outputs": [],
   "source": []
  }
 ],
 "metadata": {
  "kernelspec": {
   "display_name": "Python 3",
   "language": "python",
   "name": "python3"
  },
  "language_info": {
   "codemirror_mode": {
    "name": "ipython",
    "version": 3
   },
   "file_extension": ".py",
   "mimetype": "text/x-python",
   "name": "python",
   "nbconvert_exporter": "python",
   "pygments_lexer": "ipython3",
   "version": "3.6.3"
  }
 },
 "nbformat": 4,
 "nbformat_minor": 2
}
