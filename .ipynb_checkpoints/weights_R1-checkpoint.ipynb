{
 "cells": [
  {
   "cell_type": "code",
   "execution_count": 1,
   "metadata": {},
   "outputs": [],
   "source": [
    "import numpy as np\n",
    "#import scipy\n",
    "import math\n",
    "from scipy import integrate, LowLevelCallable\n",
    "from scipy.integrate import odeint,solve_ivp\n",
    "from scipy.sparse import csc_matrix\n",
    "import matplotlib.pyplot as plt\n",
    "import os, ctypes\n",
    "\n"
   ]
  },
  {
   "cell_type": "code",
   "execution_count": null,
   "metadata": {
    "collapsed": true
   },
   "outputs": [],
   "source": []
  },
  {
   "cell_type": "code",
   "execution_count": 2,
   "metadata": {
    "collapsed": true
   },
   "outputs": [],
   "source": [
    "#% spatial grid\n",
    "L = 0.5                                             #; % reactor length (m)\n",
    "z01 = 0.0                                           #;\n",
    "zL1 = 0.14                                          # ; % entrance (inert) section\n",
    "z02 = zL1                                           #;\n",
    "zL2 = z02 + 0.095                                   #; % catalyst section\n",
    "z03 = zL2                                           #;\n",
    "zL3 = L                                             #; %exit (inert) section\n",
    "n1 = 71                                             #;\n",
    "n2 = 71                                             #;\n",
    "n3 = 71                                             #;\n",
    "dz1 = (zL1-z01) / (n1-1)                          #;\n",
    "dz2 = (zL2-z02) / (n2-1)                          #;\n",
    "dz3 = (zL3-z03) / (n3-1)                          #;\n",
    "\n",
    "num_x = 0.00001                                   # a small added to separate reactor zones\n",
    "\n",
    "z1 = np.arange(z01,zL1+num_x,dz1,dtype=float)[:, np.newaxis]                       #' ;\n",
    "z2 = np.arange(z02,zL2+num_x,dz2,dtype=float)[:, np.newaxis]                       #' ;\n",
    "z3 = np.arange(z03,zL3+num_x,dz3,dtype=float)[:, np.newaxis]                       #' ;\n",
    "z  = np.concatenate((z1,z2,z3), axis=0)"
   ]
  },
  {
   "cell_type": "code",
   "execution_count": null,
   "metadata": {},
   "outputs": [],
   "source": []
  },
  {
   "cell_type": "code",
   "execution_count": null,
   "metadata": {},
   "outputs": [],
   "source": []
  },
  {
   "cell_type": "code",
   "execution_count": 3,
   "metadata": {},
   "outputs": [],
   "source": [
    "m = 2\n",
    "ns = 5\n",
    "zs = z[1:ns+1]\n",
    "#print(zs)\n",
    "\n",
    "for i in range(0,3):\n",
    "    zd = z[i]\n",
    "\n",
    "c1 = 1.0\n",
    "c4 = zs[0]-zd\n",
    "# zs.shape"
   ]
  },
  {
   "cell_type": "code",
   "execution_count": null,
   "metadata": {
    "collapsed": true
   },
   "outputs": [],
   "source": []
  },
  {
   "cell_type": "code",
   "execution_count": 4,
   "metadata": {},
   "outputs": [],
   "source": [
    "#w = np.zeros((5,3))"
   ]
  },
  {
   "cell_type": "code",
   "execution_count": 5,
   "metadata": {},
   "outputs": [],
   "source": [
    "# for k in range(0,m+1):\n",
    "#     #print(k)\n",
    "#     for j in range(0,ns-1+1):\n",
    "#         w[j,k] = 0.0\n",
    "# #         print(w)\n"
   ]
  },
  {
   "cell_type": "code",
   "execution_count": 6,
   "metadata": {},
   "outputs": [],
   "source": [
    "# w[0,0] = 1.0\n"
   ]
  },
  {
   "cell_type": "code",
   "execution_count": 7,
   "metadata": {},
   "outputs": [],
   "source": [
    "# for i in range(ns-1):\n",
    "#     print(i+1)"
   ]
  },
  {
   "cell_type": "code",
   "execution_count": 8,
   "metadata": {},
   "outputs": [],
   "source": [
    "# for i in range(0,ns-1):\n",
    "#     mn = min(i,m)\n",
    "#     c2 = 1.0\n",
    "#     c5 = c4\n",
    "#     c4 = zs[i]-zd\n",
    "#     #print(i)\n",
    "    \n",
    "#     for j in range(0,i-1+1):\n",
    "#         c3 = zs[i]-zs[j]\n",
    "#         c2 = c2*c3\n",
    "#         #print(j)\n",
    "#         if (j == i):\n",
    "#             for k in range(mn,-1,-1):\n",
    "#                 w[i+1,k+1] = c1*(k*w[i,k]-c5*w[i,k+1])/c2\n",
    "                \n",
    "#             w[i+1,1] = -c1*c5*w[i,1]/c2\n",
    "            \n",
    "#         for k in range(mn-1,-1,-1):\n",
    "#             #print(k)\n",
    "#             w[j+1,k+1] = (c4*w[j+1,k+1]-k*w[j+1,k])/c3\n",
    "        \n",
    "#         w[j+1,1] = c4*w[j+1,1]/c3\n",
    "               \n",
    "#     c1 = c2\n",
    "    \n",
    "    "
   ]
  },
  {
   "cell_type": "code",
   "execution_count": 9,
   "metadata": {},
   "outputs": [],
   "source": [
    "# G = np.zeros((ns+1,m+1))\n",
    "# G"
   ]
  },
  {
   "cell_type": "code",
   "execution_count": 10,
   "metadata": {},
   "outputs": [],
   "source": [
    "m = 2\n",
    "ns = 5\n",
    "n = ns\n",
    "#zs = z[0:ns]\n",
    "#print(zs)\n",
    "\n",
    "for i in range(0,3):\n",
    "    zd = z[i]\n",
    "\n",
    "c1 = 1.0\n",
    "c4 = zs[0]-zd\n",
    "# zs.shape"
   ]
  },
  {
   "cell_type": "code",
   "execution_count": 11,
   "metadata": {},
   "outputs": [
    {
     "data": {
      "text/plain": [
       "array([0.004])"
      ]
     },
     "execution_count": 11,
     "metadata": {},
     "output_type": "execute_result"
    }
   ],
   "source": [
    "zd"
   ]
  },
  {
   "cell_type": "code",
   "execution_count": 12,
   "metadata": {},
   "outputs": [
    {
     "data": {
      "text/plain": [
       "array([[0., 0., 0.],\n",
       "       [0., 0., 0.],\n",
       "       [0., 0., 0.],\n",
       "       [0., 0., 0.],\n",
       "       [0., 0., 0.]])"
      ]
     },
     "execution_count": 12,
     "metadata": {},
     "output_type": "execute_result"
    }
   ],
   "source": [
    "W = np.zeros((ns,m+1))\n",
    "W"
   ]
  },
  {
   "cell_type": "code",
   "execution_count": 13,
   "metadata": {},
   "outputs": [],
   "source": [
    "c1 = 1.\n",
    "c4 = zs[0]-zd # x[0] - xbar\n",
    "W = np.zeros((ns,m+1))\n",
    "W[0,0] = 1.\n",
    "for i in range(1,ns):\n",
    "    mn = min(i,m)\n",
    "    c2 = 1.\n",
    "    c5 = c4\n",
    "    c4 = zs[i]-zd #x[i] - xbar\n",
    "    \n",
    "    for j in range(i):\n",
    "        c3 = zs[i]-zs[j] #x[i] - x[j]\n",
    "        c2 = c2*c3\n",
    "        if j==i-1:\n",
    "            for k in range(mn,0,-1):\n",
    "                W[i,k] = c1*(k*W[i-1,k-1] - c5*W[i-1,k])/c2\n",
    "            W[i,0] = -c1*c5*W[i-1,0]/c2\n",
    "        \n",
    "        for k in range(mn,0,-1):\n",
    "            W[j,k] = (c4*W[j,k] - k*W[j,k-1])/c3\n",
    "        W[j,0] = c4*W[j,0]/c3\n",
    "    c1 = c2\n",
    "    "
   ]
  },
  {
   "cell_type": "code",
   "execution_count": 14,
   "metadata": {},
   "outputs": [
    {
     "data": {
      "text/plain": [
       "array([[ 0.00000000e+00, -1.25000000e+02,  2.29166667e+05],\n",
       "       [ 1.00000000e+00, -4.16666667e+02, -4.16666667e+05],\n",
       "       [-0.00000000e+00,  7.50000000e+02,  1.25000000e+05],\n",
       "       [ 0.00000000e+00, -2.50000000e+02,  8.33333333e+04],\n",
       "       [-0.00000000e+00,  4.16666667e+01, -2.08333333e+04]])"
      ]
     },
     "execution_count": 14,
     "metadata": {},
     "output_type": "execute_result"
    }
   ],
   "source": [
    "W"
   ]
  },
  {
   "cell_type": "code",
   "execution_count": null,
   "metadata": {
    "collapsed": true
   },
   "outputs": [],
   "source": []
  },
  {
   "cell_type": "code",
   "execution_count": null,
   "metadata": {
    "collapsed": true
   },
   "outputs": [],
   "source": []
  },
  {
   "cell_type": "code",
   "execution_count": 15,
   "metadata": {
    "collapsed": true
   },
   "outputs": [],
   "source": [
    "def fdcoeffF(k, xbar, x, fullC=False):\n",
    "    n = len(x) - 1\n",
    "    if k > n:\n",
    "        raise ValueError('*** len(x) must be larger than k')\n",
    "    \n",
    "    m = k  # for consistency with Fornberg's notation\n",
    "    c1 = 1.\n",
    "    c4 = x[0] - xbar\n",
    "    C = np.zeros((n+1,m+1))\n",
    "    C[0,0] = 1.\n",
    "    for i in range(1,n+1):\n",
    "        mn = min(i,m)\n",
    "        c2 = 1.\n",
    "        c5 = c4\n",
    "        c4 = x[i] - xbar\n",
    "        for j in range(i):\n",
    "            c3 = x[i] - x[j]\n",
    "            c2 = c2*c3\n",
    "            if j==i-1:\n",
    "                for s in range(mn,0,-1):\n",
    "                    C[i,s] = c1*(s*C[i-1,s-1] - c5*C[i-1,s])/c2\n",
    "                C[i,0] = -c1*c5*C[i-1,0]/c2\n",
    "            for s in range(mn,0,-1):\n",
    "                C[j,s] = (c4*C[j,s] - s*C[j,s-1])/c3\n",
    "            C[j,0] = c4*C[j,0]/c3\n",
    "        c1 = c2\n",
    "    \n",
    "    if fullC:\n",
    "        return C\n",
    "    else:\n",
    "        c = C[:,-1] # last column of C\n",
    "        return c"
   ]
  },
  {
   "cell_type": "code",
   "execution_count": null,
   "metadata": {
    "collapsed": true
   },
   "outputs": [],
   "source": []
  },
  {
   "cell_type": "code",
   "execution_count": 16,
   "metadata": {
    "collapsed": true
   },
   "outputs": [],
   "source": [
    "def weights_2(zd,zs,ns,m):\n",
    "    n = len(zs) - 1\n",
    "    if m > n:\n",
    "        raise ValueError('*** len(x) must be larger than k')\n",
    "    \n",
    "    c1 = 1.\n",
    "    c4 = zs[0] - zd\n",
    "    C = np.zeros((ns,m+1))\n",
    "    C[0,0] = 1.\n",
    "    for i in range(1,ns):\n",
    "        mn = min(i,m)\n",
    "        c2 = 1.\n",
    "        c5 = c4\n",
    "        c4 = zs[i] - zd\n",
    "        for j in range(i):\n",
    "            c3 = zs[i] - zs[j]\n",
    "            c2 = c2*c3\n",
    "            if j==i-1:\n",
    "                for s in range(mn,0,-1):\n",
    "                    C[i,s] = c1*(s*C[i-1,s-1] - c5*C[i-1,s])/c2\n",
    "                C[i,0] = -c1*c5*C[i-1,0]/c2\n",
    "            for s in range(mn,0,-1):\n",
    "                C[j,s] = (c4*C[j,s] - s*C[j,s-1])/c3\n",
    "            C[j,0] = c4*C[j,0]/c3\n",
    "        c1 = c2\n",
    "        \n",
    "    return C"
   ]
  },
  {
   "cell_type": "code",
   "execution_count": 17,
   "metadata": {},
   "outputs": [
    {
     "data": {
      "text/plain": [
       "array([-0.2, -0.1,  0. ,  0.1,  0.2])"
      ]
     },
     "execution_count": 17,
     "metadata": {},
     "output_type": "execute_result"
    }
   ],
   "source": [
    "x = np.linspace(-0.2,0.2,5)\n",
    "xbar = 0.1\n",
    "x"
   ]
  },
  {
   "cell_type": "code",
   "execution_count": 18,
   "metadata": {},
   "outputs": [],
   "source": [
    "cF = fdcoeffF(2,xbar,x,fullC=True)"
   ]
  },
  {
   "cell_type": "code",
   "execution_count": 19,
   "metadata": {},
   "outputs": [
    {
     "data": {
      "text/plain": [
       "array([[ 2.31296463e-17, -8.33333333e-01, -8.33333333e+00],\n",
       "       [-1.38777878e-16,  5.00000000e+00,  3.33333333e+01],\n",
       "       [ 4.16333634e-16, -1.50000000e+01,  5.00000000e+01],\n",
       "       [ 1.00000000e+00,  8.33333333e+00, -1.66666667e+02],\n",
       "       [-6.93889390e-17,  2.50000000e+00,  9.16666667e+01]])"
      ]
     },
     "execution_count": 19,
     "metadata": {},
     "output_type": "execute_result"
    }
   ],
   "source": [
    "cF"
   ]
  },
  {
   "cell_type": "code",
   "execution_count": 20,
   "metadata": {},
   "outputs": [],
   "source": [
    "cF2 = weights_2(zd,zs,ns,m)"
   ]
  },
  {
   "cell_type": "code",
   "execution_count": 21,
   "metadata": {},
   "outputs": [
    {
     "data": {
      "text/plain": [
       "array([[ 0.00000000e+00, -1.25000000e+02,  2.29166667e+05],\n",
       "       [ 1.00000000e+00, -4.16666667e+02, -4.16666667e+05],\n",
       "       [-0.00000000e+00,  7.50000000e+02,  1.25000000e+05],\n",
       "       [ 0.00000000e+00, -2.50000000e+02,  8.33333333e+04],\n",
       "       [-0.00000000e+00,  4.16666667e+01, -2.08333333e+04]])"
      ]
     },
     "execution_count": 21,
     "metadata": {},
     "output_type": "execute_result"
    }
   ],
   "source": [
    "cF2"
   ]
  },
  {
   "cell_type": "code",
   "execution_count": 22,
   "metadata": {
    "collapsed": true
   },
   "outputs": [],
   "source": [
    "cF3 = weights_2(zd,zs,ns,m)"
   ]
  },
  {
   "cell_type": "code",
   "execution_count": 23,
   "metadata": {},
   "outputs": [
    {
     "data": {
      "text/plain": [
       "array([[ 0.00000000e+00, -1.25000000e+02,  2.29166667e+05],\n",
       "       [ 1.00000000e+00, -4.16666667e+02, -4.16666667e+05],\n",
       "       [-0.00000000e+00,  7.50000000e+02,  1.25000000e+05],\n",
       "       [ 0.00000000e+00, -2.50000000e+02,  8.33333333e+04],\n",
       "       [-0.00000000e+00,  4.16666667e+01, -2.08333333e+04]])"
      ]
     },
     "execution_count": 23,
     "metadata": {},
     "output_type": "execute_result"
    }
   ],
   "source": [
    "cF3"
   ]
  },
  {
   "cell_type": "code",
   "execution_count": 24,
   "metadata": {
    "collapsed": true
   },
   "outputs": [],
   "source": [
    "cFx = fdcoeffF(2,zd,zs,fullC=True)"
   ]
  },
  {
   "cell_type": "code",
   "execution_count": 25,
   "metadata": {},
   "outputs": [
    {
     "data": {
      "text/plain": [
       "array([[ 0.00000000e+00, -1.25000000e+02,  2.29166667e+05],\n",
       "       [ 1.00000000e+00, -4.16666667e+02, -4.16666667e+05],\n",
       "       [-0.00000000e+00,  7.50000000e+02,  1.25000000e+05],\n",
       "       [ 0.00000000e+00, -2.50000000e+02,  8.33333333e+04],\n",
       "       [-0.00000000e+00,  4.16666667e+01, -2.08333333e+04]])"
      ]
     },
     "execution_count": 25,
     "metadata": {},
     "output_type": "execute_result"
    }
   ],
   "source": [
    "cFx"
   ]
  },
  {
   "cell_type": "code",
   "execution_count": null,
   "metadata": {
    "collapsed": true
   },
   "outputs": [],
   "source": []
  },
  {
   "cell_type": "code",
   "execution_count": 26,
   "metadata": {},
   "outputs": [],
   "source": [
    "def weights(zd,zs,ns,m):\n",
    "        \n",
    "    # input Parameters\n",
    "    \n",
    "    # zd, location where the derivative is to be computed\n",
    "    # ns, number of points in the stencil    \n",
    "    # zs(ns), stencil of the finite difference scheme\n",
    "    # m, highest derivative for which weights are sought\n",
    "    # output Parameter\n",
    "    # w(1:ns,1:m+1), weights at grid locations z(1:ns) for derivatives\n",
    "    # of order 0:m, found in w(1:ns,1:m+1)\n",
    "    c1 = 1.0\n",
    "    c4 = zs[0]-zd\n",
    "    w = np.zeros((5,3))\n",
    "    \n",
    "    for k in range(0,m+1):\n",
    "        for j in range(0,ns-1+1):\n",
    "            w[j,k] = 0.0\n",
    "    \n",
    "    w[0,0] = 1.0\n",
    "    \n",
    "    for i in range(0,ns-1):\n",
    "        mn = min(i,m)\n",
    "        c2 = 1.0\n",
    "        c5 = c4\n",
    "        c4 = zs[i]-zd\n",
    "        #print(i)\n",
    "        \n",
    "        for j in range(0,i-1+1):\n",
    "            c3 = zs[i]-zs[j]\n",
    "            c2 = c2*c3\n",
    "            #print(j)\n",
    "            if (j == i):\n",
    "                for k in range(mn,-1,-1):\n",
    "                    w[i+1,k+1] = c1*(k*w[i,k]-c5*w[i,k+1])/c2\n",
    "                \n",
    "                w[i+1,1] = -c1*c5*w[i,1]/c2\n",
    "            \n",
    "            for k in range(mn-1,-1,-1):\n",
    "                #print(k)\n",
    "                w[j+1,k+1] = (c4*w[j+1,k+1]-k*w[j+1,k])/c3        \n",
    "        \n",
    "            w[j+1,1] = c4*w[j+1,1]/c3\n",
    "        \n",
    "        c1 = c2        \n",
    "    return w"
   ]
  },
  {
   "cell_type": "code",
   "execution_count": 27,
   "metadata": {},
   "outputs": [],
   "source": [
    "w2 = weights(zd,zs,ns,m)"
   ]
  },
  {
   "cell_type": "code",
   "execution_count": 28,
   "metadata": {},
   "outputs": [
    {
     "data": {
      "text/plain": [
       "array([[1., 0., 0.],\n",
       "       [0., 0., 0.],\n",
       "       [0., 0., 0.],\n",
       "       [0., 0., 0.],\n",
       "       [0., 0., 0.]])"
      ]
     },
     "execution_count": 28,
     "metadata": {},
     "output_type": "execute_result"
    }
   ],
   "source": [
    "w2"
   ]
  },
  {
   "cell_type": "code",
   "execution_count": null,
   "metadata": {
    "collapsed": true
   },
   "outputs": [],
   "source": []
  },
  {
   "cell_type": "code",
   "execution_count": null,
   "metadata": {
    "collapsed": true
   },
   "outputs": [],
   "source": []
  },
  {
   "cell_type": "code",
   "execution_count": 29,
   "metadata": {
    "collapsed": true
   },
   "outputs": [],
   "source": [
    "def weights(zd,zs,ns,m,fullw=False):\n",
    "        \n",
    "    # input Parameters\n",
    "    \n",
    "    # zd, location where the derivative is to be computed\n",
    "    # ns, number of points in the stencil    \n",
    "    # zs(ns), stencil of the finite difference scheme\n",
    "    # m, highest derivative for which weights are sought\n",
    "    # output Parameter\n",
    "    # w(1:ns,1:m+1), weights at grid locations z(1:ns) for derivatives\n",
    "    # of order 0:m, found in w(1:ns,1:m+1)\n",
    "    \n",
    "    c1 = 1.\n",
    "    c4 = zs[0]-zd\n",
    "    w = np.zeros((n+1,m+1))\n",
    "    w[0,0] = 1.\n",
    "    \n",
    "    for i in range(1,n+1):\n",
    "        mn = min(i,m)\n",
    "        c2 = 1.\n",
    "        c5 = c4\n",
    "        c4 = zs[i]-zd\n",
    "        \n",
    "        for j in range(i):\n",
    "            c3 = zs[i]-zs[j]\n",
    "            c2 = c2*c3\n",
    "            \n",
    "            if j==i-1:\n",
    "                for k in range(mn,0,-1):\n",
    "                    w[i,k] = c1*(k*w[i-1,k-1] - c5*w[i-1,k])/c2\n",
    "                w[i,0] = -c1*c5*w[i-1,0]/c2\n",
    "                \n",
    "            for k in range(mn,0,-1):\n",
    "                w[j,k] = (c4*w[j,k] - k*w[j,k-1])/c3\n",
    "            w[j,0] = c4*w[j,0]/c3\n",
    "        \n",
    "        c1 = c2\n",
    "        \n",
    "        if fullw:\n",
    "            return w\n",
    "        else:\n",
    "            w_ = w[:,-1]\n",
    "            return w_\n"
   ]
  },
  {
   "cell_type": "code",
   "execution_count": 30,
   "metadata": {
    "collapsed": true
   },
   "outputs": [],
   "source": [
    "def five_point_biased_upwind_D1(z,v):\n",
    "    \n",
    "    m=1      \n",
    "    ns=5\n",
    "    \n",
    "    #sparse discretization matrix \n",
    "    n = len(z)\n",
    "    #D = sparse(n,n), from matlab\n",
    "    D = csc_matrix((n,n), dtype=int).toarray()\n",
    "    \n",
    "    #(1)  finite difference approximation for positive v\n",
    "    \n",
    "    if (v > 0):\n",
    "        #boundary conditions\n",
    "        zs = z[0:ns]\n",
    "        for i in range(0,3):\n",
    "            zd = z[i]\n",
    "            w = weights(zd,zs,ns,m)\n",
    "            D[i,0:ns] = w[0:ns,m]\n",
    "            \n",
    "        # interior points\n",
    "        for i in range(3,n):\n",
    "            zs = z[i-3:i+1]\n",
    "            zd = z[i]\n",
    "            w  = weights(zd,zs,ns,m)\n",
    "            D[i,i-3:i+1]=w[1:ns,m+1]\n",
    "                \n",
    "            #boundary point\n",
    "            zs = z[n-ns+1:n]\n",
    "            zd = z[n]\n",
    "            w  = weights(zd,zs,ns,m)\n",
    "            D[n,n-ns+1:n] = w[1:ns,m+1]\n",
    "            \n",
    "    #(2)  finite difference approximation for negative v\n",
    "    if (v < 0):\n",
    "        # boundary point\n",
    "        zs = z[0:ns]\n",
    "        zd = z[0]\n",
    "        w  = weights(zd,zs,ns,m)\n",
    "        D[0,0:ns]= w[1:ns,m+1] # these need to transposed\n",
    "        \n",
    "        # interior points\n",
    "        for i in range(1,n-3):\n",
    "            zs = z[i-1:i+3]\n",
    "            zd = z[i]\n",
    "            w  = weights(zd,zs,ns,m)\n",
    "            D[i,i-1:i+3] = w[0:ns,m+1]\n",
    "            \n",
    "        # boundary points\n",
    "        zs = z[n-ns+1:n] # Check later the indices\n",
    "        for i in range(2,-1,-1):\n",
    "            zd = z(n-i+1)\n",
    "            w  = weights(zd,zs,ns,m)\n",
    "            D[n-i+1,n-4:n]= w[0:ns,m+1]\n",
    "    return D\n",
    "            "
   ]
  },
  {
   "cell_type": "code",
   "execution_count": null,
   "metadata": {
    "collapsed": true
   },
   "outputs": [],
   "source": []
  },
  {
   "cell_type": "code",
   "execution_count": 31,
   "metadata": {
    "collapsed": true
   },
   "outputs": [],
   "source": [
    "def five_point_centered_D2(z):\n",
    "    \n",
    "    # parameters\n",
    "    m=2                # highest derivative for which weights are sought\n",
    "    ns=5               # number of points in the stencil\n",
    "    \n",
    "    # sparse discretization matrix\n",
    "    \n",
    "    n = len(z)\n",
    "    #D = sparse(n,n)\n",
    "    D = csc_matrix((n,n), dtype=int).toarray()\n",
    "    \n",
    "    # boundary points\n",
    "    \n",
    "    zs = z[0:ns]\n",
    "    \n",
    "    for i in range(0,3):\n",
    "        zd = z[i]\n",
    "        w = weights(zd,zs,ns,m)\n",
    "        D[i,0:ns] = w[0:ns,m] # need to check the orientation whether transpose is needed\n",
    "        \n",
    "        \n",
    "    # interior points\n",
    "    for i in range(2,n-1):\n",
    "        zs = z[i-2:i+1]\n",
    "        zd = z[i]\n",
    "        w  = weights(zd,zs,ns,m)\n",
    "        D[i,i-2:i+1]=w[0:ns,m+1] # check this later\n",
    "    \n",
    "    # boundary points \n",
    "    zs = z[n-ns+2:n+1]\n",
    "    \n",
    "    for i in range(1,-1,1):        \n",
    "        zd = z[n-i+1]\n",
    "        w  =  weights(zd,zs,ns,m)\n",
    "        D[n-i+1,n-3:n]=w[0:ns,m+1] # check the return matrix\n",
    "    \n",
    "    return D\n",
    "        \n",
    "        "
   ]
  },
  {
   "cell_type": "code",
   "execution_count": null,
   "metadata": {
    "collapsed": true
   },
   "outputs": [],
   "source": []
  },
  {
   "cell_type": "code",
   "execution_count": null,
   "metadata": {
    "collapsed": true
   },
   "outputs": [],
   "source": []
  },
  {
   "cell_type": "code",
   "execution_count": 32,
   "metadata": {
    "collapsed": true
   },
   "outputs": [],
   "source": [
    "# def weights(zd,zs,ns,m):\n",
    "    \n",
    "    \n",
    "#     # input Parameters\n",
    "    \n",
    "#     # zd, location where the derivative is to be computed\n",
    "#     # ns, number of points in the stencil    \n",
    "#     # zs(ns), stencil of the finite difference scheme\n",
    "#     # m, highest derivative for which weights are sought\n",
    "#     # output Parameter\n",
    "#     # w(1:ns,1:m+1), weights at grid locations z(1:ns) for derivatives\n",
    "#     # of order 0:m, found in w(1:ns,1:m+1)\n",
    "    \n",
    "#     c1 = 1.0\n",
    "#     c4 = zs[0]-zd\n",
    "    \n",
    "#     w = np.empty([5,3])\n",
    "    \n",
    "#     for k in range(0,m+1):\n",
    "#         for j in range(0,ns):\n",
    "#             w[j+1,k+1] = 0.0\n",
    "    \n",
    "#     w[0,0] = 1.0\n",
    "    \n",
    "#     for i in range(1,ns-1):\n",
    "#         mn = min(i,m)\n",
    "#         c2 = 1.0\n",
    "#         c5 = c4\n",
    "#         c4 = zs[i]-zd\n",
    "        \n",
    "#         for j in range(0,i-1+1):\n",
    "#             c3 = zs[i+1]-zs[j+1]\n",
    "#             c2 = c2*c3\n",
    "            \n",
    "#             if (j == i-1):\n",
    "#                 for k in range(mn,-1,-1):\n",
    "#                     w[i+1,k+1] = c1*(k*w[i,k]-c5*w[i,k+1])/c2\n",
    "                    \n",
    "#                 w[i+1,1] = -c1*c5*w[i,1]/c2\n",
    "                \n",
    "#             for k in range(mn,-1,-1):\n",
    "#                 w[j+1,k+1] = (c4*w[j+1,k+1]-k*w[j+1,k])/c3\n",
    "                \n",
    "#             w[j+1,1] = c4*w[j,1]/c3\n",
    "               \n",
    "#         c1 = c2\n",
    "        \n",
    "#     return w"
   ]
  },
  {
   "cell_type": "code",
   "execution_count": 33,
   "metadata": {},
   "outputs": [],
   "source": [
    "m=1      \n",
    "ns=5\n",
    "n = len(z)\n",
    "zs = z[1:ns]"
   ]
  },
  {
   "cell_type": "code",
   "execution_count": 34,
   "metadata": {},
   "outputs": [],
   "source": [
    "# for i in range(0,3):\n",
    "#     zd = z[i]\n",
    "#     c4 = zs[0]-zd\n",
    "w = np.zeros([ns,m+1])\n"
   ]
  },
  {
   "cell_type": "code",
   "execution_count": 35,
   "metadata": {},
   "outputs": [],
   "source": [
    "# w = np.zeros([ns,m+1])\n",
    "\n",
    "# for k in range(0,m+1):\n",
    "#     for j in range(0,ns):\n",
    "#         w[j+1,k+1] = 0.0\n",
    "\n",
    "\n",
    "# w[0,0] = 1.0"
   ]
  },
  {
   "cell_type": "code",
   "execution_count": 36,
   "metadata": {},
   "outputs": [
    {
     "data": {
      "text/plain": [
       "array([0.004])"
      ]
     },
     "execution_count": 36,
     "metadata": {},
     "output_type": "execute_result"
    }
   ],
   "source": [
    "D = csc_matrix((n,n), dtype=int).toarray()\n",
    "\n",
    "for i in range(0,3):\n",
    "    zd = z[i]\n",
    "zd"
   ]
  },
  {
   "cell_type": "code",
   "execution_count": 37,
   "metadata": {},
   "outputs": [],
   "source": [
    "w = weights(zd,zs,ns,m)"
   ]
  },
  {
   "cell_type": "code",
   "execution_count": 38,
   "metadata": {},
   "outputs": [],
   "source": [
    "w1= weights(zd,zs,ns,m,fullw=False)"
   ]
  },
  {
   "cell_type": "code",
   "execution_count": null,
   "metadata": {},
   "outputs": [],
   "source": []
  },
  {
   "cell_type": "code",
   "execution_count": null,
   "metadata": {},
   "outputs": [],
   "source": []
  },
  {
   "cell_type": "code",
   "execution_count": null,
   "metadata": {
    "collapsed": true
   },
   "outputs": [],
   "source": []
  },
  {
   "cell_type": "code",
   "execution_count": null,
   "metadata": {
    "collapsed": true
   },
   "outputs": [],
   "source": []
  }
 ],
 "metadata": {
  "kernelspec": {
   "display_name": "Python 3",
   "language": "python",
   "name": "python3"
  },
  "language_info": {
   "codemirror_mode": {
    "name": "ipython",
    "version": 3
   },
   "file_extension": ".py",
   "mimetype": "text/x-python",
   "name": "python",
   "nbconvert_exporter": "python",
   "pygments_lexer": "ipython3",
   "version": "3.6.3"
  }
 },
 "nbformat": 4,
 "nbformat_minor": 2
}
