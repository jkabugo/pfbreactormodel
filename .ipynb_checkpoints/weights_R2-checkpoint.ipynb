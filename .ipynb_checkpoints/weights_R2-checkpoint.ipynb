{
 "cells": [
  {
   "cell_type": "code",
   "execution_count": 1,
   "metadata": {
    "collapsed": true
   },
   "outputs": [],
   "source": [
    "import numpy as np\n",
    "#import scipy\n",
    "import math\n",
    "from scipy import integrate, LowLevelCallable\n",
    "from scipy.integrate import odeint,solve_ivp\n",
    "from scipy.sparse import csc_matrix\n",
    "import matplotlib.pyplot as plt\n",
    "import os, ctypes\n",
    "\n"
   ]
  },
  {
   "cell_type": "code",
   "execution_count": null,
   "metadata": {
    "collapsed": true
   },
   "outputs": [],
   "source": []
  },
  {
   "cell_type": "code",
   "execution_count": 2,
   "metadata": {
    "collapsed": true
   },
   "outputs": [],
   "source": [
    "#% spatial grid\n",
    "L = 0.5                                             #; % reactor length (m)\n",
    "z01 = 0.0                                           #;\n",
    "zL1 = 0.14                                          # ; % entrance (inert) section\n",
    "z02 = zL1                                           #;\n",
    "zL2 = z02 + 0.095                                   #; % catalyst section\n",
    "z03 = zL2                                           #;\n",
    "zL3 = L                                             #; %exit (inert) section\n",
    "n1 = 71                                             #;\n",
    "n2 = 71                                             #;\n",
    "n3 = 71                                             #;\n",
    "dz1 = (zL1-z01) / (n1-1)                          #;\n",
    "dz2 = (zL2-z02) / (n2-1)                          #;\n",
    "dz3 = (zL3-z03) / (n3-1)                          #;\n",
    "\n",
    "num_x = 0.00001                                   # a small added to separate reactor zones\n",
    "\n",
    "z1 = np.arange(z01,zL1+num_x,dz1,dtype=float)[:, np.newaxis]                       #' ;\n",
    "z2 = np.arange(z02,zL2+num_x,dz2,dtype=float)[:, np.newaxis]                       #' ;\n",
    "z3 = np.arange(z03,zL3+num_x,dz3,dtype=float)[:, np.newaxis]                       #' ;\n",
    "z  = np.concatenate((z1,z2,z3), axis=0)"
   ]
  },
  {
   "cell_type": "code",
   "execution_count": null,
   "metadata": {
    "collapsed": true
   },
   "outputs": [],
   "source": []
  },
  {
   "cell_type": "code",
   "execution_count": null,
   "metadata": {
    "collapsed": true
   },
   "outputs": [],
   "source": []
  },
  {
   "cell_type": "code",
   "execution_count": 3,
   "metadata": {
    "collapsed": true
   },
   "outputs": [],
   "source": [
    "m = 2\n",
    "ns = 5\n",
    "zs = z[0:ns]\n",
    "n = ns\n",
    "\n",
    "for i in range(0,3):\n",
    "    zd = z[i]\n"
   ]
  },
  {
   "cell_type": "code",
   "execution_count": null,
   "metadata": {},
   "outputs": [],
   "source": []
  },
  {
   "cell_type": "code",
   "execution_count": 4,
   "metadata": {
    "collapsed": true
   },
   "outputs": [],
   "source": [
    "def weights(zd,zs,ns,m):\n",
    "        \n",
    "    # input Parameters\n",
    "    \n",
    "    # zd, location where the derivative is to be computed\n",
    "    # ns, number of points in the stencil    \n",
    "    # zs(ns), stencil of the finite difference scheme\n",
    "    # m, highest derivative for which weights are sought\n",
    "    # output Parameter\n",
    "    # w(1:ns,1:m+1), weights at grid locations z(1:ns) for derivatives\n",
    "    # of order 0:m, found in w(1:ns,1:m+1)\n",
    "    \n",
    "    c1 = 1.0\n",
    "    c4 = zs[0]-zd\n",
    "    \n",
    "    w = np.zeros((ns,m+1))\n",
    "    w[0,0] = 1.0\n",
    "    \n",
    "    for i in range(1,ns):\n",
    "        mn = min(i,m)\n",
    "        c2 = 1.0\n",
    "        c5 = c4\n",
    "        c4 = zs[i]-zd\n",
    "        \n",
    "        for j in range(i):\n",
    "            c3 = zs[i]-zs[j]\n",
    "            c2 = c2*c3\n",
    "            \n",
    "            if j==i-1:\n",
    "                for k in range(mn,0,-1):\n",
    "                    w[i,k] = c1*(k*w[i-1,k-1] - c5*w[i-1,k])/c2\n",
    "                w[i,0] = -c1*c5*w[i-1,0]/c2\n",
    "                \n",
    "            for k in range(mn,0,-1):\n",
    "                w[j,k] = (c4*w[j,k] - k*w[j,k-1])/c3\n",
    "            w[j,0] = c4*w[j,0]/c3\n",
    "        c1 = c2\n",
    "    \n",
    "    return w"
   ]
  },
  {
   "cell_type": "code",
   "execution_count": null,
   "metadata": {
    "collapsed": true
   },
   "outputs": [],
   "source": []
  },
  {
   "cell_type": "code",
   "execution_count": 5,
   "metadata": {
    "collapsed": true
   },
   "outputs": [],
   "source": [
    "def fdcoeffF(k, xbar, x, fullC=False):\n",
    "    n = len(x) - 1\n",
    "    if k > n:\n",
    "        raise ValueError('*** len(x) must be larger than k')\n",
    "    \n",
    "    m = k  # for consistency with Fornberg's notation\n",
    "    c1 = 1.\n",
    "    c4 = x[0] - xbar\n",
    "    C = np.zeros((n+1,m+1))\n",
    "    C[0,0] = 1.\n",
    "    for i in range(1,n+1):\n",
    "        mn = min(i,m)\n",
    "        c2 = 1.\n",
    "        c5 = c4\n",
    "        c4 = x[i] - xbar\n",
    "        for j in range(i):\n",
    "            c3 = x[i] - x[j]\n",
    "            c2 = c2*c3\n",
    "            if j==i-1:\n",
    "                for s in range(mn,0,-1):\n",
    "                    C[i,s] = c1*(s*C[i-1,s-1] - c5*C[i-1,s])/c2\n",
    "                C[i,0] = -c1*c5*C[i-1,0]/c2\n",
    "            for s in range(mn,0,-1):\n",
    "                C[j,s] = (c4*C[j,s] - s*C[j,s-1])/c3\n",
    "            C[j,0] = c4*C[j,0]/c3\n",
    "        c1 = c2\n",
    "    \n",
    "    if fullC:\n",
    "        return C\n",
    "    else:\n",
    "        c = C[:,-1] # last column of C\n",
    "        return c"
   ]
  },
  {
   "cell_type": "code",
   "execution_count": null,
   "metadata": {
    "collapsed": true
   },
   "outputs": [],
   "source": []
  },
  {
   "cell_type": "code",
   "execution_count": 6,
   "metadata": {
    "collapsed": true
   },
   "outputs": [],
   "source": [
    "def weights_2(zd,zs,ns,m):\n",
    "    n = len(zs) - 1\n",
    "    if m > n:\n",
    "        raise ValueError('*** len(x) must be larger than k')\n",
    "    \n",
    "    c1 = 1.\n",
    "    c4 = zs[0] - zd\n",
    "    C = np.zeros((ns,m+1))\n",
    "    C[0,0] = 1.\n",
    "    for i in range(1,ns):\n",
    "        mn = min(i,m)\n",
    "        c2 = 1.\n",
    "        c5 = c4\n",
    "        c4 = zs[i] - zd\n",
    "        for j in range(i):\n",
    "            c3 = zs[i] - zs[j]\n",
    "            c2 = c2*c3\n",
    "            if j==i-1:\n",
    "                for s in range(mn,0,-1):\n",
    "                    C[i,s] = c1*(s*C[i-1,s-1] - c5*C[i-1,s])/c2\n",
    "                C[i,0] = -c1*c5*C[i-1,0]/c2\n",
    "            for s in range(mn,0,-1):\n",
    "                C[j,s] = (c4*C[j,s] - s*C[j,s-1])/c3\n",
    "            C[j,0] = c4*C[j,0]/c3\n",
    "        c1 = c2\n",
    "        \n",
    "    return C"
   ]
  },
  {
   "cell_type": "code",
   "execution_count": null,
   "metadata": {
    "collapsed": true
   },
   "outputs": [],
   "source": []
  },
  {
   "cell_type": "code",
   "execution_count": 7,
   "metadata": {
    "collapsed": true
   },
   "outputs": [],
   "source": [
    "w1 = weights(zd,zs,ns,m)"
   ]
  },
  {
   "cell_type": "code",
   "execution_count": 10,
   "metadata": {},
   "outputs": [
    {
     "data": {
      "text/plain": [
       "array([[-0.00000000e+00,  4.16666667e+01, -2.08333333e+04],\n",
       "       [ 0.00000000e+00, -3.33333333e+02,  3.33333333e+05],\n",
       "       [ 1.00000000e+00,  0.00000000e+00, -6.25000000e+05],\n",
       "       [-0.00000000e+00,  3.33333333e+02,  3.33333333e+05],\n",
       "       [ 0.00000000e+00, -4.16666667e+01, -2.08333333e+04]])"
      ]
     },
     "execution_count": 10,
     "metadata": {},
     "output_type": "execute_result"
    }
   ],
   "source": [
    "w1"
   ]
  },
  {
   "cell_type": "code",
   "execution_count": 8,
   "metadata": {
    "collapsed": true
   },
   "outputs": [],
   "source": [
    "w2 = fdcoeffF(m,zd,zs,fullC=True)"
   ]
  },
  {
   "cell_type": "code",
   "execution_count": 11,
   "metadata": {},
   "outputs": [
    {
     "data": {
      "text/plain": [
       "array([[-0.00000000e+00,  4.16666667e+01, -2.08333333e+04],\n",
       "       [ 0.00000000e+00, -3.33333333e+02,  3.33333333e+05],\n",
       "       [ 1.00000000e+00,  0.00000000e+00, -6.25000000e+05],\n",
       "       [-0.00000000e+00,  3.33333333e+02,  3.33333333e+05],\n",
       "       [ 0.00000000e+00, -4.16666667e+01, -2.08333333e+04]])"
      ]
     },
     "execution_count": 11,
     "metadata": {},
     "output_type": "execute_result"
    }
   ],
   "source": [
    "w2"
   ]
  },
  {
   "cell_type": "code",
   "execution_count": 9,
   "metadata": {
    "collapsed": true
   },
   "outputs": [],
   "source": [
    "w3 = weights_2(zd,zs,ns,m)"
   ]
  },
  {
   "cell_type": "code",
   "execution_count": 12,
   "metadata": {},
   "outputs": [
    {
     "data": {
      "text/plain": [
       "array([[-0.00000000e+00,  4.16666667e+01, -2.08333333e+04],\n",
       "       [ 0.00000000e+00, -3.33333333e+02,  3.33333333e+05],\n",
       "       [ 1.00000000e+00,  0.00000000e+00, -6.25000000e+05],\n",
       "       [-0.00000000e+00,  3.33333333e+02,  3.33333333e+05],\n",
       "       [ 0.00000000e+00, -4.16666667e+01, -2.08333333e+04]])"
      ]
     },
     "execution_count": 12,
     "metadata": {},
     "output_type": "execute_result"
    }
   ],
   "source": [
    "w3"
   ]
  },
  {
   "cell_type": "code",
   "execution_count": null,
   "metadata": {
    "collapsed": true
   },
   "outputs": [],
   "source": []
  },
  {
   "cell_type": "code",
   "execution_count": null,
   "metadata": {
    "collapsed": true
   },
   "outputs": [],
   "source": []
  },
  {
   "cell_type": "code",
   "execution_count": null,
   "metadata": {
    "collapsed": true
   },
   "outputs": [],
   "source": []
  },
  {
   "cell_type": "code",
   "execution_count": null,
   "metadata": {
    "collapsed": true
   },
   "outputs": [],
   "source": []
  }
 ],
 "metadata": {
  "kernelspec": {
   "display_name": "Python 3",
   "language": "python",
   "name": "python3"
  },
  "language_info": {
   "codemirror_mode": {
    "name": "ipython",
    "version": 3
   },
   "file_extension": ".py",
   "mimetype": "text/x-python",
   "name": "python",
   "nbconvert_exporter": "python",
   "pygments_lexer": "ipython3",
   "version": "3.6.3"
  }
 },
 "nbformat": 4,
 "nbformat_minor": 2
}
