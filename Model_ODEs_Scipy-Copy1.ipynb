{
 "cells": [
  {
   "cell_type": "code",
   "execution_count": 1,
   "metadata": {
    "collapsed": true
   },
   "outputs": [],
   "source": [
    "import numpy as np\n",
    "#import scipy\n",
    "from scipy import integrate, LowLevelCallable\n",
    "from scipy.integrate import odeint,solve_ivp\n",
    "import matplotlib.pyplot as plt\n",
    "import os, ctypes\n"
   ]
  },
  {
   "cell_type": "code",
   "execution_count": null,
   "metadata": {
    "collapsed": true
   },
   "outputs": [],
   "source": []
  },
  {
   "cell_type": "code",
   "execution_count": 2,
   "metadata": {
    "collapsed": true
   },
   "outputs": [],
   "source": [
    "# def mult_rxn(c,t):\n",
    "#     cA = c[0]\n",
    "#     cB = c[1]\n",
    "#     cC = c[2]\n",
    "#     cD = c[3]\n",
    "#     k1 = 1.0\n",
    "#     k2 = 1.5\n",
    "#     r1 = k1*cA*cB\n",
    "#     r2 = k2*cB*cC\n",
    "#     dAdt = -r1\n",
    "#     dBdt = -r1-r2\n",
    "#     dCdt = r1-r2\n",
    "#     dDdt = r2\n",
    "#     return [dAdt,dBdt,dCdt,dDdt]"
   ]
  },
  {
   "cell_type": "code",
   "execution_count": 3,
   "metadata": {
    "collapsed": true
   },
   "outputs": [],
   "source": [
    "# continue to list a number of variables"
   ]
  },
  {
   "cell_type": "code",
   "execution_count": null,
   "metadata": {
    "collapsed": true
   },
   "outputs": [],
   "source": [
    "# Kinetic correlations and parameters\n",
    "# Billimoria 1981, Weng 1975 and Price 1977, the hydrogenation of Benzene example!!\n",
    "Pram = {'k0' = 3.17e-2,                  # kmol/kgsPa\n",
    "        'K0' = 3.17e13,                  # 1/Pa\n",
    "        'E' = 5.76e7,                    # J/kmol\n",
    "        'Q' = 6.89e7,                    # J/kmol\n",
    "        'kd0' = 1.80e-4,                 # 1/Pa/s\n",
    "        'Ed' = 4.53e6,                   # J/kmol\n",
    "        'R'  = 8.3145,                   # J/mol/K\n",
    "        'MT' = 4.05e-4,                  # kg/kmol (from Weng, 1.03e-3, mol/kg_catalyst)\n",
    "        'DeB' = 4.5e-5,                  # m2/s\n",
    "        'rho_Cp' = 1.46e-6              # J/m3/oC\n",
    "        'e' = 0.58\n",
    "       \n",
    "       }                  \n"
   ]
  },
  {
   "cell_type": "code",
   "execution_count": null,
   "metadata": {
    "collapsed": true
   },
   "outputs": [],
   "source": [
    "def lambda_e(LeH,rho_g,Cp_g,U,dp):\n",
    "    return 5.1*LeH+0.8*rho_g*Cp_g*U*dp"
   ]
  },
  {
   "cell_type": "code",
   "execution_count": null,
   "metadata": {
    "collapsed": true
   },
   "outputs": [],
   "source": [
    "def cp_g(xH,xB):\n",
    "    return (2.902*xH + 96.86*xB)*10^4"
   ]
  },
  {
   "cell_type": "code",
   "execution_count": null,
   "metadata": {
    "collapsed": true
   },
   "outputs": [],
   "source": [
    "def MW_g(xH,xB):\n",
    "    return 2.106*xH + 78.12*xB"
   ]
  },
  {
   "cell_type": "code",
   "execution_count": null,
   "metadata": {
    "collapsed": true
   },
   "outputs": [],
   "source": [
    "def rho_g(cB,xB,xH):\n",
    "    return cB*MW_g(xB,xH)/xB"
   ]
  },
  {
   "cell_type": "code",
   "execution_count": null,
   "metadata": {
    "collapsed": true
   },
   "outputs": [],
   "source": [
    "def r_B(P,xB,xH,T):\n",
    "    k0 = 3.17e-2                 \n",
    "    K0 = 3.17e13                  \n",
    "    E = 5.76e7                   \n",
    "    Q = 6.89e7  \n",
    "    R = 8.3145\n",
    "    r = (k0*K0*np.exp((Q-E)/(R*T))*P**2*xB*xH)/(1 + K0*np.exp(Q/(R*T))*P*xB)\n",
    "    return r\n",
    "\n",
    "def r_T(P,xB,xH,T):\n",
    "    r = (k0*K0*np.exp((Q-E)/(R*T))*P**2*xB*xH)/(1 + K0*np.exp(Q/(R*T))*P*xB)\n",
    "    return r"
   ]
  },
  {
   "cell_type": "code",
   "execution_count": null,
   "metadata": {
    "collapsed": true
   },
   "outputs": [],
   "source": []
  },
  {
   "cell_type": "code",
   "execution_count": 4,
   "metadata": {},
   "outputs": [],
   "source": [
    "params = {'D':0.01,'U':0.005,'k':0.055,'Le':0.0024,'DeltaH':2.062e10}"
   ]
  },
  {
   "cell_type": "code",
   "execution_count": 5,
   "metadata": {
    "collapsed": true
   },
   "outputs": [],
   "source": [
    "def R(c,k):\n",
    "    r = k*c\n",
    "    return r"
   ]
  },
  {
   "cell_type": "code",
   "execution_count": 6,
   "metadata": {
    "collapsed": true
   },
   "outputs": [],
   "source": [
    "def H(DeltaH,r):\n",
    "    Q = DeltaH*r\n",
    "    return Q"
   ]
  },
  {
   "cell_type": "code",
   "execution_count": null,
   "metadata": {
    "collapsed": true
   },
   "outputs": [],
   "source": []
  },
  {
   "cell_type": "code",
   "execution_count": 7,
   "metadata": {
    "collapsed": true
   },
   "outputs": [],
   "source": [
    "def mass_energy_bal(y, t,D,U,k,Le,DeltaH):\n",
    "    # Define concentrations and Temps according to the output y\n",
    "    c = y[::2]\n",
    "    T = y[1::2]\n",
    "    dx = c[1]-c[0]\n",
    "\n",
    "    # initialize the output derivatives\n",
    "    dydt = np.empty_like(y)\n",
    "\n",
    "    # from the interleaved output derivatives slice out dcdt and dTdt\n",
    "    # vectors in dydt.\n",
    "    dcdt = dydt[::2]\n",
    "    dTdt = dydt[1::2]\n",
    "\n",
    "    # Compute dc/dt and dT/dt considering the boundaries (end points) and the interior points\n",
    "    dcdt[0]    = D * (-2.0*c[0] + 2.0*c[1]) / dx**2 + R(c[0], k) + U*0\n",
    "    dcdt[1:-1] = D * np.diff(c,2) / dx**2 + R(c[1:-1], k) + U\n",
    "    dcdt[-1]   = D * (- 2.0*c[-1] + 2.0*c[-2]) / dx**2 + U*0 + R(c[-1],k)\n",
    "    \n",
    "    dTdt[0]    = Le * (-2.0*T[0] + 2.0*T[1]) / dx**2 + H(DeltaH,R(c[0], k)) + U*0 \n",
    "    dTdt[1:-1] = Le * np.diff(T,2) / dx**2 + U + H(DeltaH,R(c[1:-1], k))\n",
    "    dTdt[-1]   = Le * (-2.0*T[-1] + 2.0*T[-2]) / dx**2 + U*0 + H(DeltaH,R(c[-1],k))\n",
    "    return dydt"
   ]
  },
  {
   "cell_type": "code",
   "execution_count": 8,
   "metadata": {
    "collapsed": true
   },
   "outputs": [],
   "source": [
    "# dcdt[0]    = D * (-2.0*c[0] + 2.0*c[1]) / dx**2 + R(c[0], k) + U*(c[0]-c[0])/(dx) \n",
    "# dcdt[1:-1] = D * np.diff(c,2) / dx**2 + R(c[1:-1], k) + U*np.diff(c,1)/(dx) \n",
    "# dcdt[-1]   = D * (- 2.0*c[-1] + 2.0*c[-2]) / dx**2 + U*(c[-2]-c[-2])/(dx) + R(c[-1],k)\n",
    "    \n",
    "# dTdt[0]    = Le * (-2.0*T[0] + 2.0*T[1]) / dx**2 + U*(T[0]-T[0])/(dx)+ H(DeltaH,R(c[0], k)) \n",
    "# dTdt[1:-1] = Le * np.diff(T,2) / dx**2 + U*np.diff(T)/(dx) + H(DeltaH,R(c[1:-1], k))\n",
    "# dTdt[-1]   = Le * (-2.0*T[-1] + 2.0*T[-2]) / dx**2 + U*(T[-2]-T[-2])/(dx)+ H(DeltaH,R(c[-1],k))\n"
   ]
  },
  {
   "cell_type": "code",
   "execution_count": 9,
   "metadata": {},
   "outputs": [],
   "source": [
    "rng = np.random.default_rng()\n",
    "y0 = np.array([0.5,1,170,180,0.2,160])\n",
    "#y0 = rng.standard_normal(5000)\n",
    "\n",
    "t = np.linspace(0, 50, 101)\n",
    "D = params['D']\n",
    "U = params['U']\n",
    "k = params['k']\n",
    "Le = params['Le']\n",
    "DeltaH = params['DeltaH']"
   ]
  },
  {
   "cell_type": "code",
   "execution_count": 10,
   "metadata": {
    "collapsed": true
   },
   "outputs": [],
   "source": [
    "c = y0[::2]\n",
    "T = y0[1::2]"
   ]
  },
  {
   "cell_type": "code",
   "execution_count": 11,
   "metadata": {},
   "outputs": [
    {
     "data": {
      "text/plain": [
       "array([  1., 180.])"
      ]
     },
     "execution_count": 11,
     "metadata": {},
     "output_type": "execute_result"
    }
   ],
   "source": [
    "T"
   ]
  },
  {
   "cell_type": "code",
   "execution_count": null,
   "metadata": {
    "collapsed": true
   },
   "outputs": [],
   "source": []
  },
  {
   "cell_type": "code",
   "execution_count": 12,
   "metadata": {},
   "outputs": [],
   "source": [
    "solb = odeint(mass_energy_bal, y0, t, args= (D, U, k, Le, DeltaH), ml=2, mu=2)"
   ]
  },
  {
   "cell_type": "code",
   "execution_count": null,
   "metadata": {},
   "outputs": [],
   "source": []
  },
  {
   "cell_type": "code",
   "execution_count": 14,
   "metadata": {},
   "outputs": [
    {
     "data": {
      "image/png": "[encoded data removed]",
      "text/plain": [
       "<Figure size 432x288 with 1 Axes>"
      ]
     },
     "metadata": {
      "needs_background": "light"
     },
     "output_type": "display_data"
    }
   ],
   "source": [
    "plt.figure()\n",
    "plt.plot(solb)\n",
    "plt.show()"
   ]
  },
  {
   "cell_type": "code",
   "execution_count": null,
   "metadata": {
    "collapsed": true
   },
   "outputs": [],
   "source": []
  },
  {
   "cell_type": "code",
   "execution_count": 15,
   "metadata": {
    "collapsed": true
   },
   "outputs": [],
   "source": [
    "def mass_energy_bal2(t,y):\n",
    "    \n",
    "    Params = {'D':0.4e-4,'U':0.01,'k':0.055,\n",
    "              'Le':1.58,'DeltaH':2.062e8}\n",
    "    \n",
    "    D = params['D']\n",
    "    U = params['U']\n",
    "    k = params['k']\n",
    "    Le = params['Le']\n",
    "    DeltaH = params['DeltaH']\n",
    "       \n",
    "    c = y[::2]\n",
    "    T = y[1::2]\n",
    "    dx = c[1]-c[0]\n",
    "\n",
    "    # initialize the output derivatives\n",
    "    dydt = np.empty_like(y)\n",
    "\n",
    "    # slice out concentrations and Temps derivatives.\n",
    "    dcdt = dydt[::2]\n",
    "    dTdt = dydt[1::2]\n",
    "\n",
    "    # Compute dc/dt and dT/dt considering the boundaries (end points) and the interior points\n",
    "    \n",
    "    dcdt[0]    = D * (-2.0*c[0] + 2.0*c[1]) / dx**2 + R(c[0], k) + U\n",
    "    dcdt[1:-1] = D * np.diff(c,2) / dx**2 + R(c[1:-1], k) + U\n",
    "    dcdt[-1]   = D * (- 2.0*c[-1] + 2.0*c[-2]) / dx**2 + U + R(c[-1],k)\n",
    "    \n",
    "    dTdt[0]    = Le * (-2.0*T[0] + 2.0*T[1]) / dx**2 + H(DeltaH,R(c[0], k)) + U \n",
    "    dTdt[1:-1] = Le * np.diff(T,2) / dx**2 + U + H(DeltaH,R(c[1:-1], k))\n",
    "    dTdt[-1]   = Le * (-2.0*T[-1] + 2.0*T[-2]) / dx**2 + U + H(DeltaH,R(c[-1],k))\n",
    "\n",
    "    return dydt"
   ]
  },
  {
   "cell_type": "code",
   "execution_count": 16,
   "metadata": {},
   "outputs": [],
   "source": [
    "solc = solve_ivp(mass_energy_bal2,t,y0, method='RK45')\n"
   ]
  },
  {
   "cell_type": "code",
   "execution_count": 17,
   "metadata": {},
   "outputs": [
    {
     "data": {
      "text/plain": [
       "(11,)"
      ]
     },
     "execution_count": 17,
     "metadata": {},
     "output_type": "execute_result"
    }
   ],
   "source": [
    "solc.t.shape"
   ]
  },
  {
   "cell_type": "code",
   "execution_count": 18,
   "metadata": {},
   "outputs": [
    {
     "data": {
      "text/plain": [
       "(11,)"
      ]
     },
     "execution_count": 18,
     "metadata": {},
     "output_type": "execute_result"
    }
   ],
   "source": [
    "solc.y[0].shape"
   ]
  },
  {
   "cell_type": "code",
   "execution_count": 19,
   "metadata": {},
   "outputs": [
    {
     "data": {
      "image/png": "[encoded data removed]",
      "text/plain": [
       "<Figure size 432x288 with 1 Axes>"
      ]
     },
     "metadata": {
      "needs_background": "light"
     },
     "output_type": "display_data"
    }
   ],
   "source": [
    "plt.figure()\n",
    "plt.plot(solc.t)\n",
    "plt.plot(solc.t,solc.y[1])\n",
    "# plt.plot(solc.y[1])\n",
    "plt.show()"
   ]
  },
  {
   "cell_type": "code",
   "execution_count": 20,
   "metadata": {},
   "outputs": [
    {
     "name": "stdout",
     "output_type": "stream",
     "text": [
      "First order difference  :  [2 1 3 2]\n",
      "Second order difference :  [-1  2 -1]\n",
      "Third order difference  :  [ 3 -3]\n"
     ]
    }
   ],
   "source": [
    "# np.diff command\n",
    "b1 = np.array([1, 3, 4, 7, 9])\n",
    "print(\"First order difference  : \", np.diff(b1))\n",
    "print(\"Second order difference : \", np.diff(b1, n = 2))\n",
    "print(\"Third order difference  : \", np.diff(b1, n = 3))"
   ]
  },
  {
   "cell_type": "code",
   "execution_count": 21,
   "metadata": {
    "collapsed": true
   },
   "outputs": [],
   "source": [
    "# def f(y,t):\n",
    "#     dydt = y*np.exp(-t)\n",
    "#     return dydt\n",
    "# t = np.linspace(0,10) # linspace(start,stop,num =?)\n",
    "# y0 = 0.2\n",
    "# y = odeint(f,y0,t)\n",
    "\n",
    "# plt.figure(figsize = (6,4))\n",
    "# plt.plot(t,y)\n",
    "# plt.xlabel('Time (sec)')\n",
    "# plt.ylabel('y(t)')\n",
    "# plt.show()\n"
   ]
  },
  {
   "cell_type": "code",
   "execution_count": 22,
   "metadata": {
    "collapsed": true
   },
   "outputs": [],
   "source": [
    "#rng = np.random.default_rng(12345)"
   ]
  },
  {
   "cell_type": "code",
   "execution_count": null,
   "metadata": {},
   "outputs": [],
   "source": []
  },
  {
   "cell_type": "code",
   "execution_count": 23,
   "metadata": {
    "collapsed": true
   },
   "outputs": [],
   "source": [
    "# Example for empty arrays\n",
    "a = np.array([1,3,5])\n",
    "b = np.array([2,4,6])\n",
    "\n",
    "c = np.empty((a.size + b.size,), dtype=a.dtype)\n",
    "c[0::2] = a\n",
    "c[1::2] = b"
   ]
  },
  {
   "cell_type": "code",
   "execution_count": 24,
   "metadata": {},
   "outputs": [
    {
     "data": {
      "text/plain": [
       "array([  0.5,   1. , 170. , 180. ])"
      ]
     },
     "execution_count": 24,
     "metadata": {},
     "output_type": "execute_result"
    }
   ],
   "source": [
    "y0"
   ]
  },
  {
   "cell_type": "code",
   "execution_count": null,
   "metadata": {},
   "outputs": [],
   "source": []
  },
  {
   "cell_type": "code",
   "execution_count": null,
   "metadata": {},
   "outputs": [],
   "source": []
  },
  {
   "cell_type": "code",
   "execution_count": null,
   "metadata": {},
   "outputs": [],
   "source": []
  },
  {
   "cell_type": "code",
   "execution_count": null,
   "metadata": {},
   "outputs": [],
   "source": []
  },
  {
   "cell_type": "code",
   "execution_count": null,
   "metadata": {},
   "outputs": [],
   "source": []
  },
  {
   "cell_type": "code",
   "execution_count": 25,
   "metadata": {
    "collapsed": true
   },
   "outputs": [],
   "source": [
    "#%timeit sola = odeint(grayscott1d, y0, t, args=(f, k, Du, Dv, dx))\n",
    "#%timeit sola = odeint(grayscott1d, y0, t, args=(f, k, Du, Dv, dx))"
   ]
  },
  {
   "cell_type": "code",
   "execution_count": 26,
   "metadata": {
    "collapsed": true
   },
   "outputs": [],
   "source": [
    "#Now set ml=2 and mu=2, so odeint knows that the Jacobian matrix is banded:"
   ]
  },
  {
   "cell_type": "code",
   "execution_count": 27,
   "metadata": {},
   "outputs": [],
   "source": [
    "# %timeit solb = odeint(grayscott1d, y0, t, args=(f, k, Du, Dv, dx), ml=2, mu=2)\n",
    "# solb = odeint(grayscott1d, y0, t, args=(f, k, Du, Dv, dx), ml=2, mu=2)\n"
   ]
  },
  {
   "cell_type": "code",
   "execution_count": 28,
   "metadata": {
    "collapsed": true
   },
   "outputs": [],
   "source": [
    "#That is quite a bit faster!\n",
    "#Let’s ensure that they have computed the same result:"
   ]
  },
  {
   "cell_type": "code",
   "execution_count": null,
   "metadata": {
    "collapsed": true
   },
   "outputs": [],
   "source": []
  },
  {
   "cell_type": "code",
   "execution_count": null,
   "metadata": {
    "collapsed": true
   },
   "outputs": [],
   "source": []
  },
  {
   "cell_type": "code",
   "execution_count": null,
   "metadata": {
    "collapsed": true
   },
   "outputs": [],
   "source": []
  },
  {
   "cell_type": "code",
   "execution_count": null,
   "metadata": {
    "collapsed": true
   },
   "outputs": [],
   "source": []
  },
  {
   "cell_type": "code",
   "execution_count": 29,
   "metadata": {
    "collapsed": true
   },
   "outputs": [],
   "source": [
    "# ode_fn = lambda t, x: np.sin(t) + 3. * np.cos(2. * t) - x\n",
    "\n",
    "# an_sol = lambda t : (1./2.) * np.sin(t) - (1./2.) * np.cos(t) + \\\n",
    "#                     (3./5.) * np.cos(2.*t) + (6./5.) * np.sin(2.*t) - \\\n",
    "#                     (1./10.) * np.exp(-t)\n",
    "# t_begin=0.\n",
    "# t_end=10.\n",
    "# t_nsamples=100\n",
    "# t_space = np.linspace(t_begin, t_end, t_nsamples)\n",
    "# x_init = 0.\n",
    "\n",
    "# x_an_sol = an_sol(t_space)\n",
    "\n",
    "# method = 'RK45' #available methods: 'RK45', 'RK23', 'DOP853', 'Radau', 'BDF', 'LSODA'\n",
    "# num_sol = solve_ivp(ode_fn, [t_begin, t_end], [x_init], method=method, dense_output=True)\n",
    "# x_num_sol = num_sol.sol(t_space).T\n",
    "\n",
    "# plt.figure()\n",
    "# plt.plot(t_space, x_an_sol, '--', linewidth=2, label='analytical')\n",
    "# plt.plot(t_space, x_num_sol, linewidth=1, label='numerical')\n",
    "# plt.title('ODE 1st order IVP solved by SciPy with method=' + method)\n",
    "# plt.xlabel('t')\n",
    "# plt.ylabel('x')\n",
    "# plt.legend()\n",
    "# plt.show()"
   ]
  },
  {
   "cell_type": "code",
   "execution_count": null,
   "metadata": {
    "collapsed": true
   },
   "outputs": [],
   "source": []
  },
  {
   "cell_type": "code",
   "execution_count": null,
   "metadata": {
    "collapsed": true
   },
   "outputs": [],
   "source": []
  },
  {
   "cell_type": "code",
   "execution_count": null,
   "metadata": {
    "collapsed": true
   },
   "outputs": [],
   "source": []
  },
  {
   "cell_type": "code",
   "execution_count": 30,
   "metadata": {
    "collapsed": true
   },
   "outputs": [],
   "source": [
    "# # Reaction  A+B = C and B+C = D\n",
    "\n",
    "# def mult_rxn(c,t):\n",
    "#     cA = c[0]\n",
    "#     cB = c[1]\n",
    "#     cC = c[2]\n",
    "#     cD = c[3]\n",
    "#     k1 = 1.0\n",
    "#     k2 = 1.5\n",
    "#     r1 = k1*cA*cB\n",
    "#     r2 = k2*cB*cC\n",
    "#     dAdt = -r1\n",
    "#     dBdt = -r1-r2\n",
    "#     dCdt = r1-r2\n",
    "#     dDdt = r2\n",
    "#     return [dAdt,dBdt,dCdt,dDdt]\n",
    "\n",
    "# # for the solver\n",
    "# c0 = [1,1,0,0] # initial A and B = 1; C and D = 0\n",
    "# t = np.arange(0,3.01,0.2)\n",
    "# c = odeint(mult_rxn,c0,t)\n",
    "\n",
    "# cA = c[:,0]\n",
    "# cB = c[:,1]\n",
    "# cC = c[:,2]\n",
    "# cD = c[:,3]\n",
    "\n",
    "# # selectivity\n",
    "# S = np.empty(len(cC))\n",
    "# for i in range(len(cC)):\n",
    "#     if abs(cC[i]+cD[i] > 1e-10):\n",
    "#         S[i] = cC[i]/(cC[i]+cD[i])\n",
    "#     else:\n",
    "#         S[i] = 1.0\n",
    "        \n",
    "# plt.figure(figsize = (6,4))\n",
    "# plt.plot(t,cA,label = 'cA')\n",
    "# plt.plot(t,cB,label ='cB')\n",
    "# plt.plot(t,cC,label = 'cC')\n",
    "# plt.plot(t,cD,label ='cD')\n",
    "# plt.plot(t,S,label ='Sel')\n",
    "# plt.xlabel('Time (sec)')\n",
    "# plt.ylabel('concentration')\n",
    "# plt.legend()\n",
    "# plt.savefig('mult_rxns.png')\n",
    "# plt.show()"
   ]
  },
  {
   "cell_type": "code",
   "execution_count": null,
   "metadata": {
    "collapsed": true
   },
   "outputs": [],
   "source": []
  },
  {
   "cell_type": "code",
   "execution_count": 31,
   "metadata": {
    "collapsed": true
   },
   "outputs": [],
   "source": [
    "# solving the Heat Equation\n",
    "# given details"
   ]
  },
  {
   "cell_type": "code",
   "execution_count": 32,
   "metadata": {
    "collapsed": true
   },
   "outputs": [],
   "source": [
    "# l = 0.1 # wall thickness\n",
    "# n = 10 # num of slices\n",
    "# T0 = 0 # initial wall temps\n",
    "# T1s = 40 # wall surface temp. at the beginning\n",
    "# T2s = 20 # wall surface temp. at the end\n",
    "# dx = l/n\n",
    "# alpha = 0.0001 # thermal diffisivity\n",
    "# t_final = 60\n",
    "# dt = 0.1\n",
    "\n",
    "# # points to plot or visualize\n",
    "# x = np.linspace(dx/2,l-dx/2,n)\n",
    "# # Temp. measurements along x of the wall \n",
    "# T = np.ones(n)*T0 # \n",
    "# # derivative vector, to be over written\n",
    "# dTdt = np.empty(n)\n",
    "# # time vector\n",
    "# t = np.arange(0,t_final,dt)\n",
    "\n",
    "# #through time, t and space, x\n",
    "# #plt.clf() didn't work\n",
    "# for j in range(1,len(t)):    \n",
    "#     for i in range(1,n-1):\n",
    "#         dTdt[i] = alpha*(-(T[i]-T[i-1])/dx**2+(T[i+1]-T[i])/dx**2)\n",
    "#     dTdt[0] = alpha*(-(T[0]-T1s)/dx**2+(T[1]-T[0])/dx**2)\n",
    "#     dTdt[n-1] = alpha*(-(T[n-1]-T[n-2])/dx**2+(T2s-T[n-1])/dx**2)\n",
    "#     T = T + dTdt*dt\n",
    "# plt.figure()\n",
    "# plt.plot(x,T)\n",
    "# plt.axis([0, l,0, 50])\n",
    "# plt.xlabel('Distance x, (m)')\n",
    "# plt.ylabel('Temp., (C)')\n",
    "# plt.show()\n",
    "# plt.pause(0.01)"
   ]
  },
  {
   "cell_type": "code",
   "execution_count": 33,
   "metadata": {
    "collapsed": true
   },
   "outputs": [],
   "source": [
    "# Solve the heat equation using the odeint solver"
   ]
  },
  {
   "cell_type": "code",
   "execution_count": 34,
   "metadata": {
    "collapsed": true
   },
   "outputs": [],
   "source": [
    "# def heat_eqn(T,t):\n",
    "#     l = 0.1\n",
    "#     n = 10\n",
    "#     T0 = 0\n",
    "#     T1s = 40\n",
    "#     T2s = 20\n",
    "#     dx = l/n\n",
    "#     dt = 0.1\n",
    "#     alpha = 0.0001\n",
    "#     t_final = 60\n",
    "#     t = np.arange(0,t_final,dt)\n",
    "#     T = np.ones(n)*T0\n",
    "#     dTdt = np.empty(n)\n",
    "    \n",
    "#     for j in range(1,len(t)):\n",
    "#         for i in range(1,n-1):\n",
    "#             dTdt[i] = alpha*(-(T[i]-T[i-1])/dx**2+(T[i+1]-T[i])/dx**2)\n",
    "#     dTdt[0] = alpha*(-(T[0]-T1s)/dx**2+(T[1]-T[0])/dx**2)\n",
    "#     dTdt[n-1] = alpha*(-(T[n-1]-T[n-2])/dx**2+(T2s-T[n-1])/dx**2)\n",
    "#     return dTdt\n",
    "\n",
    "# # solve for temp. using the solver, odeint\n",
    "# l = 0.1\n",
    "# n = 10\n",
    "# T0 = 0\n",
    "# dx = l/n\n",
    "# T_0 = np.ones(n)*T0 # \n",
    "# t_final = 60\n",
    "# x = np.linspace(dx/2,l-dx/2,n)\n",
    "\n",
    "# dt = 0.1\n",
    "# x = np.linspace(dx/2,l-dx/2,n)\n",
    "# t = np.arange(0,t_final,dt)\n",
    "# T = np.ones(n)*T0\n",
    "# T = T + heat_eqn*dt\n",
    "# #T = odeint(heat_eqn,T_0,t) # did not work?!\n",
    "\n",
    "# plt.figure(figsize = (6,4))\n",
    "# plt.plot(x,T)\n",
    "# plt.axis([0, l,0, 50])\n",
    "# plt.xlabel('Distance (m)')\n",
    "# plt.ylabel('Temp.(C)')\n",
    "# plt.show()"
   ]
  },
  {
   "cell_type": "code",
   "execution_count": null,
   "metadata": {
    "collapsed": true
   },
   "outputs": [],
   "source": []
  }
 ],
 "metadata": {
  "kernelspec": {
   "display_name": "Python 3",
   "language": "python",
   "name": "python3"
  },
  "language_info": {
   "codemirror_mode": {
    "name": "ipython",
    "version": 3
   },
   "file_extension": ".py",
   "mimetype": "text/x-python",
   "name": "python",
   "nbconvert_exporter": "python",
   "pygments_lexer": "ipython3",
   "version": "3.6.3"
  }
 },
 "nbformat": 4,
 "nbformat_minor": 2
}
