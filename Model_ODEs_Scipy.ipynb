{
 "cells": [
  {
   "cell_type": "code",
   "execution_count": null,
   "metadata": {
    "collapsed": true
   },
   "outputs": [],
   "source": [
    "import numpy as np\n",
    "#import scipy\n",
    "from scipy import integrate, LowLevelCallable\n",
    "from scipy.integrate import odeint,solve_ivp\n",
    "import matplotlib.pyplot as plt\n",
    "import os, ctypes\n",
    "import timeit"
   ]
  },
  {
   "cell_type": "code",
   "execution_count": null,
   "metadata": {
    "collapsed": true
   },
   "outputs": [],
   "source": []
  },
  {
   "cell_type": "code",
   "execution_count": null,
   "metadata": {
    "collapsed": true
   },
   "outputs": [],
   "source": []
  },
  {
   "cell_type": "code",
   "execution_count": null,
   "metadata": {
    "collapsed": true
   },
   "outputs": [],
   "source": [
    "def G(u, v, f, k):\n",
    "    return f * (1 - u) - u*v**2\n",
    "\n",
    "def H(u, v, f, k):\n",
    "    return -(f + k) * v + u*v**2"
   ]
  },
  {
   "cell_type": "code",
   "execution_count": null,
   "metadata": {
    "collapsed": true
   },
   "outputs": [],
   "source": [
    "def grayscott1d(y, t, f, k, Du, Dv, dx):\n",
    "    \"\"\"\n",
    "    Differential equations for the 1-D Gray-Scott equations.\n",
    "\n",
    "    The ODEs are derived using the method of lines.\n",
    "    \"\"\"\n",
    "    # The vectors u and v are interleaved in y.  We define\n",
    "    # views of u and v by slicing y.\n",
    "    u = y[::2]\n",
    "    v = y[1::2]\n",
    "\n",
    "    # dydt is the return value of this function.\n",
    "    dydt = np.empty_like(y)\n",
    "\n",
    "    # Just like u and v are views of the interleaved vectors\n",
    "    # in y, dudt and dvdt are views of the interleaved output\n",
    "    # vectors in dydt.\n",
    "    dudt = dydt[::2]\n",
    "    dvdt = dydt[1::2]\n",
    "\n",
    "    # Compute du/dt and dv/dt.  The end points and the interior points\n",
    "    # are handled separately.\n",
    "    dudt[0]    = G(u[0],    v[0],    f, k) + Du * (-2.0*u[0] + 2.0*u[1]) / dx**2\n",
    "    dudt[1:-1] = G(u[1:-1], v[1:-1], f, k) + Du * np.diff(u,2) / dx**2\n",
    "    dudt[-1]   = G(u[-1],   v[-1],   f, k) + Du * (- 2.0*u[-1] + 2.0*u[-2]) / dx**2\n",
    "    dvdt[0]    = H(u[0],    v[0],    f, k) + Dv * (-2.0*v[0] + 2.0*v[1]) / dx**2\n",
    "    dvdt[1:-1] = H(u[1:-1], v[1:-1], f, k) + Dv * np.diff(v,2) / dx**2\n",
    "    dvdt[-1]   = H(u[-1],   v[-1],   f, k) + Dv * (-2.0*v[-1] + 2.0*v[-2]) / dx**2\n",
    "\n",
    "    return dydt"
   ]
  },
  {
   "cell_type": "code",
   "execution_count": null,
   "metadata": {
    "collapsed": true
   },
   "outputs": [],
   "source": []
  },
  {
   "cell_type": "code",
   "execution_count": null,
   "metadata": {
    "collapsed": true
   },
   "outputs": [],
   "source": [
    "# def f(y,t):\n",
    "#     dydt = y*np.exp(-t)\n",
    "#     return dydt\n",
    "# t = np.linspace(0,10) # linspace(start,stop,num =?)\n",
    "# y0 = 0.2\n",
    "# y = odeint(f,y0,t)\n",
    "\n",
    "# plt.figure(figsize = (6,4))\n",
    "# plt.plot(t,y)\n",
    "# plt.xlabel('Time (sec)')\n",
    "# plt.ylabel('y(t)')\n",
    "# plt.show()\n"
   ]
  },
  {
   "cell_type": "code",
   "execution_count": null,
   "metadata": {
    "collapsed": true
   },
   "outputs": [],
   "source": [
    "rng = np.random.default_rng()\n",
    "\n",
    "y0 = rng.standard_normal(5000)\n",
    "\n",
    "t = np.linspace(0, 50, 100)"
   ]
  },
  {
   "cell_type": "code",
   "execution_count": null,
   "metadata": {
    "collapsed": true
   },
   "outputs": [],
   "source": [
    "f = 0.024\n",
    "k = 0.055\n",
    "Du = 0.01\n",
    "Dv = 0.005\n",
    "dx = 0.025"
   ]
  },
  {
   "cell_type": "code",
   "execution_count": null,
   "metadata": {
    "collapsed": true
   },
   "outputs": [],
   "source": [
    "#Time the computation without taking advantage of the banded structure of the Jacobian matrix:\n"
   ]
  },
  {
   "cell_type": "code",
   "execution_count": null,
   "metadata": {},
   "outputs": [],
   "source": [
    "#%timeit sola = odeint(grayscott1d, y0, t, args=(f, k, Du, Dv, dx))\n",
    "#%timeit sola = odeint(grayscott1d, y0, t, args=(f, k, Du, Dv, dx))"
   ]
  },
  {
   "cell_type": "code",
   "execution_count": null,
   "metadata": {
    "collapsed": true
   },
   "outputs": [],
   "source": [
    "#Now set ml=2 and mu=2, so odeint knows that the Jacobian matrix is banded:"
   ]
  },
  {
   "cell_type": "code",
   "execution_count": null,
   "metadata": {},
   "outputs": [],
   "source": [
    "#%timeit solb = odeint(grayscott1d, y0, t, args=(f, k, Du, Dv, dx), ml=2, mu=2)\n",
    "#solb = odeint(grayscott1d, y0, t, args=(f, k, Du, Dv, dx), ml=2, mu=2)\n"
   ]
  },
  {
   "cell_type": "code",
   "execution_count": null,
   "metadata": {
    "collapsed": true
   },
   "outputs": [],
   "source": [
    "#That is quite a bit faster!\n",
    "#Let’s ensure that they have computed the same result:"
   ]
  },
  {
   "cell_type": "code",
   "execution_count": null,
   "metadata": {},
   "outputs": [],
   "source": [
    "#np.allclose(sola, solb)\n",
    "#solb"
   ]
  },
  {
   "cell_type": "code",
   "execution_count": null,
   "metadata": {
    "collapsed": true
   },
   "outputs": [],
   "source": []
  },
  {
   "cell_type": "code",
   "execution_count": null,
   "metadata": {
    "collapsed": true
   },
   "outputs": [],
   "source": []
  },
  {
   "cell_type": "code",
   "execution_count": null,
   "metadata": {
    "collapsed": true
   },
   "outputs": [],
   "source": []
  },
  {
   "cell_type": "code",
   "execution_count": null,
   "metadata": {
    "collapsed": true
   },
   "outputs": [],
   "source": [
    "# ode_fn = lambda t, x: np.sin(t) + 3. * np.cos(2. * t) - x\n",
    "\n",
    "# an_sol = lambda t : (1./2.) * np.sin(t) - (1./2.) * np.cos(t) + \\\n",
    "#                     (3./5.) * np.cos(2.*t) + (6./5.) * np.sin(2.*t) - \\\n",
    "#                     (1./10.) * np.exp(-t)\n",
    "# t_begin=0.\n",
    "# t_end=10.\n",
    "# t_nsamples=100\n",
    "# t_space = np.linspace(t_begin, t_end, t_nsamples)\n",
    "# x_init = 0.\n",
    "\n",
    "# x_an_sol = an_sol(t_space)\n",
    "\n",
    "# method = 'RK45' #available methods: 'RK45', 'RK23', 'DOP853', 'Radau', 'BDF', 'LSODA'\n",
    "# num_sol = solve_ivp(ode_fn, [t_begin, t_end], [x_init], method=method, dense_output=True)\n",
    "# x_num_sol = num_sol.sol(t_space).T\n",
    "\n",
    "# plt.figure()\n",
    "# plt.plot(t_space, x_an_sol, '--', linewidth=2, label='analytical')\n",
    "# plt.plot(t_space, x_num_sol, linewidth=1, label='numerical')\n",
    "# plt.title('ODE 1st order IVP solved by SciPy with method=' + method)\n",
    "# plt.xlabel('t')\n",
    "# plt.ylabel('x')\n",
    "# plt.legend()\n",
    "# plt.show()"
   ]
  },
  {
   "cell_type": "code",
   "execution_count": null,
   "metadata": {
    "collapsed": true
   },
   "outputs": [],
   "source": []
  },
  {
   "cell_type": "code",
   "execution_count": null,
   "metadata": {
    "collapsed": true
   },
   "outputs": [],
   "source": []
  },
  {
   "cell_type": "code",
   "execution_count": null,
   "metadata": {
    "collapsed": true
   },
   "outputs": [],
   "source": []
  },
  {
   "cell_type": "code",
   "execution_count": null,
   "metadata": {
    "collapsed": true
   },
   "outputs": [],
   "source": [
    "# # Reaction  A+B = C and B+C = D\n",
    "\n",
    "# def mult_rxn(c,t):\n",
    "#     cA = c[0]\n",
    "#     cB = c[1]\n",
    "#     cC = c[2]\n",
    "#     cD = c[3]\n",
    "#     k1 = 1.0\n",
    "#     k2 = 1.5\n",
    "#     r1 = k1*cA*cB\n",
    "#     r2 = k2*cB*cC\n",
    "#     dAdt = -r1\n",
    "#     dBdt = -r1-r2\n",
    "#     dCdt = r1-r2\n",
    "#     dDdt = r2\n",
    "#     return [dAdt,dBdt,dCdt,dDdt]\n",
    "\n",
    "# # for the solver\n",
    "# c0 = [1,1,0,0] # initial A and B = 1; C and D = 0\n",
    "# t = np.arange(0,3.01,0.2)\n",
    "# c = odeint(mult_rxn,c0,t)\n",
    "\n",
    "# cA = c[:,0]\n",
    "# cB = c[:,1]\n",
    "# cC = c[:,2]\n",
    "# cD = c[:,3]\n",
    "\n",
    "# # selectivity\n",
    "# S = np.empty(len(cC))\n",
    "# for i in range(len(cC)):\n",
    "#     if abs(cC[i]+cD[i] > 1e-10):\n",
    "#         S[i] = cC[i]/(cC[i]+cD[i])\n",
    "#     else:\n",
    "#         S[i] = 1.0\n",
    "        \n",
    "# plt.figure(figsize = (6,4))\n",
    "# plt.plot(t,cA,label = 'cA')\n",
    "# plt.plot(t,cB,label ='cB')\n",
    "# plt.plot(t,cC,label = 'cC')\n",
    "# plt.plot(t,cD,label ='cD')\n",
    "# plt.plot(t,S,label ='Sel')\n",
    "# plt.xlabel('Time (sec)')\n",
    "# plt.ylabel('concentration')\n",
    "# plt.legend()\n",
    "# plt.savefig('mult_rxns.png')\n",
    "# plt.show()"
   ]
  },
  {
   "cell_type": "code",
   "execution_count": null,
   "metadata": {
    "collapsed": true
   },
   "outputs": [],
   "source": []
  },
  {
   "cell_type": "code",
   "execution_count": null,
   "metadata": {
    "collapsed": true
   },
   "outputs": [],
   "source": [
    "# solving the Heat Equation\n",
    "# given details"
   ]
  },
  {
   "cell_type": "code",
   "execution_count": null,
   "metadata": {
    "collapsed": true
   },
   "outputs": [],
   "source": [
    "# l = 0.1 # wall thickness\n",
    "# n = 10 # num of slices\n",
    "# T0 = 0 # initial wall temps\n",
    "# T1s = 40 # wall surface temp. at the beginning\n",
    "# T2s = 20 # wall surface temp. at the end\n",
    "# dx = l/n\n",
    "# alpha = 0.0001 # thermal diffisivity\n",
    "# t_final = 60\n",
    "# dt = 0.1\n",
    "\n",
    "# # points to plot or visualize\n",
    "# x = np.linspace(dx/2,l-dx/2,n)\n",
    "# # Temp. measurements along x of the wall \n",
    "# T = np.ones(n)*T0 # \n",
    "# # derivative vector, to be over written\n",
    "# dTdt = np.empty(n)\n",
    "# # time vector\n",
    "# t = np.arange(0,t_final,dt)\n",
    "\n",
    "# #through time, t and space, x\n",
    "# #plt.clf() didn't work\n",
    "# for j in range(1,len(t)):    \n",
    "#     for i in range(1,n-1):\n",
    "#         dTdt[i] = alpha*(-(T[i]-T[i-1])/dx**2+(T[i+1]-T[i])/dx**2)\n",
    "#     dTdt[0] = alpha*(-(T[0]-T1s)/dx**2+(T[1]-T[0])/dx**2)\n",
    "#     dTdt[n-1] = alpha*(-(T[n-1]-T[n-2])/dx**2+(T2s-T[n-1])/dx**2)\n",
    "#     T = T + dTdt*dt\n",
    "# plt.figure()\n",
    "# plt.plot(x,T)\n",
    "# plt.axis([0, l,0, 50])\n",
    "# plt.xlabel('Distance x, (m)')\n",
    "# plt.ylabel('Temp., (C)')\n",
    "# plt.show()\n",
    "# plt.pause(0.01)"
   ]
  },
  {
   "cell_type": "code",
   "execution_count": null,
   "metadata": {
    "collapsed": true
   },
   "outputs": [],
   "source": [
    "# Solve the heat equation using the odeint solver"
   ]
  },
  {
   "cell_type": "code",
   "execution_count": null,
   "metadata": {
    "collapsed": true
   },
   "outputs": [],
   "source": [
    "# def heat_eqn(T,t):\n",
    "#     l = 0.1\n",
    "#     n = 10\n",
    "#     T0 = 0\n",
    "#     T1s = 40\n",
    "#     T2s = 20\n",
    "#     dx = l/n\n",
    "#     dt = 0.1\n",
    "#     alpha = 0.0001\n",
    "#     t_final = 60\n",
    "#     t = np.arange(0,t_final,dt)\n",
    "#     T = np.ones(n)*T0\n",
    "#     dTdt = np.empty(n)\n",
    "    \n",
    "#     for j in range(1,len(t)):\n",
    "#         for i in range(1,n-1):\n",
    "#             dTdt[i] = alpha*(-(T[i]-T[i-1])/dx**2+(T[i+1]-T[i])/dx**2)\n",
    "#     dTdt[0] = alpha*(-(T[0]-T1s)/dx**2+(T[1]-T[0])/dx**2)\n",
    "#     dTdt[n-1] = alpha*(-(T[n-1]-T[n-2])/dx**2+(T2s-T[n-1])/dx**2)\n",
    "#     return dTdt\n",
    "\n",
    "# # solve for temp. using the solver, odeint\n",
    "# l = 0.1\n",
    "# n = 10\n",
    "# T0 = 0\n",
    "# dx = l/n\n",
    "# T_0 = np.ones(n)*T0 # \n",
    "# t_final = 60\n",
    "# x = np.linspace(dx/2,l-dx/2,n)\n",
    "\n",
    "# dt = 0.1\n",
    "# x = np.linspace(dx/2,l-dx/2,n)\n",
    "# t = np.arange(0,t_final,dt)\n",
    "# T = np.ones(n)*T0\n",
    "# T = T + heat_eqn*dt\n",
    "# #T = odeint(heat_eqn,T_0,t) # did not work?!\n",
    "\n",
    "# plt.figure(figsize = (6,4))\n",
    "# plt.plot(x,T)\n",
    "# plt.axis([0, l,0, 50])\n",
    "# plt.xlabel('Distance (m)')\n",
    "# plt.ylabel('Temp.(C)')\n",
    "# plt.show()"
   ]
  },
  {
   "cell_type": "code",
   "execution_count": null,
   "metadata": {
    "collapsed": true
   },
   "outputs": [],
   "source": []
  }
 ],
 "metadata": {
  "kernelspec": {
   "display_name": "Python 3",
   "language": "python",
   "name": "python3"
  },
  "language_info": {
   "codemirror_mode": {
    "name": "ipython",
    "version": 3
   },
   "file_extension": ".py",
   "mimetype": "text/x-python",
   "name": "python",
   "nbconvert_exporter": "python",
   "pygments_lexer": "ipython3",
   "version": "3.6.3"
  }
 },
 "nbformat": 4,
 "nbformat_minor": 2
}
