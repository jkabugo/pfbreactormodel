{
 "cells": [
  {
   "cell_type": "code",
   "execution_count": 1,
   "metadata": {
    "collapsed": true
   },
   "outputs": [],
   "source": [
    "import numpy as np\n",
    "#import scipy\n",
    "import math\n",
    "from scipy import integrate, LowLevelCallable\n",
    "from scipy.integrate import odeint,solve_ivp\n",
    "import matplotlib.pyplot as plt\n",
    "import os, ctypes\n"
   ]
  },
  {
   "cell_type": "code",
   "execution_count": null,
   "metadata": {
    "collapsed": true
   },
   "outputs": [],
   "source": []
  },
  {
   "cell_type": "code",
   "execution_count": 2,
   "metadata": {
    "collapsed": true
   },
   "outputs": [],
   "source": [
    "# Kinetic correlations and parameters\n",
    "# Billimoria 1981, Weng 1975 and Price 1977, the hydrogenation of Benzene example!!\n",
    "prams = {'k0': 3.17e-2,                 # kmol/kgsPa\n",
    "        'K0': 3.17e13,                 # 1/Pa\n",
    "        'E' : 5.76e7,                   # J/kmol\n",
    "        'Q': 6.89e7,                    # J/kmol (-) sign\n",
    "        'kd0': 1.80e-4,                 # 1/Pa/s\n",
    "        'Ed': 4.53e6,                   # J/kmol\n",
    "        'R': 8.3145,                    # J/mol/K\n",
    "        'MT': 4.05e-4,                  # kg/kmol (from Weng, 1.03e-3, mol/kg_catalyst)\n",
    "        'DeB': 4.5e-5,                  # m2/s\n",
    "        'rho_Cp': 1.46e-6,              # J/m3/oC\n",
    "        'eps': 0.58,\n",
    "        'rho_B': 4.14e-2,               # kg/m3\n",
    "        'dH': 2.09e8,                   # J/kmol\n",
    "        'alpha': 0.32,                  # J/m2K\n",
    "        'Le':1.48\n",
    "        }                 \n"
   ]
  },
  {
   "cell_type": "code",
   "execution_count": 3,
   "metadata": {
    "collapsed": true
   },
   "outputs": [],
   "source": [
    "# ccalculation of <rho*Cp>\n",
    "# <rho*Cp> = rho*Cp (catalyst + diluent) + rho*Cp (reactor wall + thermo_well) + rho_g*eps*Cp_g\n",
    "# rho*Cp (catalyst + diluent) = [W_T*Cp_c + (1-W_T)*Cp_d]*rho_B"
   ]
  },
  {
   "cell_type": "code",
   "execution_count": 4,
   "metadata": {
    "collapsed": true
   },
   "outputs": [],
   "source": [
    "def lambda_e(LeH,rho_g,Cp_g,U,dp):\n",
    "    return 5.1*LeH+0.8*rho_g*Cp_g*U*dp"
   ]
  },
  {
   "cell_type": "code",
   "execution_count": 5,
   "metadata": {
    "collapsed": true
   },
   "outputs": [],
   "source": [
    "def cp_g(xB,xH):\n",
    "    return (96.86*xB + 2.902*xH)*10**4"
   ]
  },
  {
   "cell_type": "code",
   "execution_count": 6,
   "metadata": {
    "collapsed": true
   },
   "outputs": [],
   "source": [
    "def mw_g(xB,xH):\n",
    "    return 78.12*xB + 2.106*xH"
   ]
  },
  {
   "cell_type": "code",
   "execution_count": 7,
   "metadata": {
    "collapsed": true
   },
   "outputs": [],
   "source": [
    "def rho_g_m1(cB,xB,xH):\n",
    "    return cB*MW_g(xB,xH)/xB"
   ]
  },
  {
   "cell_type": "code",
   "execution_count": 8,
   "metadata": {
    "collapsed": true
   },
   "outputs": [],
   "source": [
    "def rho_g_m2(MW_g,P,T0):\n",
    "    return MW_g*273.16*P/(22.161 + 1.0132e5*T0)"
   ]
  },
  {
   "cell_type": "code",
   "execution_count": 9,
   "metadata": {
    "collapsed": true
   },
   "outputs": [],
   "source": [
    "def cp_H(T):\n",
    "    return 2.9199e4 + 2.0515*(T-400)-1.256e-2*(T-499)**2"
   ]
  },
  {
   "cell_type": "code",
   "execution_count": 10,
   "metadata": {
    "collapsed": true
   },
   "outputs": [],
   "source": [
    "def cp_B(T):\n",
    "    return 1.1196e5 + 2.7528e2*(T-400)-2.1562e-1*(T-400)**2"
   ]
  },
  {
   "cell_type": "code",
   "execution_count": null,
   "metadata": {
    "collapsed": true
   },
   "outputs": [],
   "source": []
  },
  {
   "cell_type": "code",
   "execution_count": 11,
   "metadata": {
    "collapsed": true
   },
   "outputs": [],
   "source": [
    "dT_ad = lambda xB0,dH,MW_g,Cp_g: xB0*(-dH)/(MW_g*Cp_g)\n",
    "#dT_ad(0.5,120,65,4.14)"
   ]
  },
  {
   "cell_type": "code",
   "execution_count": 12,
   "metadata": {
    "collapsed": true
   },
   "outputs": [],
   "source": [
    "# Catalyst effectiveness parameters\n",
    "pramc = {'Blh': 1,           # no units\n",
    "         'Blm': 6.5,         # no units, assuming j_d = j_h\n",
    "         'h': 2.2e2,         # J/m2/s/oC\n",
    "         'km': 4.1e-2,       # m/s\n",
    "         'rB': 0.162,        # kmol/m3/s (= k1*cB), assuming kinetics of first order\n",
    "         'kl': 7.6e-2,       # m3/kg/s\n",
    "         'rho_c': 4.3e3,     # kg/m3\n",
    "         'Dc': 5.2e-6,       # m2/s\n",
    "         'Lc': 0.15,         # J/m/s/oC\n",
    "         'phi': 2.2,         # no units, r_p/(kl*rho_c/Dc)^(1/3),(2.2 for 12 mesh and 1.1 for 20 mesh)\n",
    "         'gma': 3.3,         # no units, E/RT = 2700/(1.98*413)\n",
    "         'bta': 8.56e-3      # no units, cB_0*(-dH)*Dc/(Lc*T_B) \n",
    "        }"
   ]
  },
  {
   "cell_type": "code",
   "execution_count": 13,
   "metadata": {
    "collapsed": true
   },
   "outputs": [],
   "source": [
    "def rB(P,xB,xH,a,T,prams):\n",
    "    k0 = prams['k0']                 \n",
    "    K0 = prams['K0']                 \n",
    "    E =  prams['E']                 \n",
    "    Q =  prams['Q']\n",
    "    R =  prams['R']\n",
    "    r = -(k0*K0*np.exp((-Q-E)/(R*T))*P**2*xB*xH)/(1 + K0*np.exp(-Q/(R*T))*P*xB)*a\n",
    "    return r\n",
    "\n",
    "def rT(P,xT,a,T,prams):\n",
    "    kd0 = prams['k0']   \n",
    "    Ed =  prams['Ed']                 \n",
    "    R =  prams['R']\n",
    "    MT = prams['MT']\n",
    "    r = -(kd0*np.exp((-Ed)/(R*T))*P*xT*a)*MT\n",
    "    return r"
   ]
  },
  {
   "cell_type": "code",
   "execution_count": null,
   "metadata": {
    "collapsed": true
   },
   "outputs": [],
   "source": []
  },
  {
   "cell_type": "code",
   "execution_count": 14,
   "metadata": {
    "collapsed": true
   },
   "outputs": [],
   "source": [
    "def R(c,k):\n",
    "    r = k*c\n",
    "    return r"
   ]
  },
  {
   "cell_type": "code",
   "execution_count": 15,
   "metadata": {
    "collapsed": true
   },
   "outputs": [],
   "source": [
    "def H(DeltaH,r):\n",
    "    Q = -DeltaH*r\n",
    "    return Q"
   ]
  },
  {
   "cell_type": "code",
   "execution_count": null,
   "metadata": {
    "collapsed": true
   },
   "outputs": [],
   "source": []
  },
  {
   "cell_type": "code",
   "execution_count": 16,
   "metadata": {},
   "outputs": [],
   "source": [
    "def mass_energy_bal(y, t):\n",
    "    # Define concentrations and Temps according to the output y\n",
    "   \n",
    "    c = y[::6]    # Benzene concentration\n",
    "    h = y[1::6]\n",
    "    s = y[2::6]   # sulfur concentration\n",
    "    a = y[3::6]   # catalyst activity\n",
    "    p = y[4::6]\n",
    "    T = y[5::6]   # Temperature\n",
    "    \n",
    "    dx = 0.025\n",
    "    P = 1.01e5*30\n",
    "    \n",
    "    pram = lambda x: x\n",
    "    prms = pram(prams)\n",
    "    \n",
    "    rho_B  = prms['rho_B']\n",
    "    eps    = prms['eps']\n",
    "    rho_Cp = prms['rho_Cp']\n",
    "    dH     = prms['dH']\n",
    "    Le     = prms['Le']\n",
    "    U      = 0.05 # m/s\n",
    "    P      = 1.03e5 # Pa\n",
    "    #T      = 343.15 # K\n",
    "    k0     = prms['k0']\n",
    "    K0     = prms['K0']\n",
    "    E      = prms['E']\n",
    "    Q      = prms['Q']\n",
    "    kd0    = prms['kd0']\n",
    "    R      = prms['R']\n",
    "    MT     = prms['MT']\n",
    "    D      = prms['DeB']\n",
    "    Ed     = prms['Ed']\n",
    "   \n",
    "    # initialize the output derivatives\n",
    "    dydt = np.empty_like(y)\n",
    "\n",
    "    # from the interleaved output derivatives slice out dcdt and dTdt\n",
    "    # vectors in dydt.\n",
    "    dcdt = dydt[::6]\n",
    "    dhdt = dydt[1::6]\n",
    "    dsdt = dydt[2::6]\n",
    "    dadt = dydt[3::6]\n",
    "    dpdt = dydt[4::6]\n",
    "    dTdt = dydt[5::6]\n",
    "\n",
    "    # Compute dc/dt and dT/dt considering the boundaries (end points) and the interior points\n",
    "    dcdt[0]    = D * (-2.0*c[0] + 2.0*c[1]) / dx**2 + U*0 + (mw_g(c[0],h[0])*rho_B)/(eps*rho_g_m2(mw_g(c[0],h[0]),P,T[0]))* \\\n",
    "                     rB(P,c[0],h[0],a[0],T[0],prams)\n",
    "    \n",
    "    dcdt[1:-1] = D * (c[:-2]-2.0*c[1:-1] + c[2:]) / dx**2 + U *(c[2:] - c[:-2])/(2*dx) + \\\n",
    "                     (mw_g(c[1:-1],h[1:-1])*rho_B)/(eps*rho_g_m2(mw_g(c[1:-1],h[1:-1]),P,T[1:-1]))* \\\n",
    "                     rB(P,c[1:-1],h[1:-1],a[1:-1],T[1:-1],prams)\n",
    "        \n",
    "    dcdt[-1]   = D * (- 2.0*c[-1] + 2.0*c[-2]) / dx**2 + U *(c[-1]-c[-2])/dx + \\\n",
    "                     (mw_g(c[-1],h[-1])*rho_B)/(eps*rho_g_m2(mw_g(c[-1],h[-1]),P,T[-1]))*rB(P,c[-1],h[-1],a[-1],T[-1],prams)\n",
    "    \n",
    "\n",
    "    dhdt[0]    = D * (-2.0*h[0] + 2.0*h[1]) / dx**2 + U*0 + (mw_g(c[0],h[0])*rho_B)/(eps*rho_g_m2(mw_g(c[0],h[0]),P,T[0]))* \\\n",
    "                      rB(P,c[0],h[0],a[0],T[0],prams)\n",
    "    \n",
    "    dhdt[1:-1] = D * (h[:-2]-2.0*h[1:-1] + h[2:]) / dx**2 + U *(h[2:] - h[:-2])/(2*dx) + \\\n",
    "                     (mw_g(c[1:-1],h[1:-1])*rho_B)/(eps*rho_g_m2(mw_g(c[1:-1],h[1:-1]),P,T[1:-1]))* \\\n",
    "                      rB(P,c[1:-1],h[1:-1],a[1:-1],T[1:-1],prams)    \n",
    "    \n",
    "    dhdt[-1]   = D * (- 2.0*h[-1] + 2.0*h[-2]) / dx**2 + U *(h[-1]-h[-2])/dx + \\\n",
    "                 (mw_g(c[-1],h[-1])*rho_B)/(eps*rho_g_m2(mw_g(c[-1],h[-1]),P,T[-1]))*rB(P,c[-1],h[-1],a[-1],T[-1],prams)\n",
    "    \n",
    "    \n",
    "                  \n",
    "    dsdt[0]    = D * (-2.0*s[0] + 2.0*s[1]) / dx**2 + U*0 + (mw_g(c[0],h[0])*rho_B)/(eps*rho_g_m2(mw_g(c[0],h[0]),P,T[0]))* \\\n",
    "                  rT(P,s[0],a[0],T[0],prams) \n",
    "                  \n",
    "    dsdt[1:-1] = D * (s[:-2]-2.0*c[1:-1] + s[2:]) / dx**2 + U *(s[2:] - s[:-2])/(2*dx) + \\\n",
    "                 (mw_g(c[1:-1],h[1:-1])*rho_B)/(eps*rho_g_m2(mw_g(c[1:-1],h[1:-1]),P,T[1:-1]))* rT(P,s[1:-1],a[1:-1],T[1:-1],prams)\n",
    "        \n",
    "    dsdt[-1]   = D * (- 2.0*s[-1] + 2.0*s[-2]) / dx**2 + U *(s[-1]-s[-2])/dx +\\\n",
    "                 (mw_g(c[-1],h[-1])*rho_B)/(eps*rho_g_m2(mw_g(c[-1],h[-1]),P,T[-1]))* rT(P,s[-1],a[-1],T[-1],prams)\n",
    "    \n",
    "    \n",
    "    dadt[0]    = rT(P,s[0],a[0],T[0],prams) \n",
    "    dadt[1:-1] = rT(P,s[1:-1],a[1:-1],T[1:-1],prams) \n",
    "    dadt[-1]   = rT(P,s[-1],a[-1],T[-1],prams)\n",
    "    \n",
    "    \n",
    "    dpdt[0]    = D * (-2.0*p[0] + 2.0*p[1]) / dx**2 + U*0 + (mw_g(c[0],h[0])*rho_B)/(eps*rho_g_m2(mw_g(c[0],h[0]),P,T[0]))* \\\n",
    "                     -rB(P,c[0],h[0],a[0],T[0],prams)\n",
    "    \n",
    "    dpdt[1:-1] = D * (p[:-2]-2.0*p[1:-1] + p[2:]) / dx**2 + U *(p[2:] - p[:-2])/(2*dx) + \\\n",
    "                     (mw_g(c[1:-1],h[1:-1])*rho_B)/(eps*rho_g_m2(mw_g(c[1:-1],h[1:-1]),P,T[1:-1]))* \\\n",
    "                     -rB(P,c[1:-1],h[1:-1],a[1:-1],T[1:-1],prams)\n",
    "        \n",
    "    dpdt[-1]   = D * (- 2.0*c[-1] + 2.0*c[-2]) / dx**2 + U *(c[-1]-c[-2])/dx + \\\n",
    "                     (mw_g(c[-1],h[-1])*rho_B)/(eps*rho_g_m2(mw_g(c[-1],h[-1]),P,T[-1]))* -rB(P,c[-1],h[-1],a[-1],T[-1],prams)\n",
    "    \n",
    "   \n",
    "    dTdt[0]    = Le/rho_Cp * (-2.0*T[0] + 2.0*T[1]) / dx**2 + (U*cp_g(c[0],h[0])*rho_g_m2(mw_g(c[0],h[0]),P,T[0]))/(rho_Cp*mw_g(c[0],h[0]))*0 + \\\n",
    "                  (eps*rho_g_m2(mw_g(c[0],h[0]),P,T[0]))/(rho_Cp*mw_g(c[0],h[0]))* H(dH,rB(P,c[0],h[0],a[0],T[0],prams)) \n",
    "                  \n",
    "    dTdt[1:-1] = Le/rho_Cp * (T[:-2]-2.0*T[1:-1] + T[2:]) / dx**2 + U*cp_g(c[1:-1],h[1:-1])*rho_g_m2(mw_g(c[1:-1],h[1:-1]),P,T[1:-1])/(rho_Cp*mw_g(c[1:-1],h[1:-1]))*(T[2:] - T[:-2])/(2*dx) + \\\n",
    "                  (eps*rho_g_m2(mw_g(c[1:-1],h[1:-1]),P,T[1:-1]))/(rho_Cp*mw_g(c[1:-1],h[1:-1]))* H(dH,rB(P,c[1:-1],h[1:-1],a[1:-1],T[1:-1],prams))\n",
    "                  \n",
    "    dTdt[-1]   = Le/rho_Cp * (-2.0*T[-1] + 2.0*T[-2]) / dx**2 + (U * cp_g(c[-1],h[-1])* rho_g_m2(mw_g(c[-1],h[-1]),P,T[-1])/(rho_Cp*mw_g(c[-1],h[-1]))) * (T[-1]-T[-2])/dx + \\\n",
    "                 (eps*rho_g_m2(mw_g(c[-1],h[-1]),P,T[-1]))/(rho_Cp*mw_g(c[-1],h[-1]))* H(dH,rB(P,c[-1],h[-1],a[-1],T[-1],prams))\n",
    "    \n",
    "    return dydt\n"
   ]
  },
  {
   "cell_type": "code",
   "execution_count": 17,
   "metadata": {
    "collapsed": true
   },
   "outputs": [],
   "source": [
    "# initial values"
   ]
  },
  {
   "cell_type": "code",
   "execution_count": 18,
   "metadata": {
    "collapsed": true
   },
   "outputs": [],
   "source": [
    "x0 = {'xB':0.0212,'xT':0.000212,'F0':1000, 'a':1,'xP':0,'T0':70, 'cT0':72} \n",
    "x_0 = [x0['xB'],1-x0['xB']-x0['xT']-x0['xP'],x0['xT'],x0['a'],x0['xP'],x0['T0']+273.15]"
   ]
  },
  {
   "cell_type": "code",
   "execution_count": 19,
   "metadata": {
    "collapsed": true
   },
   "outputs": [],
   "source": [
    "y_0 = x_0 + x_0"
   ]
  },
  {
   "cell_type": "code",
   "execution_count": 20,
   "metadata": {},
   "outputs": [
    {
     "data": {
      "text/plain": [
       "array([2.12000e-02, 9.78588e-01, 2.12000e-04, 1.00000e+00, 0.00000e+00,\n",
       "       3.43150e+02, 2.12000e-02, 9.78588e-01, 2.12000e-04, 1.00000e+00,\n",
       "       0.00000e+00, 3.43150e+02])"
      ]
     },
     "execution_count": 20,
     "metadata": {},
     "output_type": "execute_result"
    }
   ],
   "source": [
    "y0 = np.array(y_0)\n",
    "y0"
   ]
  },
  {
   "cell_type": "code",
   "execution_count": 21,
   "metadata": {
    "collapsed": true
   },
   "outputs": [],
   "source": [
    "# timespan/time interval"
   ]
  },
  {
   "cell_type": "code",
   "execution_count": 22,
   "metadata": {
    "collapsed": true
   },
   "outputs": [],
   "source": [
    "t = np.linspace(0, 50, 101)"
   ]
  },
  {
   "cell_type": "code",
   "execution_count": 23,
   "metadata": {
    "collapsed": true
   },
   "outputs": [],
   "source": [
    "#ODE solver"
   ]
  },
  {
   "cell_type": "code",
   "execution_count": 24,
   "metadata": {},
   "outputs": [
    {
     "data": {
      "text/plain": [
       "(101, 12)"
      ]
     },
     "execution_count": 24,
     "metadata": {},
     "output_type": "execute_result"
    }
   ],
   "source": [
    "solb = odeint(mass_energy_bal, y0, t, ml=2, mu=2)\n",
    "solb.shape"
   ]
  },
  {
   "cell_type": "code",
   "execution_count": 25,
   "metadata": {
    "collapsed": true
   },
   "outputs": [],
   "source": [
    "# Testing calculation of terms"
   ]
  },
  {
   "cell_type": "code",
   "execution_count": 26,
   "metadata": {
    "collapsed": true
   },
   "outputs": [],
   "source": [
    "xB = solb[:,0]\n",
    "xH = solb[:,1]\n",
    "xT = solb[:,2]\n",
    "a  = solb[:,3]\n",
    "xP = solb[:,4]  "
   ]
  },
  {
   "cell_type": "code",
   "execution_count": 27,
   "metadata": {
    "collapsed": true
   },
   "outputs": [],
   "source": [
    "# rho = 0.58*rho_g_m2(mw_g(c[0],h[0]),1.103e5,T[0])"
   ]
  },
  {
   "cell_type": "code",
   "execution_count": 28,
   "metadata": {
    "collapsed": true
   },
   "outputs": [],
   "source": [
    "#rB(1.103e5,c[0],h[0],a[0],T[0],prams)"
   ]
  },
  {
   "cell_type": "code",
   "execution_count": 29,
   "metadata": {
    "scrolled": true
   },
   "outputs": [
    {
     "data": {
      "image/png": "[encoded data removed]",
      "text/plain": [
       "<Figure size 432x288 with 1 Axes>"
      ]
     },
     "metadata": {
      "needs_background": "light"
     },
     "output_type": "display_data"
    }
   ],
   "source": [
    "plt.figure()\n",
    "plt.plot(t,xT)\n",
    "plt.show()"
   ]
  },
  {
   "cell_type": "code",
   "execution_count": null,
   "metadata": {
    "collapsed": true
   },
   "outputs": [],
   "source": []
  },
  {
   "cell_type": "code",
   "execution_count": 30,
   "metadata": {
    "collapsed": true
   },
   "outputs": [],
   "source": [
    "t_span = np.array([0,50])\n",
    "times = np.linspace(t_span[0], t_span[1], 101)"
   ]
  },
  {
   "cell_type": "code",
   "execution_count": 31,
   "metadata": {
    "collapsed": true
   },
   "outputs": [],
   "source": [
    "def mass_energy_bal2(t,y):\n",
    "    # Define concentrations and Temps according to the output y\n",
    "    c = y[::6]    # Benzene concentration\n",
    "    h = y[1::6]\n",
    "    s = y[2::6]   # sulfur concentration\n",
    "    a = y[3::6]   # catalyst activity\n",
    "    p = y[4::6]\n",
    "    T = y[5::6]   # Temperature\n",
    "    \n",
    "    dx = 0.025\n",
    "    P = 1.01e5 \n",
    "    \n",
    "    pram = lambda x: x\n",
    "    prms = pram(prams)\n",
    "    \n",
    "    rho_B  = prms['rho_B']\n",
    "    eps    = prms['eps']\n",
    "    rho_Cp = prms['rho_Cp']\n",
    "    dH     = prms['dH']\n",
    "    Le     = prms['Le']\n",
    "    U      = 0.05 # m/s\n",
    "    P      = 1.03e5 # Pa\n",
    "    #T      = 343.15 # K\n",
    "    k0     = prms['k0']\n",
    "    K0     = prms['K0']\n",
    "    E      = prms['E']\n",
    "    Q      = prms['Q']\n",
    "    kd0    = prms['kd0']\n",
    "    R      = prms['R']\n",
    "    MT     = prms['MT']\n",
    "    D      = prms['DeB']\n",
    "    Ed     = prms['Ed']\n",
    "   \n",
    "    # initialize the output derivatives\n",
    "    dydt = np.empty_like(y)\n",
    "\n",
    "    # from the interleaved output derivatives slice out dcdt and dTdt\n",
    "    # vectors in dydt.\n",
    "    dcdt = dydt[::6]\n",
    "    dhdt = dydt[1::6]\n",
    "    dsdt = dydt[2::6]\n",
    "    dadt = dydt[3::6]\n",
    "    dpdt = dydt[4::6]\n",
    "    dTdt = dydt[5::6]\n",
    "\n",
    "    # Compute dc/dt and dT/dt considering the boundaries (end points) and the interior points\n",
    "    dcdt[0]    = D * (-2.0*c[0] + 2.0*c[1]) / dx**2 + U*0 + (mw_g(c[0],h[0])*rho_B)/(eps*rho_g_m2(mw_g(c[0],h[0]),P,T[0]))* \\\n",
    "                     rB(P,c[0],h[0],a[0],T[0],prams)\n",
    "    \n",
    "    dcdt[1:-1] = D * (c[:-2]-2.0*c[1:-1] + c[2:]) / dx**2 + U *(c[2:] - c[:-2])/(2*dx) + \\\n",
    "                     (mw_g(c[1:-1],h[1:-1])*rho_B)/(eps*rho_g_m2(mw_g(c[1:-1],h[1:-1]),P,T[1:-1]))* \\\n",
    "                     rB(P,c[1:-1],h[1:-1],a[1:-1],T[1:-1],prams)\n",
    "        \n",
    "    dcdt[-1]   = D * (- 2.0*c[-1] + 2.0*c[-2]) / dx**2 + U *(c[-1]-c[-2])/dx + \\\n",
    "                     (mw_g(c[-1],h[-1])*rho_B)/(eps*rho_g_m2(mw_g(c[-1],h[-1]),P,T[-1]))*rB(P,c[-1],h[-1],a[-1],T[-1],prams)\n",
    "    \n",
    "\n",
    "    dhdt[0]    = D * (-2.0*h[0] + 2.0*h[1]) / dx**2 + U*0 + (mw_g(c[0],h[0])*rho_B)/(eps*rho_g_m2(mw_g(c[0],h[0]),P,T[0]))* \\\n",
    "                      rB(P,c[0],h[0],a[0],T[0],prams)\n",
    "    \n",
    "    dhdt[1:-1] = D * (h[:-2]-2.0*h[1:-1] + h[2:]) / dx**2 + U *(h[2:] - h[:-2])/(2*dx) + \\\n",
    "                     (mw_g(c[1:-1],h[1:-1])*rho_B)/(eps*rho_g_m2(mw_g(c[1:-1],h[1:-1]),P,T[1:-1]))* \\\n",
    "                      rB(P,c[1:-1],h[1:-1],a[1:-1],T[1:-1],prams)    \n",
    "    \n",
    "    dhdt[-1]   = D * (- 2.0*h[-1] + 2.0*h[-2]) / dx**2 + U *(h[-1]-h[-2])/dx + \\\n",
    "                 (mw_g(c[-1],h[-1])*rho_B)/(eps*rho_g_m2(mw_g(c[-1],h[-1]),P,T[-1]))*rB(P,c[-1],h[-1],a[-1],T[-1],prams)\n",
    "    \n",
    "    \n",
    "                  \n",
    "    dsdt[0]    = D * (-2.0*s[0] + 2.0*s[1]) / dx**2 + U*0 + (mw_g(c[0],h[0])*rho_B)/(eps*rho_g_m2(mw_g(c[0],h[0]),P,T[0]))* \\\n",
    "                  rT(P,s[0],a[0],T[0],prams) \n",
    "                  \n",
    "    dsdt[1:-1] = D * (s[:-2]-2.0*c[1:-1] + s[2:]) / dx**2 + U *(s[2:] - s[:-2])/(2*dx) + \\\n",
    "                 (mw_g(c[1:-1],h[1:-1])*rho_B)/(eps*rho_g_m2(mw_g(c[1:-1],h[1:-1]),P,T[1:-1]))* rT(P,s[1:-1],a[1:-1],T[1:-1],prams)\n",
    "        \n",
    "    dsdt[-1]   = D * (- 2.0*s[-1] + 2.0*s[-2]) / dx**2 + U *(s[-1]-s[-2])/dx +\\\n",
    "                 (mw_g(c[-1],h[-1])*rho_B)/(eps*rho_g_m2(mw_g(c[-1],h[-1]),P,T[-1]))* rT(P,s[-1],a[-1],T[-1],prams)\n",
    "    \n",
    "    \n",
    "    dadt[0]    = rT(P,s[0],a[0],T[0],prams) \n",
    "    dadt[1:-1] = rT(P,s[1:-1],a[1:-1],T[1:-1],prams) \n",
    "    dadt[-1]   = rT(P,s[-1],a[-1],T[-1],prams)\n",
    "    \n",
    "    \n",
    "    dpdt[0]    = D * (-2.0*p[0] + 2.0*p[1]) / dx**2 + U*0 + (mw_g(c[0],h[0])*rho_B)/(eps*rho_g_m2(mw_g(c[0],h[0]),P,T[0]))* \\\n",
    "                     -rB(P,c[0],h[0],a[0],T[0],prams)\n",
    "    \n",
    "    dpdt[1:-1] = D * (p[:-2]-2.0*p[1:-1] + p[2:]) / dx**2 + U *(p[2:] - p[:-2])/(2*dx) + \\\n",
    "                     (mw_g(c[1:-1],h[1:-1])*rho_B)/(eps*rho_g_m2(mw_g(c[1:-1],h[1:-1]),P,T[1:-1]))* \\\n",
    "                     -rB(P,c[1:-1],h[1:-1],a[1:-1],T[1:-1],prams)\n",
    "        \n",
    "    dpdt[-1]   = D * (- 2.0*c[-1] + 2.0*c[-2]) / dx**2 + U *(c[-1]-c[-2])/dx + \\\n",
    "                     (mw_g(c[-1],h[-1])*rho_B)/(eps*rho_g_m2(mw_g(c[-1],h[-1]),P,T[-1]))* -rB(P,c[-1],h[-1],a[-1],T[-1],prams)\n",
    "    \n",
    "   \n",
    "    dTdt[0]    = Le/rho_Cp * (-2.0*T[0] + 2.0*T[1]) / dx**2 + (U*cp_g(c[0],h[0])*rho_g_m2(mw_g(c[0],h[0]),P,T[0]))/(rho_Cp*mw_g(c[0],h[0]))*0 + \\\n",
    "                  (eps*rho_g_m2(mw_g(c[0],h[0]),P,T[0]))/(rho_Cp*mw_g(c[0],h[0]))* H(dH,rB(P,c[0],h[0],a[0],T[0],prams)) \n",
    "                  \n",
    "    dTdt[1:-1] = Le/rho_Cp * (T[:-2]-2.0*T[1:-1] + T[2:]) / dx**2 + U*cp_g(c[1:-1],h[1:-1])*rho_g_m2(mw_g(c[1:-1],h[1:-1]),P,T[1:-1])/(rho_Cp*mw_g(c[1:-1],h[1:-1]))*(T[2:] - T[:-2])/(2*dx) + \\\n",
    "                  (eps*rho_g_m2(mw_g(c[1:-1],h[1:-1]),P,T[1:-1]))/(rho_Cp*mw_g(c[1:-1],h[1:-1]))* H(dH,rB(P,c[1:-1],h[1:-1],a[1:-1],T[1:-1],prams))\n",
    "                  \n",
    "    dTdt[-1]   = Le/rho_Cp * (-2.0*T[-1] + 2.0*T[-2]) / dx**2 + (U * cp_g(c[-1],h[-1])* rho_g_m2(mw_g(c[-1],h[-1]),P,T[-1])/(rho_Cp*mw_g(c[-1],h[-1]))) * (T[-1]-T[-2])/dx + \\\n",
    "                 (eps*rho_g_m2(mw_g(c[-1],h[-1]),P,T[-1]))/(rho_Cp*mw_g(c[-1],h[-1]))* H(dH,rB(P,c[-1],h[-1],a[-1],T[-1],prams))\n",
    "    \n",
    "    return dydt\n"
   ]
  },
  {
   "cell_type": "code",
   "execution_count": null,
   "metadata": {
    "collapsed": true
   },
   "outputs": [],
   "source": []
  },
  {
   "cell_type": "code",
   "execution_count": 32,
   "metadata": {},
   "outputs": [],
   "source": [
    "solc = solve_ivp(mass_energy_bal2,t_span,y0, method='RK45', t_eval= times, dense_output=True,vectorized=True)"
   ]
  },
  {
   "cell_type": "code",
   "execution_count": 33,
   "metadata": {
    "collapsed": true
   },
   "outputs": [],
   "source": [
    "# solc"
   ]
  },
  {
   "cell_type": "code",
   "execution_count": 34,
   "metadata": {},
   "outputs": [
    {
     "data": {
      "text/plain": [
       "(101,)"
      ]
     },
     "execution_count": 34,
     "metadata": {},
     "output_type": "execute_result"
    }
   ],
   "source": [
    "solc.y[0].shape"
   ]
  },
  {
   "cell_type": "code",
   "execution_count": 35,
   "metadata": {
    "collapsed": true
   },
   "outputs": [],
   "source": [
    "x_solc1 = solc.sol(t).T"
   ]
  },
  {
   "cell_type": "code",
   "execution_count": null,
   "metadata": {
    "collapsed": true
   },
   "outputs": [],
   "source": []
  },
  {
   "cell_type": "code",
   "execution_count": 36,
   "metadata": {
    "scrolled": true
   },
   "outputs": [
    {
     "data": {
      "image/png": "[encoded data removed]",
      "text/plain": [
       "<Figure size 432x288 with 1 Axes>"
      ]
     },
     "metadata": {
      "needs_background": "light"
     },
     "output_type": "display_data"
    }
   ],
   "source": [
    "plt.figure()\n",
    "plt.plot(t, x_solc1, linewidth=1)\n",
    "plt.xlabel('t')\n",
    "plt.ylabel('x')\n",
    "plt.show()"
   ]
  },
  {
   "cell_type": "code",
   "execution_count": null,
   "metadata": {
    "collapsed": true
   },
   "outputs": [],
   "source": []
  },
  {
   "cell_type": "code",
   "execution_count": 37,
   "metadata": {},
   "outputs": [
    {
     "data": {
      "image/png": "[encoded data removed]",
      "text/plain": [
       "<Figure size 576x288 with 2 Axes>"
      ]
     },
     "metadata": {
      "needs_background": "light"
     },
     "output_type": "display_data"
    }
   ],
   "source": [
    "fig, axs = plt.subplots(1,2,figsize = (8,4))\n",
    "axs[0].plot(solc.t, solc.y[0])\n",
    "axs[1].plot(solc.t, solc.y[2])\n",
    "plt.show()"
   ]
  },
  {
   "cell_type": "code",
   "execution_count": 38,
   "metadata": {
    "collapsed": true
   },
   "outputs": [],
   "source": [
    "# Example \n",
    "#v(n) = u(n+1)-u(n-1)/2*dt\n",
    "#u'(0), v(0) = 0\n",
    "#n(n) = u(n)-u(n-1)/dt\n",
    "T = 100\n",
    "dt = 0.025\n",
    "Nt = int(round(T/dt))\n",
    "u = np.zeros(Nt+1)\n",
    "t = np.linspace(0, Nt*dt, Nt+1)"
   ]
  },
  {
   "cell_type": "code",
   "execution_count": 39,
   "metadata": {
    "collapsed": true
   },
   "outputs": [],
   "source": [
    "v = np.zeros_like(u) # or v = np.zeros(len(u))\n",
    "# Use central difference for internal points\n",
    "for i in range(1, len(u)-1):\n",
    "    v[i] = (u[i+1] - u[i-1])/(2*dt)\n",
    "# Use initial condition for u’(0) when i=0\n",
    "v[0] = 0.1\n",
    "# Use backward difference at the final mesh point\n",
    "v[-1] = (u[-1] - u[-2])/dt"
   ]
  },
  {
   "cell_type": "code",
   "execution_count": 40,
   "metadata": {
    "collapsed": true
   },
   "outputs": [],
   "source": [
    "v = np.zeros_like(u)\n",
    "v[1:-1] = (u[2:] - u[:-2])/(2*dt) # central difference\n",
    "v[0] = 0 # boundary condition u’(0)\n",
    "v[-1] = (u[-1] - u[-2])/dt # backward difference"
   ]
  },
  {
   "cell_type": "code",
   "execution_count": 41,
   "metadata": {},
   "outputs": [
    {
     "data": {
      "image/png": "[encoded data removed]",
      "text/plain": [
       "<Figure size 432x288 with 1 Axes>"
      ]
     },
     "metadata": {
      "needs_background": "light"
     },
     "output_type": "display_data"
    }
   ],
   "source": [
    "plt.figure()\n",
    "plt.plot(t, v, linewidth=1)\n",
    "plt.xlabel('t')\n",
    "plt.ylabel('x')\n",
    "plt.show()"
   ]
  },
  {
   "cell_type": "code",
   "execution_count": null,
   "metadata": {
    "collapsed": true
   },
   "outputs": [],
   "source": []
  },
  {
   "cell_type": "code",
   "execution_count": null,
   "metadata": {
    "collapsed": true
   },
   "outputs": [],
   "source": []
  },
  {
   "cell_type": "code",
   "execution_count": null,
   "metadata": {
    "collapsed": true
   },
   "outputs": [],
   "source": []
  }
 ],
 "metadata": {
  "kernelspec": {
   "display_name": "Python 3",
   "language": "python",
   "name": "python3"
  },
  "language_info": {
   "codemirror_mode": {
    "name": "ipython",
    "version": 3
   },
   "file_extension": ".py",
   "mimetype": "text/x-python",
   "name": "python",
   "nbconvert_exporter": "python",
   "pygments_lexer": "ipython3",
   "version": "3.6.3"
  }
 },
 "nbformat": 4,
 "nbformat_minor": 2
}
