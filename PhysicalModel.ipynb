{
 "cells": [
  {
   "cell_type": "code",
   "execution_count": 1,
   "metadata": {
    "collapsed": true
   },
   "outputs": [],
   "source": [
    "import numpy as np\n",
    "import matplotlib.pyplot as plt\n",
    "#%matplotlib inline\n",
    "#%matplotlib notebook\n",
    "import time"
   ]
  },
  {
   "cell_type": "code",
   "execution_count": 2,
   "metadata": {
    "collapsed": true
   },
   "outputs": [],
   "source": [
    "# # initial vales\n",
    "# L = 0.1 # wall thickness\n",
    "# n = 10\n",
    "# T0 = 0\n",
    "# T1s = 40\n",
    "# T2s = 20\n",
    "# dx = L/n\n",
    "# alpha = 0.0001\n",
    "# t_final = 60\n",
    "# dt = 0.1 # time step"
   ]
  },
  {
   "cell_type": "code",
   "execution_count": 3,
   "metadata": {
    "collapsed": true
   },
   "outputs": [],
   "source": [
    "# x = np.linspace(dx/2,L-dx/2, n)\n",
    "# T = np.ones(n)*T0\n",
    "# dTdt = np.empty(n)\n",
    "# t = np.arange(0,t_final, dt)"
   ]
  },
  {
   "cell_type": "code",
   "execution_count": 4,
   "metadata": {
    "collapsed": true
   },
   "outputs": [],
   "source": [
    "# fig = plt.figure()\n",
    "# ax = fig.add_subplot(111)\n",
    "\n",
    "# for j in range(1,len(t)):\n",
    "#     plt.ion()\n",
    "#     for i in range(1,n-1):\n",
    "#         dTdt[i] = alpha*(-(T[i]-T[i-1])/dx**2 + (T[i+1]-T[i])/dx**2)\n",
    "#     dTdt[0] = alpha*(-(T[0]-T1s)/dx**2 + (T[1]-T[0])/dx**2)\n",
    "#     dTdt[n-1] = alpha*(-(T[n-1]-T[n-2])/dx**2 + (T2s-T[n-1])/dx**2)\n",
    "#     T = T + dTdt*dt\n",
    "#     ax.plot(x,T)\n",
    "#     ax.set(xlim=(0, L), ylim=(0, 50))\n",
    "#     ax.set_xlabel('Distance (m)')\n",
    "#     ax.set_ylabel('Temp.(C)')\n",
    "#     fig.canvas.draw()\n",
    "#     plt.pause(0.05)       \n",
    "        "
   ]
  },
  {
   "cell_type": "markdown",
   "metadata": {
    "collapsed": true
   },
   "source": [
    "#### The two-dimensional diffusion equation model\n",
    "$$ \n",
    "\\begin{align}\n",
    "\\frac{\\partial{U}}{\\partial {t}} &= D\\left(\\frac{\\partial^2{U}}{\\partial {x^2}}+ \\frac{\\partial^2{U}}{\\partial{y^2}}\\right)\\\\ \\\\\n",
    "\\frac{u_{i,j}^{(n+1)}-u_{i,j}^{(n)}}{\\Delta t} & = D \\left[\\frac{u_{i+1,j}^{(n)} - 2u_{i,j}^{(n)} + u_{i-1,j}^{(n)}} {(\\Delta x)^2} + \\frac{u_{i,j+1}^{(n)} - 2u_{i,j}^{(n)} + u_{i,j-1}^{(n)}} {(\\Delta y)^2} \\right]\\\\ \\\\\n",
    "u_{i,j}^{(n+1)} & = u_{i,j}^{(n)} + D \\Delta t \\left[\\frac{u_{i+1,j}^{(n)} - 2u_{i,j}^{(n)} + u_{i-1,j}^{(n)}} {(\\Delta x)^2} + \\frac{u_{i,j+1}^{(n)} - 2u_{i,j}^{(n)} + u_{i,j-1}^{(n)}} {(\\Delta y)^2} \\right] \\\\ \\\\\n",
    "\\Delta t & = \\frac{1}{2D}\\frac{(\\Delta x \\Delta y)^2}{(\\Delta x)^2 + (\\Delta y)^2}\n",
    "\\end{align}\n",
    "$$\n"
   ]
  },
  {
   "cell_type": "code",
   "execution_count": 5,
   "metadata": {
    "collapsed": true
   },
   "outputs": [],
   "source": [
    "# for loop code, but has errors, so it is not correct\n",
    "try:\n",
    "    for i in range(1,nx-1):\n",
    "        for j in range(1,ny-1):\n",
    "            uxx = (u0[i+1,j] - 2*u0[i,j] + u0[i-1,j])/dx2\n",
    "            uyy = (u0[i,j+1] - 2*u0[i,j] + u0[i,j-1])/dy2\n",
    "            u[i,j] = u0[i,j] + dt*D*(uxx + uyy)\n",
    "except: \n",
    "    pass\n",
    "        "
   ]
  },
  {
   "cell_type": "code",
   "execution_count": 6,
   "metadata": {},
   "outputs": [
    {
     "name": "stdout",
     "output_type": "stream",
     "text": [
      "0 1\n",
      "10 2\n",
      "50 3\n",
      "100 4\n"
     ]
    },
    {
     "data": {
      "image/png": "[encoded data removed]",
      "text/plain": [
       "<Figure size 432x288 with 5 Axes>"
      ]
     },
     "metadata": {
      "needs_background": "light"
     },
     "output_type": "display_data"
    }
   ],
   "source": [
    "# plate size, mm\n",
    "w = h = 10.\n",
    "# intervals in x-, y- directions, mm\n",
    "dx = dy = 0.1\n",
    "# Thermal diffusivity of steel, mm2.s-1\n",
    "D = 4 \n",
    "\n",
    "Tcool, Thot = 300, 700\n",
    "\n",
    "nx, ny = int(w/dx), int(h/dy)\n",
    "\n",
    "dx2, dy2 = dx*dx, dy*dy\n",
    "dt = dx2 * dy2 / (2 * D * (dx2 + dy2))\n",
    "\n",
    "u0 = Tcool * np.ones((nx, ny))\n",
    "u = u0.copy()\n",
    "\n",
    "# Initial conditions - circle of radius r centred at (cx,cy) (mm)\n",
    "r, cx, cy = 3, 5, 5\n",
    "r2 = r**2\n",
    "for i in range(nx):\n",
    "    for j in range(ny):\n",
    "        p2 = (i*dx-cx)**2 + (j*dy-cy)**2\n",
    "        if p2 < r2:\n",
    "            u0[i,j] = Thot\n",
    "\n",
    "def do_timestep(u0, u):\n",
    "    # Propagate with forward-difference in time, central-difference in space\n",
    "    u[1:-1, 1:-1] = u0[1:-1, 1:-1] + D * dt * (\n",
    "          (u0[2:, 1:-1] - 2*u0[1:-1, 1:-1] + u0[:-2, 1:-1])/dx2\n",
    "          + (u0[1:-1, 2:] - 2*u0[1:-1, 1:-1] + u0[1:-1, :-2])/dy2 )\n",
    "\n",
    "    u0 = u.copy()\n",
    "    return u0, u\n",
    "\n",
    "# Number of timesteps\n",
    "nsteps = 101\n",
    "# Output 4 figures at these timesteps\n",
    "mfig = [0, 10, 50, 100]\n",
    "fignum = 0\n",
    "fig = plt.figure()\n",
    "for m in range(nsteps):\n",
    "    u0, u = do_timestep(u0, u)\n",
    "    if m in mfig:\n",
    "        fignum += 1\n",
    "        print(m, fignum)\n",
    "        ax = fig.add_subplot(220 + fignum)\n",
    "        im = ax.imshow(u.copy(), cmap=plt.get_cmap('hot'), vmin=Tcool,vmax=Thot)\n",
    "        ax.set_axis_off()\n",
    "        ax.set_title('{:.1f} ms'.format(m*dt*1000))\n",
    "fig.subplots_adjust(right=0.85)\n",
    "cbar_ax = fig.add_axes([0.9, 0.15, 0.03, 0.7])\n",
    "cbar_ax.set_xlabel('$T$ / K', labelpad=20)\n",
    "fig.colorbar(im, cax=cbar_ax)\n",
    "plt.show()"
   ]
  },
  {
   "cell_type": "code",
   "execution_count": null,
   "metadata": {
    "collapsed": true
   },
   "outputs": [],
   "source": []
  },
  {
   "cell_type": "markdown",
   "metadata": {},
   "source": [
    "#### The two-dimensional diffusion equation model\n",
    "$$ \n",
    "\\begin{align}\n",
    "\\frac{\\partial{U}}{\\partial {t}} &= D\\left(\\frac{\\partial^2{U}}{\\partial {x^2}}\\right)\\\\ \\\\\n",
    "\\frac{u_{i,j}^{(n+1)}-u_{i,j}^{(n)}}{\\Delta t} & = D \\left[\\frac{u_{i+1,j}^{(n)} - 2u_{i,j}^{(n)} + u_{i-1,j}^{(n)}} {(\\Delta x)^2} + \\frac{u_{i,j+1}^{(n)} - 2u_{i,j}^{(n)} + u_{i,j-1}^{(n)}} {(\\Delta y)^2} \\right]\\\\ \\\\\n",
    "u_{i,j}^{(n+1)} & = u_{i,j}^{(n)} + D \\Delta t \\left[\\frac{u_{i+1,j}^{(n)} - 2u_{i,j}^{(n)} + u_{i-1,j}^{(n)}} {(\\Delta x)^2} + \\frac{u_{i,j+1}^{(n)} - 2u_{i,j}^{(n)} + u_{i,j-1}^{(n)}} {(\\Delta y)^2} \\right] \\\\ \\\\\n",
    "\\Delta t & = \\frac{1}{2D}\\frac{(\\Delta x \\Delta y)^2}{(\\Delta x)^2 + (\\Delta y)^2}\n",
    "\\end{align}\n",
    "$$\n"
   ]
  },
  {
   "cell_type": "code",
   "execution_count": null,
   "metadata": {
    "collapsed": true
   },
   "outputs": [],
   "source": []
  },
  {
   "cell_type": "code",
   "execution_count": null,
   "metadata": {
    "collapsed": true
   },
   "outputs": [],
   "source": []
  },
  {
   "cell_type": "code",
   "execution_count": null,
   "metadata": {
    "collapsed": true
   },
   "outputs": [],
   "source": []
  },
  {
   "cell_type": "code",
   "execution_count": null,
   "metadata": {
    "collapsed": true
   },
   "outputs": [],
   "source": []
  },
  {
   "cell_type": "code",
   "execution_count": null,
   "metadata": {
    "collapsed": true
   },
   "outputs": [],
   "source": []
  },
  {
   "cell_type": "code",
   "execution_count": null,
   "metadata": {
    "collapsed": true
   },
   "outputs": [],
   "source": []
  },
  {
   "cell_type": "code",
   "execution_count": null,
   "metadata": {
    "collapsed": true
   },
   "outputs": [],
   "source": []
  },
  {
   "cell_type": "code",
   "execution_count": null,
   "metadata": {
    "collapsed": true
   },
   "outputs": [],
   "source": []
  },
  {
   "cell_type": "code",
   "execution_count": null,
   "metadata": {
    "collapsed": true
   },
   "outputs": [],
   "source": []
  },
  {
   "cell_type": "code",
   "execution_count": null,
   "metadata": {
    "collapsed": true
   },
   "outputs": [],
   "source": []
  },
  {
   "cell_type": "code",
   "execution_count": null,
   "metadata": {
    "collapsed": true
   },
   "outputs": [],
   "source": []
  }
 ],
 "metadata": {
  "kernelspec": {
   "display_name": "Python 3",
   "language": "python",
   "name": "python3"
  },
  "language_info": {
   "codemirror_mode": {
    "name": "ipython",
    "version": 3
   },
   "file_extension": ".py",
   "mimetype": "text/x-python",
   "name": "python",
   "nbconvert_exporter": "python",
   "pygments_lexer": "ipython3",
   "version": "3.6.3"
  }
 },
 "nbformat": 4,
 "nbformat_minor": 2
}
