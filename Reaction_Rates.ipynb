{
 "cells": [
  {
   "cell_type": "code",
   "execution_count": 1,
   "metadata": {
    "collapsed": true
   },
   "outputs": [],
   "source": [
    "import numpy as np\n",
    "from scipy import integrate, LowLevelCallable\n",
    "from scipy.integrate import odeint,solve_ivp\n",
    "import matplotlib.pyplot as plt\n",
    "import os, ctypes\n",
    "import time"
   ]
  },
  {
   "cell_type": "code",
   "execution_count": 2,
   "metadata": {
    "collapsed": true
   },
   "outputs": [],
   "source": [
    "# Initial values"
   ]
  },
  {
   "cell_type": "code",
   "execution_count": 3,
   "metadata": {
    "collapsed": true
   },
   "outputs": [],
   "source": [
    "x0 = {'xB':0.0212,'xT':0.000212,'F0':1000, 'a':1, 'T0':70, 'cT0':72, 'xP':0} \n",
    "x_0 = [x0['xB'],1-x0['xB']-x0['xT']-x0['xP'],x0['xT'],x0['a'],x0['xP'],x0['T0']+273.15]\n"
   ]
  },
  {
   "cell_type": "code",
   "execution_count": 4,
   "metadata": {},
   "outputs": [],
   "source": [
    "prams = {'k0': 3.17e-2,                      # kmol/kgsPa\n",
    "             'K0':3.17e13,                   # 1/Pa\n",
    "             'E' : 5.76e7,                   # J/kmol\n",
    "             'Q': 6.89e7,                    # J/kmol (-) sign\n",
    "             'kd0': 1.80e-4,                 # 1/Pa/s\n",
    "             'Ed': 4.53e6,                   # J/kmol\n",
    "             'R': 8.3145,                    # J/mol/K\n",
    "             'MT': 4.05e-4,                  # kg/kmol (from Weng, 1.03e-3, mol/kg_catalyst)\n",
    "             'DeB': 4.5e-5,                  # m2/s\n",
    "             'rho_Cp': 1.46e-6,              # J/m3/oC\n",
    "             'eps': 0.58,\n",
    "             'rho_B': 4.14e-2,               # kg/m3\n",
    "             'dH': 2.09e8,                   # J/kmol\n",
    "             'alpha': 0.32,                  # J/m2K\n",
    "             'Le':1.48                       # W/mK             \n",
    "              }\n"
   ]
  },
  {
   "cell_type": "code",
   "execution_count": 5,
   "metadata": {
    "collapsed": true
   },
   "outputs": [],
   "source": [
    "prm = lambda x: x"
   ]
  },
  {
   "cell_type": "code",
   "execution_count": 6,
   "metadata": {
    "collapsed": true
   },
   "outputs": [],
   "source": [
    "pr = prm(prams)"
   ]
  },
  {
   "cell_type": "code",
   "execution_count": 7,
   "metadata": {
    "collapsed": true
   },
   "outputs": [],
   "source": [
    "rho_B  = pr['rho_B']"
   ]
  },
  {
   "cell_type": "code",
   "execution_count": 8,
   "metadata": {
    "collapsed": true
   },
   "outputs": [],
   "source": [
    "def mw_g(xB,xH):\n",
    "    return 78.12*xB + 2.106*xH"
   ]
  },
  {
   "cell_type": "code",
   "execution_count": 9,
   "metadata": {
    "collapsed": true
   },
   "outputs": [],
   "source": [
    "def rho_g_m2(MW_g,P,T0):\n",
    "    return MW_g*273.16*P/(22.161 + 1.0132e5*T0)"
   ]
  },
  {
   "cell_type": "code",
   "execution_count": 10,
   "metadata": {
    "collapsed": true
   },
   "outputs": [],
   "source": [
    "def cp_g(xB,xH):\n",
    "    return (96.86*xB + 2.902*xH)*10**4"
   ]
  },
  {
   "cell_type": "code",
   "execution_count": null,
   "metadata": {
    "collapsed": true
   },
   "outputs": [],
   "source": []
  },
  {
   "cell_type": "code",
   "execution_count": 11,
   "metadata": {
    "collapsed": true
   },
   "outputs": [],
   "source": [
    "def dcdt(c,t):\n",
    "    xB = c[0]\n",
    "    xH = c[1]\n",
    "    xT = c[2]\n",
    "    a  = c[3]\n",
    "    xP = c[4]\n",
    "    \n",
    "    pram = lambda x: x\n",
    "    prms = pram(prams)\n",
    "    \n",
    "    rho_B  = prms['rho_B']\n",
    "    eps    = prms['eps']\n",
    "    rho_Cp = prms['rho_Cp']\n",
    "    dH     = prms['dH']\n",
    "    Le     = prms['Le']\n",
    "    u      = 0.01 # m/s\n",
    "    P      = 1.01e5*30 # Pa\n",
    "    T      = 343.15 # K\n",
    "    k0     = prms['k0']\n",
    "    K0     = prms['K0']\n",
    "    E      = prms['E']\n",
    "    Q      = prms['Q']\n",
    "    kd0    = prms['kd0']\n",
    "    R      = prms['R']\n",
    "    MT     = prms['MT']\n",
    "    DeB    = prms['DeB']\n",
    "    Ed     = prms['Ed']\n",
    "    \n",
    "    r1 = (k0*K0*np.exp((-Q-E)/(R*T))*P**2*xB*xH)/(1 + K0*np.exp(-Q/(R*T))*P*xB)*a\n",
    "    r2 = kd0*np.exp((-Ed)/(R*T))*P*xT*a\n",
    "    \n",
    "    dxBdt = -r1\n",
    "    dxHdt = -r1\n",
    "    dxPdt = r1\n",
    "    dadt  = -r2\n",
    "    dxTdt = -r2*MT\n",
    "    \n",
    "    return dxBdt,dxHdt,dxTdt,dadt,dxPdt\n",
    "    \n",
    "    \n",
    "        "
   ]
  },
  {
   "cell_type": "code",
   "execution_count": 12,
   "metadata": {
    "collapsed": true
   },
   "outputs": [],
   "source": [
    "# implement the ODE solver"
   ]
  },
  {
   "cell_type": "code",
   "execution_count": 13,
   "metadata": {},
   "outputs": [
    {
     "data": {
      "text/plain": [
       "[0.018, 0.981596, 0.000404, 1, 0]"
      ]
     },
     "execution_count": 13,
     "metadata": {},
     "output_type": "execute_result"
    }
   ],
   "source": [
    "# for the solver\n",
    "x_0 = [1.80e-2,1-1.80e-2-4.04e-4- 0,4.04e-4,1,0,56+273.15]\n",
    "c0 = x_0[:-1]\n",
    "c0"
   ]
  },
  {
   "cell_type": "code",
   "execution_count": 14,
   "metadata": {
    "collapsed": true
   },
   "outputs": [],
   "source": [
    "t_span = np.array([0,50])\n",
    "t = np.linspace(t_span[0], t_span[1], 101)"
   ]
  },
  {
   "cell_type": "code",
   "execution_count": 15,
   "metadata": {},
   "outputs": [
    {
     "data": {
      "text/plain": [
       "(101, 5)"
      ]
     },
     "execution_count": 15,
     "metadata": {},
     "output_type": "execute_result"
    }
   ],
   "source": [
    "c = odeint(dcdt,c0,t)\n",
    "c.shape"
   ]
  },
  {
   "cell_type": "code",
   "execution_count": 16,
   "metadata": {
    "collapsed": true
   },
   "outputs": [],
   "source": [
    "xB = c[:,0]\n",
    "xH = c[:,1]\n",
    "xT = c[:,2]\n",
    "a  = c[:,3]\n",
    "xP = c[:,4]"
   ]
  },
  {
   "cell_type": "code",
   "execution_count": 17,
   "metadata": {},
   "outputs": [
    {
     "data": {
      "image/png": "[encoded data removed]",
      "text/plain": [
       "<Figure size 432x288 with 1 Axes>"
      ]
     },
     "metadata": {
      "needs_background": "light"
     },
     "output_type": "display_data"
    }
   ],
   "source": [
    "plt.figure(figsize = (6,4))\n",
    "# plt.plot(t,xB,label = 'Benzene')\n",
    "# plt.plot(t,xH,label ='H2')\n",
    "# plt.plot(t,xT,label = 'Poison')\n",
    "plt.plot(t,xB,label ='activity')\n",
    "plt.xlabel('Time (sec)')\n",
    "plt.ylabel('Value')\n",
    "plt.legend()\n",
    "plt.show()"
   ]
  },
  {
   "cell_type": "code",
   "execution_count": null,
   "metadata": {
    "collapsed": true
   },
   "outputs": [],
   "source": []
  }
 ],
 "metadata": {
  "kernelspec": {
   "display_name": "Python 3",
   "language": "python",
   "name": "python3"
  },
  "language_info": {
   "codemirror_mode": {
    "name": "ipython",
    "version": 3
   },
   "file_extension": ".py",
   "mimetype": "text/x-python",
   "name": "python",
   "nbconvert_exporter": "python",
   "pygments_lexer": "ipython3",
   "version": "3.6.3"
  }
 },
 "nbformat": 4,
 "nbformat_minor": 2
}
