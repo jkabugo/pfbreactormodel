{
 "cells": [
  {
   "cell_type": "code",
   "execution_count": 1,
   "metadata": {
    "collapsed": true
   },
   "outputs": [],
   "source": [
    "import numpy as np\n",
    "#import scipy\n",
    "import math\n",
    "from scipy import integrate, LowLevelCallable\n",
    "from scipy.integrate import odeint,solve_ivp\n",
    "from scipy.sparse import csc_matrix\n",
    "import matplotlib.pyplot as plt\n",
    "import os, ctypes\n",
    "\n"
   ]
  },
  {
   "cell_type": "code",
   "execution_count": null,
   "metadata": {
    "collapsed": true
   },
   "outputs": [],
   "source": []
  },
  {
   "cell_type": "code",
   "execution_count": 2,
   "metadata": {
    "collapsed": true
   },
   "outputs": [],
   "source": [
    "#% spatial grid\n",
    "L = 0.5                                             #; % reactor length (m)\n",
    "z01 = 0.0                                           #;\n",
    "zL1 = 0.14                                          # ; % entrance (inert) section\n",
    "z02 = zL1                                           #;\n",
    "zL2 = z02 + 0.095                                   #; % catalyst section\n",
    "z03 = zL2                                           #;\n",
    "zL3 = L                                             #; %exit (inert) section\n",
    "n1 = 71                                             #;\n",
    "n2 = 71                                             #;\n",
    "n3 = 71                                             #;\n",
    "dz1 = (zL1-z01) / (n1-1)                          #;\n",
    "dz2 = (zL2-z02) / (n2-1)                          #;\n",
    "dz3 = (zL3-z03) / (n3-1)                          #;\n",
    "v   = 0.203                                       # intersticial velocity, m/s\n",
    "num_x = 0.00001                                   # a small added to separate reactor zones\n",
    "\n",
    "z1 = np.arange(z01,zL1+num_x,dz1,dtype=float)[:, np.newaxis]                       #' ;\n",
    "z2 = np.arange(z02,zL2+num_x,dz2,dtype=float)[:, np.newaxis]                       #' ;\n",
    "z3 = np.arange(z03,zL3+num_x,dz3,dtype=float)[:, np.newaxis]                       #' ;\n",
    "z  = np.concatenate((z1,z2,z3), axis=0)"
   ]
  },
  {
   "cell_type": "code",
   "execution_count": null,
   "metadata": {
    "collapsed": true
   },
   "outputs": [],
   "source": []
  },
  {
   "cell_type": "code",
   "execution_count": 3,
   "metadata": {
    "collapsed": true
   },
   "outputs": [],
   "source": [
    "def weights(zd,zs,ns,m):\n",
    "        \n",
    "    # input Parameters\n",
    "    \n",
    "    # zd, location where the derivative is to be computed\n",
    "    # ns, number of points in the stencil    \n",
    "    # zs(ns), stencil of the finite difference scheme\n",
    "    # m, highest derivative for which weights are sought\n",
    "    # output Parameter\n",
    "    # w(1:ns,1:m+1), weights at grid locations z(1:ns) for derivatives\n",
    "    # of order 0:m, found in w(1:ns,1:m+1)\n",
    "    \n",
    "    c1 = 1.0\n",
    "    c4 = zs[0]-zd\n",
    "    \n",
    "    w = np.zeros((ns,m+1))\n",
    "    w[0,0] = 1.0\n",
    "    \n",
    "    for i in range(1,ns):\n",
    "        mn = min(i,m)\n",
    "        c2 = 1.0\n",
    "        c5 = c4\n",
    "        c4 = zs[i]-zd\n",
    "        \n",
    "        for j in range(i):\n",
    "            c3 = zs[i]-zs[j]\n",
    "            c2 = c2*c3\n",
    "            \n",
    "            if j==i-1:\n",
    "                for k in range(mn,0,-1):\n",
    "                    w[i,k] = c1*(k*w[i-1,k-1] - c5*w[i-1,k])/c2\n",
    "                w[i,0] = -c1*c5*w[i-1,0]/c2\n",
    "                \n",
    "            for k in range(mn,0,-1):\n",
    "                w[j,k] = (c4*w[j,k] - k*w[j,k-1])/c3\n",
    "            w[j,0] = c4*w[j,0]/c3\n",
    "        c1 = c2\n",
    "    \n",
    "    return w"
   ]
  },
  {
   "cell_type": "code",
   "execution_count": null,
   "metadata": {
    "collapsed": true
   },
   "outputs": [],
   "source": []
  },
  {
   "cell_type": "code",
   "execution_count": 4,
   "metadata": {
    "collapsed": true
   },
   "outputs": [],
   "source": [
    "def five_point_biased_upwind_D1(z,v):\n",
    "    \n",
    "    m=1\n",
    "    ns=5\n",
    "    #sparse discretization matrix\n",
    "    \n",
    "    n = len(z)\n",
    "    #D = sparse(n,n), from matlab\n",
    "    D = csc_matrix((n,n), dtype=int).toarray()\n",
    "    #(1)  finite difference approximation for positive v\n",
    "    \n",
    "    if (v > 0):\n",
    "        #boundary conditions\n",
    "        zs = z[0:ns]\n",
    "        for i in range(0,3):\n",
    "            zd = z[i]\n",
    "            w = weights(zd,zs,ns,m)\n",
    "            D[i,0:ns] = w[0:ns,m] #.T\n",
    "            \n",
    "        # interior points\n",
    "        for i in range(3,n-1):\n",
    "            zs = z[i-3:i+2]\n",
    "            zd = z[i]\n",
    "            w  = weights(zd,zs,ns,m)\n",
    "            D[i,i-3:i+2]=w[0:ns,m]# m is calculate\n",
    "            \n",
    "        #boundary point\n",
    "        zs = z[n-ns:n]\n",
    "        zd = z[n-1]\n",
    "        w  = weights(zd,zs,ns,m)\n",
    "        D[n-1,n-ns:n] = w[0:ns,m]\n",
    "            \n",
    "    #(2)  finite difference approximation for negative v\n",
    "    if (v < 0):\n",
    "        # boundary point\n",
    "        zs = z[0:ns]\n",
    "        zd = z[0]\n",
    "        w  = weights(zd,zs,ns,m)\n",
    "        D[0,0:ns] = w[0:ns,m] # these need to transposed\n",
    "        \n",
    "        # interior points\n",
    "        for i in range(1,n-2):            \n",
    "            zs = z[i-1:i+4]\n",
    "            zd = z[i]\n",
    "            w  = weights(zd,zs,ns,m)\n",
    "            D[i,i-1:i+4] = w[0:ns,m] # can be checked later\n",
    "            \n",
    "        # boundary points\n",
    "        zs = z[n-ns:n] # Check later the indices\n",
    "        for i in range(3,0,-1):\n",
    "            zd = z[n-i]\n",
    "            w  = weights(zd,zs,ns,m)\n",
    "            D[n-i,n-5:n]= w[0:ns,m]            \n",
    "    return D"
   ]
  },
  {
   "cell_type": "code",
   "execution_count": 5,
   "metadata": {},
   "outputs": [],
   "source": [
    "#D1 = five_point_biased_upwind_D1(z,v)"
   ]
  },
  {
   "cell_type": "code",
   "execution_count": null,
   "metadata": {},
   "outputs": [],
   "source": []
  },
  {
   "cell_type": "code",
   "execution_count": 6,
   "metadata": {
    "collapsed": true
   },
   "outputs": [],
   "source": [
    "def five_point_centered_D2(z):\n",
    "    \n",
    "    # parameters\n",
    "    m=2                # highest derivative for which weights are sought\n",
    "    ns=5               # number of points in the stencil\n",
    "    \n",
    "    # sparse discretization matrix\n",
    "    \n",
    "    n = len(z)\n",
    "    #D = sparse(n,n)\n",
    "    D = csc_matrix((n,n), dtype=int).toarray()\n",
    "    \n",
    "    # boundary points\n",
    "    \n",
    "    zs = z[0:ns]\n",
    "    \n",
    "    for i in range(0,2):\n",
    "        zd = z[i]\n",
    "        w = weights(zd,zs,ns,m)\n",
    "        D[i,0:ns] = w[0:ns,m] # need to check the orientation whether transpose is needed\n",
    "        \n",
    "        \n",
    "    # interior points\n",
    "    for i in range(2,n-2):\n",
    "        zs = z[i-2:i+3]\n",
    "        zd = z[i]\n",
    "        w  = weights(zd,zs,ns,m)\n",
    "        D[i,i-2:i+3]=w[0:ns,m] # check this later\n",
    "    \n",
    "    \n",
    "    # boundary points \n",
    "    zs = z[n-ns:n]\n",
    "    \n",
    "    for i in range(2,0,-1): \n",
    "        zd = z[n-i]\n",
    "        w  =  weights(zd,zs,ns,m)\n",
    "        D[n-i,n-5:n]=w[0:ns,m] # check the return matrix\n",
    "    \n",
    "    return D\n",
    "        \n",
    "        "
   ]
  },
  {
   "cell_type": "code",
   "execution_count": 7,
   "metadata": {},
   "outputs": [],
   "source": [
    "#D2 = five_point_centered_D2(z)"
   ]
  },
  {
   "cell_type": "code",
   "execution_count": null,
   "metadata": {
    "collapsed": true
   },
   "outputs": [],
   "source": []
  },
  {
   "cell_type": "code",
   "execution_count": null,
   "metadata": {
    "collapsed": true
   },
   "outputs": [],
   "source": []
  },
  {
   "cell_type": "code",
   "execution_count": null,
   "metadata": {
    "collapsed": true
   },
   "outputs": [],
   "source": []
  },
  {
   "cell_type": "code",
   "execution_count": null,
   "metadata": {
    "collapsed": true
   },
   "outputs": [],
   "source": []
  }
 ],
 "metadata": {
  "kernelspec": {
   "display_name": "Python 3",
   "language": "python",
   "name": "python3"
  },
  "language_info": {
   "codemirror_mode": {
    "name": "ipython",
    "version": 3
   },
   "file_extension": ".py",
   "mimetype": "text/x-python",
   "name": "python",
   "nbconvert_exporter": "python",
   "pygments_lexer": "ipython3",
   "version": "3.6.3"
  }
 },
 "nbformat": 4,
 "nbformat_minor": 2
}
